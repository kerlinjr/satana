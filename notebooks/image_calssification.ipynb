{
 "cells": [
  {
   "metadata": {},
   "cell_type": "markdown",
   "source": [
    "Lets pretend I'm a HVAC repair company looking for clients to offer my services. I'd like to target my effort on customers that are most likely to use my services. I have access to aerial imagery of the roofs of houses in a city. I'd like to use this imagery to identify houses that have HVAC units on the roof that may be leaking. I have a set of 150 images labeled via spreadsheet in the following manner: \n",
    "\n",
    "'row_number' Images are numebred from 1 to 150  \n",
    "'image_id' - a unique identifier for each image, ending ing in .jpeg, referencing a file  \n",
    "'address' - The address of the house in the image  \n",
    "'ac_present' - Whether or not an air conditioner is present on the roof of the house (Yes or No), followed by the number of air conditioners present in '()'  \n",
    "'ac_leaking' - Whether or not the air conditioner is leaking (Yes, No or Unknown)  \n",
    "'ac_discolored' - Whether or not the roof around any AC unit is discolored (Black, White, No, Unknown). Also may be both black and white, comma separated: \"black, white\" OR \"white, black\"  \n",
    "'comments' - Any additional comments about the image from the labeler(s)  \n",
    "\n",
    "In the images, the target house is bounded by an orange square.  \n",
    "\n",
    "This will serve as my ground truth data. I'd like to build a model that can predict whether or not an air conditioner is leaking based on the aerial imagery of the roof of a house.\n",
    "\n",
    "Step 1: Preprocessing the data : Load the data labels spreadsheet from the folder /data/labels/. The optional \"number of air conditioners part in \"()\" should be split off and moved to a new column called num_ac, with all nulls set to 0.  Load in the images listed in image_id from the folder /data/images/ac_150_images/ in order to crop them around the orange bounding box. Output the images to a folder called 'ac_150_images_cropped'. The file names should be the 'image_id' from the spreadsheet, but with the .jpeg extension replaced with _cropped.jpeg. For example, an image with 'image_id' 56E8920C-C46B-4CC9-96CC-178AE00230D3.jpeg should be output as 56E8920C-C46B-4CC9-96CC-178AE00230D3_cropped.jpeg.\n",
    "\n",
    "\n",
    "\n",
    "Step 2: Building the model : The model should be able to predict whether or not an air conditioner is leaking based on the aerial imagery of the roof of a house. Priority 1 is class prediction of whether or not an air conditioner is present. Priority 2 is class prediction of whether or not an air conditioner is leaking. Priority 3 is the color of discolored air conditioners. The model could be trained from scratch, fine-tuned from a pre-trained model, use a pre-trained model as a feature extractor, or just be a model off-the-shelf.  \n",
    "\n",
    "Step 3: Model Evaluation : The model should be split into training, testing and validation sets. Hyperparameters may be tuned on the testing set. The model should be evaluated on the validation set. The model should account for class imbalance by weighting toward recall of minority classes.\n",
    "\n",
    "The model should be evaluated using the following metrics:\n",
    "- F1 Score (the loss function)\n",
    "- Accuracy\n",
    "- Precision\n",
    "- Recall\n",
    "- ROC AUC\n",
    "- Confusion Matrix\n",
    "- Classification Report\n",
    "- Precision-Recall Curve\n",
    "- ROC Curve\n",
    "- Loss Curve\n",
    "\n",
    "For this problem ...\n"
   ],
   "id": "5cb6dcce45a45dc4"
  },
  {
   "metadata": {},
   "cell_type": "markdown",
   "source": "**For this problem**, I'd recommend using a Convolutional Neural Network (CNN) to classify the images. CNNs are particularly well-suited for image classification tasks. You can use a pre-trained model as a feature extractor, or train a model from scratch. You can use any framework you like, but I'd recommend using **PyTorch**. You can use any additional libraries you like, but I'd recommend using scikit-learn for evaluation metrics.",
   "id": "5fad7527cafa4b57"
  },
  {
   "metadata": {},
   "cell_type": "markdown",
   "source": [
    "**Given that we have 150 labeled images** and we are looking to classify the images into one of the following categories:\n",
    "- Air Conditioner Present\n",
    "- Air Conditioner Leaking\n",
    "- **Color of Leaking when Leaking is Present**\n",
    "\n",
    "This is a multi-class classification problem. We can use a CNN model to classify the images. \n",
    "\n",
    "We will be using a pre-trained model as a feature extractor. We will use the MobileNetV2 model, which is a small, low-latency model optimized for mobile devices. We will remove the top layer of the model, add a global average pooling layer, and add a dense layer with a softmax activation function to output the class probabilities.\n",
    "\n",
    "We will use the following evaluation metrics:\n",
    "- F1 Score (the loss function)\n",
    "- Accuracy\n",
    "- Precision\n",
    "- Recall\n",
    "- ROC AUC\n",
    "- Confusion Matrix\n",
    "- Classification Report\n",
    "- Precision-Recall Curve\n",
    "- ROC Curve\n",
    "- Loss Curve\n",
    "\n",
    "We will split the data into training, testing, and validation sets. We will tune hyperparameters on the testing set and evaluate the model on the validation set. We will account for class imbalance by weighting toward recall of minority classes.\n",
    "\n",
    "Let's get started!\n"
   ],
   "id": "4be433b36d97bcc4"
  },
  {
   "metadata": {
    "ExecuteTime": {
     "end_time": "2024-05-20T18:24:35.019392Z",
     "start_time": "2024-05-20T18:24:27.294429Z"
    }
   },
   "cell_type": "code",
   "source": [
    "#**I need to install all the packages in this notebook**, so I will install them all at once\n",
    "# Path: image_classification.ipynb\n",
    "!pip install opencv-python\n",
    "!pip install torch\n",
    "!pip install torchvision\n",
    "!pip install tqdm\n",
    "!pip install seaborn\n",
    "!pip install scikit-learn\n",
    "!pip install pandas\n",
    "\n"
   ],
   "id": "7cf1f7c25656a6e4",
   "outputs": [
    {
     "name": "stdout",
     "output_type": "stream",
     "text": [
      "Requirement already satisfied: opencv-python in /Users/jkerlin/PycharmProjects/satana/.venv/lib/python3.12/site-packages (4.9.0.80)\r\n",
      "Requirement already satisfied: numpy>=1.21.2 in /Users/jkerlin/PycharmProjects/satana/.venv/lib/python3.12/site-packages (from opencv-python) (1.26.4)\r\n",
      "Requirement already satisfied: torch in /Users/jkerlin/PycharmProjects/satana/.venv/lib/python3.12/site-packages (2.3.0)\r\n",
      "Requirement already satisfied: filelock in /Users/jkerlin/PycharmProjects/satana/.venv/lib/python3.12/site-packages (from torch) (3.14.0)\r\n",
      "Requirement already satisfied: typing-extensions>=4.8.0 in /Users/jkerlin/PycharmProjects/satana/.venv/lib/python3.12/site-packages (from torch) (4.11.0)\r\n",
      "Requirement already satisfied: sympy in /Users/jkerlin/PycharmProjects/satana/.venv/lib/python3.12/site-packages (from torch) (1.12)\r\n",
      "Requirement already satisfied: networkx in /Users/jkerlin/PycharmProjects/satana/.venv/lib/python3.12/site-packages (from torch) (3.3)\r\n",
      "Requirement already satisfied: jinja2 in /Users/jkerlin/PycharmProjects/satana/.venv/lib/python3.12/site-packages (from torch) (3.1.3)\r\n",
      "Requirement already satisfied: fsspec in /Users/jkerlin/PycharmProjects/satana/.venv/lib/python3.12/site-packages (from torch) (2024.3.1)\r\n",
      "Requirement already satisfied: MarkupSafe>=2.0 in /Users/jkerlin/PycharmProjects/satana/.venv/lib/python3.12/site-packages (from jinja2->torch) (2.1.5)\r\n",
      "Requirement already satisfied: mpmath>=0.19 in /Users/jkerlin/PycharmProjects/satana/.venv/lib/python3.12/site-packages (from sympy->torch) (1.3.0)\r\n",
      "Requirement already satisfied: torchvision in /Users/jkerlin/PycharmProjects/satana/.venv/lib/python3.12/site-packages (0.18.0)\r\n",
      "Requirement already satisfied: numpy in /Users/jkerlin/PycharmProjects/satana/.venv/lib/python3.12/site-packages (from torchvision) (1.26.4)\r\n",
      "Requirement already satisfied: torch==2.3.0 in /Users/jkerlin/PycharmProjects/satana/.venv/lib/python3.12/site-packages (from torchvision) (2.3.0)\r\n",
      "Requirement already satisfied: pillow!=8.3.*,>=5.3.0 in /Users/jkerlin/PycharmProjects/satana/.venv/lib/python3.12/site-packages (from torchvision) (10.3.0)\r\n",
      "Requirement already satisfied: filelock in /Users/jkerlin/PycharmProjects/satana/.venv/lib/python3.12/site-packages (from torch==2.3.0->torchvision) (3.14.0)\r\n",
      "Requirement already satisfied: typing-extensions>=4.8.0 in /Users/jkerlin/PycharmProjects/satana/.venv/lib/python3.12/site-packages (from torch==2.3.0->torchvision) (4.11.0)\r\n",
      "Requirement already satisfied: sympy in /Users/jkerlin/PycharmProjects/satana/.venv/lib/python3.12/site-packages (from torch==2.3.0->torchvision) (1.12)\r\n",
      "Requirement already satisfied: networkx in /Users/jkerlin/PycharmProjects/satana/.venv/lib/python3.12/site-packages (from torch==2.3.0->torchvision) (3.3)\r\n",
      "Requirement already satisfied: jinja2 in /Users/jkerlin/PycharmProjects/satana/.venv/lib/python3.12/site-packages (from torch==2.3.0->torchvision) (3.1.3)\r\n",
      "Requirement already satisfied: fsspec in /Users/jkerlin/PycharmProjects/satana/.venv/lib/python3.12/site-packages (from torch==2.3.0->torchvision) (2024.3.1)\r\n",
      "Requirement already satisfied: MarkupSafe>=2.0 in /Users/jkerlin/PycharmProjects/satana/.venv/lib/python3.12/site-packages (from jinja2->torch==2.3.0->torchvision) (2.1.5)\r\n",
      "Requirement already satisfied: mpmath>=0.19 in /Users/jkerlin/PycharmProjects/satana/.venv/lib/python3.12/site-packages (from sympy->torch==2.3.0->torchvision) (1.3.0)\r\n",
      "Requirement already satisfied: tqdm in /Users/jkerlin/PycharmProjects/satana/.venv/lib/python3.12/site-packages (4.66.4)\r\n",
      "Requirement already satisfied: seaborn in /Users/jkerlin/PycharmProjects/satana/.venv/lib/python3.12/site-packages (0.13.2)\r\n",
      "Requirement already satisfied: numpy!=1.24.0,>=1.20 in /Users/jkerlin/PycharmProjects/satana/.venv/lib/python3.12/site-packages (from seaborn) (1.26.4)\r\n",
      "Requirement already satisfied: pandas>=1.2 in /Users/jkerlin/PycharmProjects/satana/.venv/lib/python3.12/site-packages (from seaborn) (2.2.2)\r\n",
      "Requirement already satisfied: matplotlib!=3.6.1,>=3.4 in /Users/jkerlin/PycharmProjects/satana/.venv/lib/python3.12/site-packages (from seaborn) (3.8.4)\r\n",
      "Requirement already satisfied: contourpy>=1.0.1 in /Users/jkerlin/PycharmProjects/satana/.venv/lib/python3.12/site-packages (from matplotlib!=3.6.1,>=3.4->seaborn) (1.2.1)\r\n",
      "Requirement already satisfied: cycler>=0.10 in /Users/jkerlin/PycharmProjects/satana/.venv/lib/python3.12/site-packages (from matplotlib!=3.6.1,>=3.4->seaborn) (0.12.1)\r\n",
      "Requirement already satisfied: fonttools>=4.22.0 in /Users/jkerlin/PycharmProjects/satana/.venv/lib/python3.12/site-packages (from matplotlib!=3.6.1,>=3.4->seaborn) (4.51.0)\r\n",
      "Requirement already satisfied: kiwisolver>=1.3.1 in /Users/jkerlin/PycharmProjects/satana/.venv/lib/python3.12/site-packages (from matplotlib!=3.6.1,>=3.4->seaborn) (1.4.5)\r\n",
      "Requirement already satisfied: packaging>=20.0 in /Users/jkerlin/PycharmProjects/satana/.venv/lib/python3.12/site-packages (from matplotlib!=3.6.1,>=3.4->seaborn) (24.0)\r\n",
      "Requirement already satisfied: pillow>=8 in /Users/jkerlin/PycharmProjects/satana/.venv/lib/python3.12/site-packages (from matplotlib!=3.6.1,>=3.4->seaborn) (10.3.0)\r\n",
      "Requirement already satisfied: pyparsing>=2.3.1 in /Users/jkerlin/PycharmProjects/satana/.venv/lib/python3.12/site-packages (from matplotlib!=3.6.1,>=3.4->seaborn) (3.1.2)\r\n",
      "Requirement already satisfied: python-dateutil>=2.7 in /Users/jkerlin/PycharmProjects/satana/.venv/lib/python3.12/site-packages (from matplotlib!=3.6.1,>=3.4->seaborn) (2.9.0.post0)\r\n",
      "Requirement already satisfied: pytz>=2020.1 in /Users/jkerlin/PycharmProjects/satana/.venv/lib/python3.12/site-packages (from pandas>=1.2->seaborn) (2024.1)\r\n",
      "Requirement already satisfied: tzdata>=2022.7 in /Users/jkerlin/PycharmProjects/satana/.venv/lib/python3.12/site-packages (from pandas>=1.2->seaborn) (2024.1)\r\n",
      "Requirement already satisfied: six>=1.5 in /Users/jkerlin/PycharmProjects/satana/.venv/lib/python3.12/site-packages (from python-dateutil>=2.7->matplotlib!=3.6.1,>=3.4->seaborn) (1.16.0)\r\n",
      "Requirement already satisfied: scikit-learn in /Users/jkerlin/PycharmProjects/satana/.venv/lib/python3.12/site-packages (1.4.2)\r\n",
      "Requirement already satisfied: numpy>=1.19.5 in /Users/jkerlin/PycharmProjects/satana/.venv/lib/python3.12/site-packages (from scikit-learn) (1.26.4)\r\n",
      "Requirement already satisfied: scipy>=1.6.0 in /Users/jkerlin/PycharmProjects/satana/.venv/lib/python3.12/site-packages (from scikit-learn) (1.13.0)\r\n",
      "Requirement already satisfied: joblib>=1.2.0 in /Users/jkerlin/PycharmProjects/satana/.venv/lib/python3.12/site-packages (from scikit-learn) (1.4.2)\r\n",
      "Requirement already satisfied: threadpoolctl>=2.0.0 in /Users/jkerlin/PycharmProjects/satana/.venv/lib/python3.12/site-packages (from scikit-learn) (3.5.0)\r\n",
      "Requirement already satisfied: pandas in /Users/jkerlin/PycharmProjects/satana/.venv/lib/python3.12/site-packages (2.2.2)\r\n",
      "Requirement already satisfied: numpy>=1.26.0 in /Users/jkerlin/PycharmProjects/satana/.venv/lib/python3.12/site-packages (from pandas) (1.26.4)\r\n",
      "Requirement already satisfied: python-dateutil>=2.8.2 in /Users/jkerlin/PycharmProjects/satana/.venv/lib/python3.12/site-packages (from pandas) (2.9.0.post0)\r\n",
      "Requirement already satisfied: pytz>=2020.1 in /Users/jkerlin/PycharmProjects/satana/.venv/lib/python3.12/site-packages (from pandas) (2024.1)\r\n",
      "Requirement already satisfied: tzdata>=2022.7 in /Users/jkerlin/PycharmProjects/satana/.venv/lib/python3.12/site-packages (from pandas) (2024.1)\r\n",
      "Requirement already satisfied: six>=1.5 in /Users/jkerlin/PycharmProjects/satana/.venv/lib/python3.12/site-packages (from python-dateutil>=2.8.2->pandas) (1.16.0)\r\n"
     ]
    }
   ],
   "execution_count": 1
  },
  {
   "metadata": {
    "ExecuteTime": {
     "end_time": "2024-05-20T18:24:36.848929Z",
     "start_time": "2024-05-20T18:24:35.020749Z"
    }
   },
   "cell_type": "code",
   "source": [
    "# Path: image_classification.ipynb\n",
    "# Load the necessary libraries\n",
    "import os\n",
    "import pandas as pd\n",
    "import numpy as np\n",
    "import cv2\n",
    "import matplotlib.pyplot as plt\n",
    "from sklearn.model_selection import train_test_split\n",
    "from sklearn.metrics import classification_report, confusion_matrix, roc_auc_score, roc_curve, precision_recall_curve, f1_score\n",
    "from sklearn.preprocessing import LabelBinarizer\n",
    "from sklearn.utils.class_weight import compute_class_weight\n",
    "import torch\n",
    "import torch.nn as nn\n",
    "import torch.optim as optim\n",
    "from torch.utils.data import Dataset, DataLoader\n",
    "from torchvision import transforms\n",
    "from torchvision.models import mobilenet_v2\n",
    "from tqdm import tqdm\n",
    "from PIL import Image\n",
    "import seaborn as sns\n",
    "import random\n"
   ],
   "id": "25f0617687e1533e",
   "outputs": [],
   "execution_count": 2
  },
  {
   "metadata": {
    "ExecuteTime": {
     "end_time": "2024-06-04T21:02:42.266442Z",
     "start_time": "2024-06-04T21:02:42.225340Z"
    }
   },
   "cell_type": "code",
   "source": [
    "# Path: image_classification.ipynb\n",
    "\n",
    "\n",
    "def set_seed(seed):\n",
    "    # Set the random seed for reproducibility\n",
    "    import torch\n",
    "    import numpy as np\n",
    "    import random\n",
    "    torch.backends.cudnn.deterministic = True\n",
    "\n",
    "    torch.manual_seed(seed)\n",
    "    np.random.seed(seed)\n",
    "    random.seed(seed)\n",
    "    \n",
    "def clean_string(s):\n",
    "    import re\n",
    "    # Replace all non-alphabetic characters with an empty string\n",
    "    cleaned_string = re.sub(r'[^a-zA-Z]', '', s)\n",
    "    # Convert the string to lowercase\n",
    "    cleaned_string = cleaned_string.lower()\n",
    "    return cleaned_string\n",
    "    \n",
    "def load_ac_data_labels(params):\n",
    "    import pandas as pd\n",
    "    data_labels = pd.read_csv(params[\"data_labels_path\"])\n",
    "    data_labels[\"data_labels_path\"] = params[\"data_labels_path\"]\n",
    "    data_labels['images_folder'] = params[\"images_folder\"]\n",
    "    data_labels['num_ac'] = data_labels['ac_present'].str.extract(r\"\\(\\s*(\\d+)\\s*\\)\").astype(float)\n",
    "    \n",
    "\n",
    "    # Fill NaN values with 0\n",
    "    data_labels['num_ac'] = data_labels['num_ac'].fillna(0).infer_objects(copy=False)\n",
    "    \n",
    "\n",
    "    # Apply the function to the the right columns column\n",
    "    for col in ['ac_present', 'ac_leaking', 'ac_discolored']:\n",
    "        data_labels[col] = data_labels[col].astype(str)\n",
    "        data_labels[col] = data_labels[col].apply(clean_string)\n",
    "    \n",
    "    data_labels['black1hot'] = data_labels['ac_discolored'].str.contains('black').astype(int)\n",
    "    \n",
    "    data_labels['white1hot'] = data_labels['ac_discolored'].str.contains('white').astype(int)\n",
    "    \n",
    "    data_labels['present1hot'] = data_labels['ac_present'].str.contains('yes').astype(int)\n",
    "    \n",
    "    data_labels['leaking1hot'] = data_labels['ac_leaking'].str.contains('yes').astype(int)\n",
    "    \n",
    "    data_labels['present_unknown1hot'] = data_labels['ac_present'].str.contains('yes').astype(int)\n",
    "    \n",
    "    data_labels['leaking_unknown1hot'] = data_labels['ac_leaking'].str.contains('yes').astype(int)\n",
    "    \n",
    "    data_labels['color_unknown1hot'] = data_labels['ac_leaking'].str.contains('yes').astype(int)\n",
    "    \n",
    "    \n",
    "    \n",
    "\n",
    "    # Extract the numbers in brackets and convert them to integers\n",
    "    assert data_labels.loc[data_labels['ac_present'] == 'yes', 'num_ac'].min() == 1\n",
    "    return data_labels\n",
    "\n",
    "def crop_images_by_box(params):\n",
    "    import cv2\n",
    "    import os\n",
    "    import numpy as np\n",
    "    os.makedirs(params[\"cropped_images_folder\"], exist_ok=True)\n",
    "    # Set default values for parameters if they are not provided\n",
    "    if 'image_ids' not in params:\n",
    "        data_labels = load_ac_data_labels(params)\n",
    "        params[\"image_ids\"] = data_labels[\"image_id\"]\n",
    "    if 'hsv_range' not in params:\n",
    "        params['hsv_range'] = [[8, 120, 200], [12, 255, 255]]\n",
    "    if 'kernal' not in params:\n",
    "        params['kernal'] = np.ones((20,20), np.uint8)\n",
    "    if 'min_bb_area' not in params:\n",
    "        params['min_bb_area'] = 1\n",
    "    if 'max_bb_area' not in params:\n",
    "        params['max_bb_area'] = 1000000000\n",
    "    if 'min_ratio' not in params:\n",
    "        params['min_ratio'] = 1.0\n",
    "    for image_id in params['image_ids']:  \n",
    "        image_path = os.path.join(params['images_folder'], image_id)\n",
    "        image = cv2.imread(image_path)\n",
    "        image = cv2.cvtColor(image, cv2.COLOR_BGR2RGB)\n",
    "        \n",
    "        # Find the orange bounding box in the image\n",
    "        hsv = cv2.cvtColor(image, cv2.COLOR_RGB2HSV)\n",
    "        if params['hsv_range'] is not None:\n",
    "            lower_orange = np.array(params['hsv_range'][0])\n",
    "            upper_orange = np.array(params['hsv_range'][1])\n",
    "            mask = cv2.inRange(hsv, lower_orange, upper_orange)\n",
    "        else:\n",
    "            mask = cv2.inRange(hsv, np.array([0,0,0]),np.array([180,255,255])) #no filter\n",
    "    \n",
    "        \n",
    "        # Perform dilation on the mask to close small gaps\n",
    "        if params['kernal'] is not None:\n",
    "            kernel = params['kernal']\n",
    "            mask = cv2.dilate(mask, kernel, iterations=2)\n",
    "        \n",
    "        contours, _ = cv2.findContours(mask, cv2.RETR_EXTERNAL, cv2.CHAIN_APPROX_SIMPLE)\n",
    "        #print(np.size(image))\n",
    "        # Function to find the contour with the highest perimeter-to-area ratio\n",
    "        def find_hollow_box(contours, mask, params):\n",
    "            hollow_contours = []\n",
    "            for contour in contours:\n",
    "                # Get the bounding rectangle of the largest rectangular contour\n",
    "                x, y, w, h = cv2.boundingRect(contour)\n",
    "                # Crop the mask around the bounding rectangle\n",
    "                cropped_mask = mask[y:y+h, x:x+w]\n",
    "                mask_area = cv2.countNonZero(cropped_mask)\n",
    "                bb_area = w*h\n",
    "    \n",
    "                if mask_area > 0:\n",
    "                    ratio = bb_area / mask_area\n",
    "                    if ratio > params['min_ratio'] and bb_area > params['min_bb_area'] and bb_area < params['max_bb_area']:\n",
    "                        hollow_contours.append(contour)\n",
    "                        #print('ratio:' + str(ratio) + ' bb_area:' + str(bb_area) + ' mask_area:' + str(mask_area) + ' of image ' + image_id)\n",
    "                         \n",
    "            return hollow_contours  \n",
    "        # Find the contour that best matches a hollow box\n",
    "        contours = find_hollow_box(contours, mask, params)\n",
    "        if contours == []:\n",
    "            print(f'No bounding box found for image {image_id}')\n",
    "            continue\n",
    "        else:\n",
    "            # Find the largest rectangular contour\n",
    "            largest_contour = max(contours, key=cv2.contourArea)\n",
    "            \n",
    "            # Get the bounding rectangle of the largest rectangular contour\n",
    "            x, y, w, h = cv2.boundingRect(largest_contour)\n",
    "            # Crop the image around the bounding rectangle\n",
    "            cropped_image = image[y:y+h, x:x+w]\n",
    "    \n",
    "            # Save the cropped image\n",
    "            cropped_image_path = os.path.join(params['cropped_images_folder'], image_id.replace('.jpeg', '_cropped.jpg'))\n",
    "            cv2.imwrite(cropped_image_path, cv2.cvtColor(cropped_image, cv2.COLOR_RGB2BGR))\n",
    "            \n",
    "            #print(f'Image {image_id} cropped and saved to {cropped_image_path}')\n",
    "    return params\n",
    "\n",
    "# Define the dataset class\n",
    "from torch.utils.data import Dataset\n",
    "class ACDataset(Dataset):\n",
    "\n",
    "    def __init__(self, data_labels, images_folder, transform=None):\n",
    "        self.data_labels = data_labels\n",
    "        self.images_folder = images_folder\n",
    "        self.transform = transform\n",
    "\n",
    "    def __len__(self):\n",
    "        return len(self.data_labels)\n",
    "\n",
    "    def __getitem__(self, idx):\n",
    "        image_id = self.data_labels.iloc[idx]['image_id'].replace('.jpeg', '_cropped.jpg')\n",
    "        image_path = os.path.join(self.images_folder, image_id)\n",
    "        image = Image.open(image_path)\n",
    "        present1hot = self.data_labels.iloc[idx]['present1hot']\n",
    "        present_unknown1hot = self.data_labels.iloc[idx]['present_unknown1hot']\n",
    "        leaking1hot = self.data_labels.iloc[idx]['leaking1hot']\n",
    "        leaking_unknown1hot = self.data_labels.iloc[idx]['leaking_unknown1hot']\n",
    "\n",
    "        if self.transform:\n",
    "            image = self.transform(image)\n",
    "\n",
    "        return image, present1hot, present_unknown1hot, leaking1hot, leaking_unknown1hot\n",
    "    \n"
   ],
   "id": "1efa7b7731bf83d6",
   "outputs": [],
   "execution_count": 153
  },
  {
   "metadata": {
    "ExecuteTime": {
     "end_time": "2024-06-04T18:14:15.860448Z",
     "start_time": "2024-06-04T18:14:04.632675Z"
    }
   },
   "cell_type": "code",
   "source": [
    "from transformers import AutoImageProcessor, Dinov2ForImageClassification\n",
    "import torch\n",
    "from datasets import load_dataset\n",
    "\n",
    "dataset = load_dataset(\"huggingface/cats-image\")\n",
    "image = dataset[\"test\"][\"image\"][0]\n",
    "\n",
    "image_processor = AutoImageProcessor.from_pretrained(\"facebook/dinov2-small-imagenet1k-1-layer\")\n",
    "model = Dinov2ForImageClassification.from_pretrained(\"facebook/dinov2-small-imagenet1k-1-layer\")\n",
    "\n",
    "inputs = image_processor(image, return_tensors=\"pt\")\n",
    "\n",
    "with torch.no_grad():\n",
    "    logits = model(**inputs).logits\n",
    "\n",
    "# model predicts one of the 1000 ImageNet classes\n",
    "predicted_label = logits.argmax(-1).item()\n",
    "print(model.config.id2label[predicted_label])"
   ],
   "id": "863366ec4af034f4",
   "outputs": [
    {
     "name": "stderr",
     "output_type": "stream",
     "text": [
      "/Users/jkerlin/PycharmProjects/satana/.venv/lib/python3.12/site-packages/datasets/load.py:1486: FutureWarning: The repository for huggingface/cats-image contains custom code which must be executed to correctly load the dataset. You can inspect the repository content at https://hf.co/datasets/huggingface/cats-image\n",
      "You can avoid this message in future by passing the argument `trust_remote_code=True`.\n",
      "Passing `trust_remote_code=True` will be mandatory to load this dataset from the next major release of `datasets`.\n",
      "  warnings.warn(\n"
     ]
    },
    {
     "data": {
      "text/plain": [
       "Downloading builder script:   0%|          | 0.00/2.56k [00:00<?, ?B/s]"
      ],
      "application/vnd.jupyter.widget-view+json": {
       "version_major": 2,
       "version_minor": 0,
       "model_id": "ce813dd8a3ab418e86cb48438252eccb"
      }
     },
     "metadata": {},
     "output_type": "display_data"
    },
    {
     "data": {
      "text/plain": [
       "Downloading data:   0%|          | 0.00/173k [00:00<?, ?B/s]"
      ],
      "application/vnd.jupyter.widget-view+json": {
       "version_major": 2,
       "version_minor": 0,
       "model_id": "62cfea32eba84e4ea9f8c43213d17877"
      }
     },
     "metadata": {},
     "output_type": "display_data"
    },
    {
     "data": {
      "text/plain": [
       "Generating test split: 0 examples [00:00, ? examples/s]"
      ],
      "application/vnd.jupyter.widget-view+json": {
       "version_major": 2,
       "version_minor": 0,
       "model_id": "6eb402ba13b6488dbb33f783d00a4feb"
      }
     },
     "metadata": {},
     "output_type": "display_data"
    },
    {
     "name": "stderr",
     "output_type": "stream",
     "text": [
      "/Users/jkerlin/PycharmProjects/satana/.venv/lib/python3.12/site-packages/huggingface_hub/file_download.py:1132: FutureWarning: `resume_download` is deprecated and will be removed in version 1.0.0. Downloads always resume when possible. If you want to force a new download, use `force_download=True`.\n",
      "  warnings.warn(\n"
     ]
    },
    {
     "data": {
      "text/plain": [
       "preprocessor_config.json:   0%|          | 0.00/436 [00:00<?, ?B/s]"
      ],
      "application/vnd.jupyter.widget-view+json": {
       "version_major": 2,
       "version_minor": 0,
       "model_id": "e5b1ef570cfa4738a60751ba72b0c286"
      }
     },
     "metadata": {},
     "output_type": "display_data"
    },
    {
     "data": {
      "text/plain": [
       "config.json:   0%|          | 0.00/58.3k [00:00<?, ?B/s]"
      ],
      "application/vnd.jupyter.widget-view+json": {
       "version_major": 2,
       "version_minor": 0,
       "model_id": "ae5d54c119f84945917858c40141294d"
      }
     },
     "metadata": {},
     "output_type": "display_data"
    },
    {
     "data": {
      "text/plain": [
       "model.safetensors:   0%|          | 0.00/91.3M [00:00<?, ?B/s]"
      ],
      "application/vnd.jupyter.widget-view+json": {
       "version_major": 2,
       "version_minor": 0,
       "model_id": "35cc2f99a88c4426b5526cce1c9c92ce"
      }
     },
     "metadata": {},
     "output_type": "display_data"
    },
    {
     "name": "stdout",
     "output_type": "stream",
     "text": [
      "tabby, tabby cat\n"
     ]
    }
   ],
   "execution_count": 61
  },
  {
   "metadata": {},
   "cell_type": "code",
   "outputs": [],
   "execution_count": null,
   "source": "",
   "id": "6f56c67aece134f2"
  },
  {
   "metadata": {
    "ExecuteTime": {
     "end_time": "2024-06-04T20:50:05.501899Z",
     "start_time": "2024-06-04T20:49:52.401673Z"
    }
   },
   "cell_type": "code",
   "source": [
    "\n",
    "import pandas as pd\n",
    "import os\n",
    "import torch\n",
    "from transformers import AutoProcessor, AutoModelForZeroShotObjectDetection\n",
    "from transformers import CLIPProcessor, CLIPModel\n",
    "from PIL import Image\n",
    "from torchvision import transforms\n",
    "\n",
    "\n",
    "pd.set_option('future.no_silent_downcasting', True)\n",
    "params = {}\n",
    "params[\"random_seed\"] = 42\n",
    "params[\"used_cropped\"] = True\n",
    "params['category_index_column'] = \"present1hot\"\n",
    "params['category_labels'] = ['No', 'Yes']\n",
    "\n",
    "params[\"data_labels_path\"] = '../data/labels/ac_150_labels.csv'\n",
    "params[\"images_folder\"] = '../data/images/ac_150_images/'\n",
    "\n",
    "params['crop_version'] = 'v2'\n",
    "params[\"cropped_images_folder\"] = '../data/images/ac_150_images_cropped' + '_' +params['crop_version'] +'/'\n",
    "\n",
    "\n",
    "model_id = \"IDEA-Research/grounding-dino-base\"\n",
    "device = \"mps\"\n",
    "\n",
    "processor = AutoProcessor.from_pretrained(model_id)\n",
    "model = AutoModelForZeroShotObjectDetection.from_pretrained(model_id).to(device)\n"
   ],
   "id": "6aed63a1b479f2ef",
   "outputs": [
    {
     "name": "stderr",
     "output_type": "stream",
     "text": [
      "/Users/jkerlin/PycharmProjects/satana/.venv/lib/python3.12/site-packages/huggingface_hub/file_download.py:1132: FutureWarning: `resume_download` is deprecated and will be removed in version 1.0.0. Downloads always resume when possible. If you want to force a new download, use `force_download=True`.\n",
      "  warnings.warn(\n"
     ]
    }
   ],
   "execution_count": 138
  },
  {
   "metadata": {
    "ExecuteTime": {
     "end_time": "2024-06-04T20:38:41.651907Z",
     "start_time": "2024-06-04T20:38:35.323037Z"
    }
   },
   "cell_type": "code",
   "source": [
    "\n",
    "params[\"box_threshold\"] = 0.15\n",
    "params[\"text_threshold\"] = 0.1\n",
    "params[\"text\"] = \"square\"\n",
    "\n",
    "image_filepath = '../data/images/ac_150_images_cropped_v1/010B67DF-3E53-4216-904F-C80FDEFA047A_cropped.jpeg'\n",
    "image = Image.open(image_filepath).convert(\"RGB\")\n",
    "inputs = processor(images=image, text=params[\"text\"], return_tensors=\"pt\").to(device)\n",
    "with torch.no_grad():\n",
    "    outputs = model(**inputs)\n",
    "\n",
    "results = processor.post_process_grounded_object_detection(\n",
    "    outputs,\n",
    "    inputs.input_ids,\n",
    "    params[\"box_threshold\"],\n",
    "    params[\"text_threshold\"],\n",
    "    target_sizes=[image.size[::-1]]\n",
    ")\n",
    "\n",
    "min_dim = 1\n",
    "max_dim = 1000\n",
    "\n",
    "# Filter the bounding boxes\n",
    "filtered_boxes = []\n",
    "for box in results[0][\"boxes\"].tolist():\n",
    "    width = box[2] - box[0]\n",
    "    height = box[3] - box[1]\n",
    "    if width > min_dim and height > min_dim and width < max_dim and height < max_dim:\n",
    "        filtered_boxes.append(box)\n",
    "\n",
    "import torchvision\n",
    "from torchvision.utils import draw_bounding_boxes\n",
    "show_example = True\n",
    "if show_example == True:\n",
    "    tensor_boxes = torch.tensor(filtered_boxes) \n",
    "    \n",
    "    tensor_image = transforms.ToTensor()(image)\n",
    "    # Convert the Tensor back to uint8\n",
    "    tensor_image = tensor_image.mul(255).byte()\n",
    "    \n",
    "    bbox_img = draw_bounding_boxes(tensor_image, tensor_boxes, width = 3, colors = \"red\")\n",
    "    bbox_img = torchvision.transforms.ToPILImage()(bbox_img)\n",
    "    \n",
    "    bbox_img.show()"
   ],
   "id": "d7bd34b87173386c",
   "outputs": [
    {
     "ename": "IndexError",
     "evalue": "too many indices for tensor of dimension 1",
     "output_type": "error",
     "traceback": [
      "\u001B[0;31m---------------------------------------------------------------------------\u001B[0m",
      "\u001B[0;31mIndexError\u001B[0m                                Traceback (most recent call last)",
      "Cell \u001B[0;32mIn[135], line 40\u001B[0m\n\u001B[1;32m     37\u001B[0m \u001B[38;5;66;03m# Convert the Tensor back to uint8\u001B[39;00m\n\u001B[1;32m     38\u001B[0m tensor_image \u001B[38;5;241m=\u001B[39m tensor_image\u001B[38;5;241m.\u001B[39mmul(\u001B[38;5;241m255\u001B[39m)\u001B[38;5;241m.\u001B[39mbyte()\n\u001B[0;32m---> 40\u001B[0m bbox_img \u001B[38;5;241m=\u001B[39m \u001B[43mdraw_bounding_boxes\u001B[49m\u001B[43m(\u001B[49m\u001B[43mtensor_image\u001B[49m\u001B[43m,\u001B[49m\u001B[43m \u001B[49m\u001B[43mtensor_boxes\u001B[49m\u001B[43m,\u001B[49m\u001B[43m \u001B[49m\u001B[43mwidth\u001B[49m\u001B[43m \u001B[49m\u001B[38;5;241;43m=\u001B[39;49m\u001B[43m \u001B[49m\u001B[38;5;241;43m3\u001B[39;49m\u001B[43m,\u001B[49m\u001B[43m \u001B[49m\u001B[43mcolors\u001B[49m\u001B[43m \u001B[49m\u001B[38;5;241;43m=\u001B[39;49m\u001B[43m \u001B[49m\u001B[38;5;124;43m\"\u001B[39;49m\u001B[38;5;124;43mred\u001B[39;49m\u001B[38;5;124;43m\"\u001B[39;49m\u001B[43m)\u001B[49m\n\u001B[1;32m     41\u001B[0m bbox_img \u001B[38;5;241m=\u001B[39m torchvision\u001B[38;5;241m.\u001B[39mtransforms\u001B[38;5;241m.\u001B[39mToPILImage()(bbox_img)\n\u001B[1;32m     43\u001B[0m bbox_img\u001B[38;5;241m.\u001B[39mshow()\n",
      "File \u001B[0;32m~/PycharmProjects/satana/.venv/lib/python3.12/site-packages/torch/utils/_contextlib.py:115\u001B[0m, in \u001B[0;36mcontext_decorator.<locals>.decorate_context\u001B[0;34m(*args, **kwargs)\u001B[0m\n\u001B[1;32m    112\u001B[0m \u001B[38;5;129m@functools\u001B[39m\u001B[38;5;241m.\u001B[39mwraps(func)\n\u001B[1;32m    113\u001B[0m \u001B[38;5;28;01mdef\u001B[39;00m \u001B[38;5;21mdecorate_context\u001B[39m(\u001B[38;5;241m*\u001B[39margs, \u001B[38;5;241m*\u001B[39m\u001B[38;5;241m*\u001B[39mkwargs):\n\u001B[1;32m    114\u001B[0m     \u001B[38;5;28;01mwith\u001B[39;00m ctx_factory():\n\u001B[0;32m--> 115\u001B[0m         \u001B[38;5;28;01mreturn\u001B[39;00m \u001B[43mfunc\u001B[49m\u001B[43m(\u001B[49m\u001B[38;5;241;43m*\u001B[39;49m\u001B[43margs\u001B[49m\u001B[43m,\u001B[49m\u001B[43m \u001B[49m\u001B[38;5;241;43m*\u001B[39;49m\u001B[38;5;241;43m*\u001B[39;49m\u001B[43mkwargs\u001B[49m\u001B[43m)\u001B[49m\n",
      "File \u001B[0;32m~/PycharmProjects/satana/.venv/lib/python3.12/site-packages/torchvision/utils.py:202\u001B[0m, in \u001B[0;36mdraw_bounding_boxes\u001B[0;34m(image, boxes, labels, colors, fill, width, font, font_size)\u001B[0m\n\u001B[1;32m    200\u001B[0m \u001B[38;5;28;01melif\u001B[39;00m image\u001B[38;5;241m.\u001B[39msize(\u001B[38;5;241m0\u001B[39m) \u001B[38;5;129;01mnot\u001B[39;00m \u001B[38;5;129;01min\u001B[39;00m {\u001B[38;5;241m1\u001B[39m, \u001B[38;5;241m3\u001B[39m}:\n\u001B[1;32m    201\u001B[0m     \u001B[38;5;28;01mraise\u001B[39;00m \u001B[38;5;167;01mValueError\u001B[39;00m(\u001B[38;5;124m\"\u001B[39m\u001B[38;5;124mOnly grayscale and RGB images are supported\u001B[39m\u001B[38;5;124m\"\u001B[39m)\n\u001B[0;32m--> 202\u001B[0m \u001B[38;5;28;01melif\u001B[39;00m (\u001B[43mboxes\u001B[49m\u001B[43m[\u001B[49m\u001B[43m:\u001B[49m\u001B[43m,\u001B[49m\u001B[43m \u001B[49m\u001B[38;5;241;43m0\u001B[39;49m\u001B[43m]\u001B[49m \u001B[38;5;241m>\u001B[39m boxes[:, \u001B[38;5;241m2\u001B[39m])\u001B[38;5;241m.\u001B[39many() \u001B[38;5;129;01mor\u001B[39;00m (boxes[:, \u001B[38;5;241m1\u001B[39m] \u001B[38;5;241m>\u001B[39m boxes[:, \u001B[38;5;241m3\u001B[39m])\u001B[38;5;241m.\u001B[39many():\n\u001B[1;32m    203\u001B[0m     \u001B[38;5;28;01mraise\u001B[39;00m \u001B[38;5;167;01mValueError\u001B[39;00m(\n\u001B[1;32m    204\u001B[0m         \u001B[38;5;124m\"\u001B[39m\u001B[38;5;124mBoxes need to be in (xmin, ymin, xmax, ymax) format. Use torchvision.ops.box_convert to convert them\u001B[39m\u001B[38;5;124m\"\u001B[39m\n\u001B[1;32m    205\u001B[0m     )\n\u001B[1;32m    207\u001B[0m num_boxes \u001B[38;5;241m=\u001B[39m boxes\u001B[38;5;241m.\u001B[39mshape[\u001B[38;5;241m0\u001B[39m]\n",
      "\u001B[0;31mIndexError\u001B[0m: too many indices for tensor of dimension 1"
     ]
    }
   ],
   "execution_count": 135
  },
  {
   "metadata": {
    "ExecuteTime": {
     "end_time": "2024-06-04T20:34:38.718411Z",
     "start_time": "2024-06-04T20:34:38.591234Z"
    }
   },
   "cell_type": "code",
   "source": "results",
   "id": "f99de0cfc0e16185",
   "outputs": [
    {
     "data": {
      "text/plain": [
       "[{'scores': tensor([0.3662, 0.3473, 0.1637, 0.1842, 0.2094, 0.1829, 0.1702, 0.1551],\n",
       "         device='mps:0'),\n",
       "  'labels': ['swimming pool',\n",
       "   'swimming pool',\n",
       "   'swimming pool',\n",
       "   'swimming pool',\n",
       "   'swimming pool',\n",
       "   'swimming pool',\n",
       "   'swimming pool',\n",
       "   'swimming pool'],\n",
       "  'boxes': tensor([[ 2.5656e+01,  1.9160e+01,  4.1450e+02,  2.9880e+02],\n",
       "          [ 2.8563e+02,  1.6788e+02,  3.7067e+02,  2.2222e+02],\n",
       "          [ 2.8100e+02,  1.6215e+02,  3.9426e+02,  2.6842e+02],\n",
       "          [ 2.6890e+02,  1.5638e+02,  3.8496e+02,  2.3132e+02],\n",
       "          [ 1.6857e-01, -1.6322e-01,  4.4009e+02,  3.3497e+02],\n",
       "          [ 2.6217e+02,  1.5320e+02,  3.9462e+02,  2.6951e+02],\n",
       "          [ 2.8267e+02,  1.6383e+02,  3.9263e+02,  2.5144e+02],\n",
       "          [ 2.8357e+02,  1.6465e+02,  3.9247e+02,  2.5252e+02]], device='mps:0')}]"
      ]
     },
     "execution_count": 129,
     "metadata": {},
     "output_type": "execute_result"
    }
   ],
   "execution_count": 129
  },
  {
   "metadata": {
    "ExecuteTime": {
     "end_time": "2024-06-04T01:11:21.283080Z",
     "start_time": "2024-06-04T01:11:21.127825Z"
    }
   },
   "cell_type": "code",
   "source": "",
   "id": "7da835fa76e7d8e8",
   "outputs": [
    {
     "ename": "IndexError",
     "evalue": "too many indices for tensor of dimension 1",
     "output_type": "error",
     "traceback": [
      "\u001B[0;31m---------------------------------------------------------------------------\u001B[0m",
      "\u001B[0;31mIndexError\u001B[0m                                Traceback (most recent call last)",
      "Cell \u001B[0;32mIn[47], line 11\u001B[0m\n\u001B[1;32m      8\u001B[0m \u001B[38;5;66;03m# Convert the Tensor back to uint8\u001B[39;00m\n\u001B[1;32m      9\u001B[0m tensor_image \u001B[38;5;241m=\u001B[39m tensor_image\u001B[38;5;241m.\u001B[39mmul(\u001B[38;5;241m255\u001B[39m)\u001B[38;5;241m.\u001B[39mbyte()\n\u001B[0;32m---> 11\u001B[0m bbox_img \u001B[38;5;241m=\u001B[39m \u001B[43mdraw_bounding_boxes\u001B[49m\u001B[43m(\u001B[49m\u001B[43mtensor_image\u001B[49m\u001B[43m,\u001B[49m\u001B[43m \u001B[49m\u001B[43mtensor_boxes\u001B[49m\u001B[43m,\u001B[49m\u001B[43m \u001B[49m\u001B[43mwidth\u001B[49m\u001B[43m \u001B[49m\u001B[38;5;241;43m=\u001B[39;49m\u001B[43m \u001B[49m\u001B[38;5;241;43m3\u001B[39;49m\u001B[43m,\u001B[49m\u001B[43m \u001B[49m\u001B[43mcolors\u001B[49m\u001B[43m \u001B[49m\u001B[38;5;241;43m=\u001B[39;49m\u001B[43m \u001B[49m\u001B[38;5;124;43m\"\u001B[39;49m\u001B[38;5;124;43mred\u001B[39;49m\u001B[38;5;124;43m\"\u001B[39;49m\u001B[43m)\u001B[49m\n\u001B[1;32m     12\u001B[0m bbox_img \u001B[38;5;241m=\u001B[39m torchvision\u001B[38;5;241m.\u001B[39mtransforms\u001B[38;5;241m.\u001B[39mToPILImage()(bbox_img)\n\u001B[1;32m     14\u001B[0m bbox_img\u001B[38;5;241m.\u001B[39mshow()\n",
      "File \u001B[0;32m~/PycharmProjects/satana/.venv/lib/python3.12/site-packages/torch/utils/_contextlib.py:115\u001B[0m, in \u001B[0;36mcontext_decorator.<locals>.decorate_context\u001B[0;34m(*args, **kwargs)\u001B[0m\n\u001B[1;32m    112\u001B[0m \u001B[38;5;129m@functools\u001B[39m\u001B[38;5;241m.\u001B[39mwraps(func)\n\u001B[1;32m    113\u001B[0m \u001B[38;5;28;01mdef\u001B[39;00m \u001B[38;5;21mdecorate_context\u001B[39m(\u001B[38;5;241m*\u001B[39margs, \u001B[38;5;241m*\u001B[39m\u001B[38;5;241m*\u001B[39mkwargs):\n\u001B[1;32m    114\u001B[0m     \u001B[38;5;28;01mwith\u001B[39;00m ctx_factory():\n\u001B[0;32m--> 115\u001B[0m         \u001B[38;5;28;01mreturn\u001B[39;00m \u001B[43mfunc\u001B[49m\u001B[43m(\u001B[49m\u001B[38;5;241;43m*\u001B[39;49m\u001B[43margs\u001B[49m\u001B[43m,\u001B[49m\u001B[43m \u001B[49m\u001B[38;5;241;43m*\u001B[39;49m\u001B[38;5;241;43m*\u001B[39;49m\u001B[43mkwargs\u001B[49m\u001B[43m)\u001B[49m\n",
      "File \u001B[0;32m~/PycharmProjects/satana/.venv/lib/python3.12/site-packages/torchvision/utils.py:202\u001B[0m, in \u001B[0;36mdraw_bounding_boxes\u001B[0;34m(image, boxes, labels, colors, fill, width, font, font_size)\u001B[0m\n\u001B[1;32m    200\u001B[0m \u001B[38;5;28;01melif\u001B[39;00m image\u001B[38;5;241m.\u001B[39msize(\u001B[38;5;241m0\u001B[39m) \u001B[38;5;129;01mnot\u001B[39;00m \u001B[38;5;129;01min\u001B[39;00m {\u001B[38;5;241m1\u001B[39m, \u001B[38;5;241m3\u001B[39m}:\n\u001B[1;32m    201\u001B[0m     \u001B[38;5;28;01mraise\u001B[39;00m \u001B[38;5;167;01mValueError\u001B[39;00m(\u001B[38;5;124m\"\u001B[39m\u001B[38;5;124mOnly grayscale and RGB images are supported\u001B[39m\u001B[38;5;124m\"\u001B[39m)\n\u001B[0;32m--> 202\u001B[0m \u001B[38;5;28;01melif\u001B[39;00m (\u001B[43mboxes\u001B[49m\u001B[43m[\u001B[49m\u001B[43m:\u001B[49m\u001B[43m,\u001B[49m\u001B[43m \u001B[49m\u001B[38;5;241;43m0\u001B[39;49m\u001B[43m]\u001B[49m \u001B[38;5;241m>\u001B[39m boxes[:, \u001B[38;5;241m2\u001B[39m])\u001B[38;5;241m.\u001B[39many() \u001B[38;5;129;01mor\u001B[39;00m (boxes[:, \u001B[38;5;241m1\u001B[39m] \u001B[38;5;241m>\u001B[39m boxes[:, \u001B[38;5;241m3\u001B[39m])\u001B[38;5;241m.\u001B[39many():\n\u001B[1;32m    203\u001B[0m     \u001B[38;5;28;01mraise\u001B[39;00m \u001B[38;5;167;01mValueError\u001B[39;00m(\n\u001B[1;32m    204\u001B[0m         \u001B[38;5;124m\"\u001B[39m\u001B[38;5;124mBoxes need to be in (xmin, ymin, xmax, ymax) format. Use torchvision.ops.box_convert to convert them\u001B[39m\u001B[38;5;124m\"\u001B[39m\n\u001B[1;32m    205\u001B[0m     )\n\u001B[1;32m    207\u001B[0m num_boxes \u001B[38;5;241m=\u001B[39m boxes\u001B[38;5;241m.\u001B[39mshape[\u001B[38;5;241m0\u001B[39m]\n",
      "\u001B[0;31mIndexError\u001B[0m: too many indices for tensor of dimension 1"
     ]
    }
   ],
   "execution_count": 47
  },
  {
   "metadata": {
    "ExecuteTime": {
     "end_time": "2024-06-04T00:54:53.708900Z",
     "start_time": "2024-06-04T00:54:53.704710Z"
    }
   },
   "cell_type": "code",
   "source": "params[\"box_threshold\"] = 0.15",
   "id": "5a6643208f6781e5",
   "outputs": [],
   "execution_count": 24
  },
  {
   "metadata": {
    "ExecuteTime": {
     "end_time": "2024-06-04T21:03:05.392310Z",
     "start_time": "2024-06-04T21:03:00.452198Z"
    }
   },
   "cell_type": "code",
   "source": [
    "\n",
    "set_seed(params[\"random_seed\"])\n",
    "if os.path.exists(params[\"cropped_images_folder\"]):\n",
    "    print('Using images from folder ' + params[\"cropped_images_folder\"])\n",
    "else:\n",
    "    if params[\"used_cropped\"] == True:\n",
    "        params = crop_images_by_box(params)\n",
    "\n",
    "if params[\"used_cropped\"] == True:\n",
    "    params[\"image_folder_for_classification\"] = params[\"cropped_images_folder\"]\n",
    "    \n",
    "else:\n",
    "    params[\"image_folder_for_classification\"] = params[\"images_folder\"]\n",
    "data_labels = load_ac_data_labels(params)\n",
    "\n",
    "if params[\"used_cropped\"] == True:\n",
    "    data_labels[\"image_id\"] = data_labels[\"image_id\"].str.replace('.jpeg', '_cropped.jpg')\n",
    "\n",
    "\n",
    "\n",
    "data_labels[\"idx\"] = data_labels.index\n",
    "if 'source' not in data_labels.columns:\n",
    "    data_labels[\"source\"] = params[\"image_folder_for_classification\"]\n",
    "\n",
    "if 'task_text' not in data_labels.columns:\n",
    "    data_labels[\"task_text\"] = ''\n",
    "    \n",
    "data_labels['image'] = params[\"image_folder_for_classification\"] + data_labels[\"image_id\"]\n",
    "data_labels['label'] = data_labels[params['category_index_column']].astype(int)                     \n"
   ],
   "id": "d1461b08431ae174",
   "outputs": [],
   "execution_count": 155
  },
  {
   "metadata": {
    "ExecuteTime": {
     "end_time": "2024-06-04T20:57:04.047090Z",
     "start_time": "2024-06-04T20:57:04.019337Z"
    }
   },
   "cell_type": "code",
   "source": "pd.read_csv(params[\"data_labels_path\"])",
   "id": "3ab7e3fe4da631ee",
   "outputs": [
    {
     "data": {
      "text/plain": [
       "     row_number                                            image_id  \\\n",
       "0              1  347ED694-833B-4F44-ABD9-8A26E9BF12A7_1_201_a.jpeg   \n",
       "1              2          56E8920C-C46B-4CC9-96CC-178AE00230D3.jpeg   \n",
       "2              3          0AD2D165-CE95-4F5C-BF88-524EA08A686E.jpeg   \n",
       "3              4          66B175F8-4DAC-4FBA-B8F5-C26711B0C71F.jpeg   \n",
       "4              5          55CE2555-D78E-49BE-8E89-476C586FEAE1.jpeg   \n",
       "..           ...                                                ...   \n",
       "145          146          B1C7EC79-8557-4E99-B35F-84D865173443.jpeg   \n",
       "146          147          BE4A6D79-5A14-426D-BE3B-AB1E723C6D1B.jpeg   \n",
       "147          148          95EACEFD-27BD-4C6C-91EE-9F2FC2C55F21.jpeg   \n",
       "148          149          118B1765-3890-4C35-92B8-6570017F9193.jpeg   \n",
       "149          150          1BDD9BC4-614A-4AE2-A550-D5A77E12F8A2.jpeg   \n",
       "\n",
       "                                               address ac_present ac_leaking  \\\n",
       "0           1330 W Willow St, Lafayette, LA 70506, USA  Yes ( 4 )        Yes   \n",
       "1      1110 N University Ave, Lafayette, LA 70506, USA   Yes (3 )    Unknown   \n",
       "2           106 Madeline Ave, Lafayette, LA 70501, USA         No         No   \n",
       "3         200 S Bienville St, Lafayette, LA 70501, USA  Yes ( 2 )        Yes   \n",
       "4          100 W St Louis St, Lafayette, LA 70506, USA         No         No   \n",
       "..                                                 ...        ...        ...   \n",
       "145           2541 E Thomas Ave, Fresno, CA 93701, USA  Yes ( 5 )         No   \n",
       "146  520 W Riordan Rd, Flagstaff, AZ 86001, United ...         No         No   \n",
       "147            2025 E White Ave, Fresno, CA 93701, USA  Yes ( 5 )       Yes    \n",
       "148         510 W Tucson Ave, Flagstaff, AZ 86001, USA         No         No   \n",
       "149          1723 E Belmont Ave, Fresno, CA 93701, USA  Yes ( 2 )       Yes    \n",
       "\n",
       "     ac_discolored                                           comments  \n",
       "0    black, white                                                 NaN  \n",
       "1          Unknown  There is a black tone in all the roof parcel, ...  \n",
       "2               No                                                NaN  \n",
       "3            Black                                                NaN  \n",
       "4               No                                                NaN  \n",
       "..             ...                                                ...  \n",
       "145             No                                                NaN  \n",
       "146             No                                                NaN  \n",
       "147   Black, White                                                NaN  \n",
       "148             No                                                NaN  \n",
       "149          White                                                NaN  \n",
       "\n",
       "[150 rows x 7 columns]"
      ],
      "text/html": [
       "<div>\n",
       "<style scoped>\n",
       "    .dataframe tbody tr th:only-of-type {\n",
       "        vertical-align: middle;\n",
       "    }\n",
       "\n",
       "    .dataframe tbody tr th {\n",
       "        vertical-align: top;\n",
       "    }\n",
       "\n",
       "    .dataframe thead th {\n",
       "        text-align: right;\n",
       "    }\n",
       "</style>\n",
       "<table border=\"1\" class=\"dataframe\">\n",
       "  <thead>\n",
       "    <tr style=\"text-align: right;\">\n",
       "      <th></th>\n",
       "      <th>row_number</th>\n",
       "      <th>image_id</th>\n",
       "      <th>address</th>\n",
       "      <th>ac_present</th>\n",
       "      <th>ac_leaking</th>\n",
       "      <th>ac_discolored</th>\n",
       "      <th>comments</th>\n",
       "    </tr>\n",
       "  </thead>\n",
       "  <tbody>\n",
       "    <tr>\n",
       "      <th>0</th>\n",
       "      <td>1</td>\n",
       "      <td>347ED694-833B-4F44-ABD9-8A26E9BF12A7_1_201_a.jpeg</td>\n",
       "      <td>1330 W Willow St, Lafayette, LA 70506, USA</td>\n",
       "      <td>Yes ( 4 )</td>\n",
       "      <td>Yes</td>\n",
       "      <td>black, white</td>\n",
       "      <td>NaN</td>\n",
       "    </tr>\n",
       "    <tr>\n",
       "      <th>1</th>\n",
       "      <td>2</td>\n",
       "      <td>56E8920C-C46B-4CC9-96CC-178AE00230D3.jpeg</td>\n",
       "      <td>1110 N University Ave, Lafayette, LA 70506, USA</td>\n",
       "      <td>Yes (3 )</td>\n",
       "      <td>Unknown</td>\n",
       "      <td>Unknown</td>\n",
       "      <td>There is a black tone in all the roof parcel, ...</td>\n",
       "    </tr>\n",
       "    <tr>\n",
       "      <th>2</th>\n",
       "      <td>3</td>\n",
       "      <td>0AD2D165-CE95-4F5C-BF88-524EA08A686E.jpeg</td>\n",
       "      <td>106 Madeline Ave, Lafayette, LA 70501, USA</td>\n",
       "      <td>No</td>\n",
       "      <td>No</td>\n",
       "      <td>No</td>\n",
       "      <td>NaN</td>\n",
       "    </tr>\n",
       "    <tr>\n",
       "      <th>3</th>\n",
       "      <td>4</td>\n",
       "      <td>66B175F8-4DAC-4FBA-B8F5-C26711B0C71F.jpeg</td>\n",
       "      <td>200 S Bienville St, Lafayette, LA 70501, USA</td>\n",
       "      <td>Yes ( 2 )</td>\n",
       "      <td>Yes</td>\n",
       "      <td>Black</td>\n",
       "      <td>NaN</td>\n",
       "    </tr>\n",
       "    <tr>\n",
       "      <th>4</th>\n",
       "      <td>5</td>\n",
       "      <td>55CE2555-D78E-49BE-8E89-476C586FEAE1.jpeg</td>\n",
       "      <td>100 W St Louis St, Lafayette, LA 70506, USA</td>\n",
       "      <td>No</td>\n",
       "      <td>No</td>\n",
       "      <td>No</td>\n",
       "      <td>NaN</td>\n",
       "    </tr>\n",
       "    <tr>\n",
       "      <th>...</th>\n",
       "      <td>...</td>\n",
       "      <td>...</td>\n",
       "      <td>...</td>\n",
       "      <td>...</td>\n",
       "      <td>...</td>\n",
       "      <td>...</td>\n",
       "      <td>...</td>\n",
       "    </tr>\n",
       "    <tr>\n",
       "      <th>145</th>\n",
       "      <td>146</td>\n",
       "      <td>B1C7EC79-8557-4E99-B35F-84D865173443.jpeg</td>\n",
       "      <td>2541 E Thomas Ave, Fresno, CA 93701, USA</td>\n",
       "      <td>Yes ( 5 )</td>\n",
       "      <td>No</td>\n",
       "      <td>No</td>\n",
       "      <td>NaN</td>\n",
       "    </tr>\n",
       "    <tr>\n",
       "      <th>146</th>\n",
       "      <td>147</td>\n",
       "      <td>BE4A6D79-5A14-426D-BE3B-AB1E723C6D1B.jpeg</td>\n",
       "      <td>520 W Riordan Rd, Flagstaff, AZ 86001, United ...</td>\n",
       "      <td>No</td>\n",
       "      <td>No</td>\n",
       "      <td>No</td>\n",
       "      <td>NaN</td>\n",
       "    </tr>\n",
       "    <tr>\n",
       "      <th>147</th>\n",
       "      <td>148</td>\n",
       "      <td>95EACEFD-27BD-4C6C-91EE-9F2FC2C55F21.jpeg</td>\n",
       "      <td>2025 E White Ave, Fresno, CA 93701, USA</td>\n",
       "      <td>Yes ( 5 )</td>\n",
       "      <td>Yes</td>\n",
       "      <td>Black, White</td>\n",
       "      <td>NaN</td>\n",
       "    </tr>\n",
       "    <tr>\n",
       "      <th>148</th>\n",
       "      <td>149</td>\n",
       "      <td>118B1765-3890-4C35-92B8-6570017F9193.jpeg</td>\n",
       "      <td>510 W Tucson Ave, Flagstaff, AZ 86001, USA</td>\n",
       "      <td>No</td>\n",
       "      <td>No</td>\n",
       "      <td>No</td>\n",
       "      <td>NaN</td>\n",
       "    </tr>\n",
       "    <tr>\n",
       "      <th>149</th>\n",
       "      <td>150</td>\n",
       "      <td>1BDD9BC4-614A-4AE2-A550-D5A77E12F8A2.jpeg</td>\n",
       "      <td>1723 E Belmont Ave, Fresno, CA 93701, USA</td>\n",
       "      <td>Yes ( 2 )</td>\n",
       "      <td>Yes</td>\n",
       "      <td>White</td>\n",
       "      <td>NaN</td>\n",
       "    </tr>\n",
       "  </tbody>\n",
       "</table>\n",
       "<p>150 rows × 7 columns</p>\n",
       "</div>"
      ]
     },
     "execution_count": 146,
     "metadata": {},
     "output_type": "execute_result"
    }
   ],
   "execution_count": 146
  },
  {
   "metadata": {},
   "cell_type": "code",
   "outputs": [
    {
     "name": "stdout",
     "output_type": "stream",
     "text": [
      "Using images from folder ../data/images/ac_150_images_cropped_v1/\n"
     ]
    },
    {
     "data": {
      "text/plain": [
       "Casting the dataset:   0%|          | 0/150 [00:00<?, ? examples/s]"
      ],
      "application/vnd.jupyter.widget-view+json": {
       "version_major": 2,
       "version_minor": 0,
       "model_id": "daa18d136e4b4b978db4ec34183e43b7"
      }
     },
     "metadata": {},
     "output_type": "display_data"
    },
    {
     "name": "stderr",
     "output_type": "stream",
     "text": [
      "/Users/jkerlin/PycharmProjects/satana/.venv/lib/python3.12/site-packages/huggingface_hub/file_download.py:1132: FutureWarning: `resume_download` is deprecated and will be removed in version 1.0.0. Downloads always resume when possible. If you want to force a new download, use `force_download=True`.\n",
      "  warnings.warn(\n",
      "Could not find image processor class in the image processor config or the model config. Loading based on pattern matching with the model's feature extractor configuration. Please open a PR/issue to update `preprocessor_config.json` to use `image_processor_type` instead of `feature_extractor_type`. This warning will be removed in v4.40.\n",
      "Some weights of SwinForImageClassification were not initialized from the model checkpoint at microsoft/swin-tiny-patch4-window7-224 and are newly initialized because the shapes did not match:\n",
      "- classifier.bias: found shape torch.Size([1000]) in the checkpoint and torch.Size([2]) in the model instantiated\n",
      "- classifier.weight: found shape torch.Size([1000, 768]) in the checkpoint and torch.Size([2, 768]) in the model instantiated\n",
      "You should probably TRAIN this model on a down-stream task to be able to use it for predictions and inference.\n"
     ]
    }
   ],
   "execution_count": 19,
   "source": [
    "\n",
    "from transformers import AutoImageProcessor, AutoModelForImageClassification, TrainingArguments, Trainer\n",
    "from datasets import Dataset, Features, Audio, Image, ClassLabel\n",
    "from torchvision.transforms import RandomResizedCrop,Resize, Compose, Normalize, ToTensor, ToPILImage\n",
    "import evaluate\n",
    "from datetime import datetime\n",
    "import torch\n",
    "import numpy as np\n",
    "# Assuming `data_labels` is a pandas DataFrame\n",
    "ds = (Dataset.from_pandas(data_labels)\n",
    "      .cast_column(\"image\", Image())\n",
    "      .cast_column(\"label\", ClassLabel(num_classes=len(params['category_labels']), names=params['category_labels']))\n",
    "      )\n",
    "ds = ds.remove_columns([col for col in ds.features if col not in ['idx', 'image', 'label', 'task_text', 'source']])\n",
    "\n",
    "# # Define the transformations\n",
    "# # Use the same transformations as the MobileNetV2 model\n",
    "# transform = transforms.Compose([\n",
    "#     transforms.Resize((224, 224)),\n",
    "#     transforms.RandomHorizontalFlip(),\n",
    "#     transforms.RandomRotation(20),\n",
    "#     transforms.ToTensor(),\n",
    "#     transforms.Normalize(mean=[0.485, 0.456, 0.406], std=[0.229, 0.224, 0.225])\n",
    "# \n",
    "# ])\n",
    "# \n",
    "# # Create the dataset\n",
    "# dataset = ACDataset(data_labels, cropped_images_folder, transform=transform)\n",
    "\n",
    "\n",
    "\n",
    "labels = ds.features[\"label\"].names\n",
    "label2id, id2label = dict(), dict()\n",
    "for i, label in enumerate(labels):\n",
    "    label2id[label] = str(i)\n",
    "    id2label[str(i)] = label\n",
    "\n",
    "#model_id = \"google/vit-base-patch16-224-in21k\"\n",
    "model_id = \"microsoft/swin-tiny-patch4-window7-224\"\n",
    "device = \"mps\"\n",
    "image_processor = AutoImageProcessor.from_pretrained(model_id)\n",
    "\n",
    "normalize = Normalize(mean=image_processor.image_mean, std=image_processor.image_std)\n",
    "size = (\n",
    "    image_processor.size[\"shortest_edge\"]\n",
    "    if \"shortest_edge\" in image_processor.size\n",
    "    else (image_processor.size[\"height\"], image_processor.size[\"width\"])\n",
    ")\n",
    "_transforms = Compose([Resize(size), ToTensor(), normalize])\n",
    "\n",
    "def transforms(examples):\n",
    "    examples[\"pixel_values\"] = [_transforms(img.convert(\"RGB\")) for img in examples[\"image\"]]\n",
    "    return examples\n",
    "\n",
    "\n",
    "\n",
    "\n",
    "model = AutoModelForImageClassification.from_pretrained(\n",
    "        model_id,\n",
    "    id2label=id2label,\n",
    "    label2id=label2id,\n",
    "    ignore_mismatched_sizes = True).to(device)\n",
    "\n",
    "ds = ds.with_transform(transforms)\n",
    "#filter for gold_standard source\n",
    "# ds_gold = ds.filter(lambda x: x['source'] == 'gold_standard')\n",
    "# ds = ds.filter(lambda x: x['source'] != 'gold_standard')\n",
    "ds = ds.train_test_split(test_size=0.3, stratify_by_column='label', seed=params[\"random_seed\"])\n",
    "\n",
    "def compute_metrics(eval_pred):\n",
    "    predictions, labels = eval_pred\n",
    "    predictions = np.argmax(predictions, axis=1)\n",
    "    return accuracy.compute(predictions=predictions, references=labels)\n",
    "\n",
    "accuracy = evaluate.load(\"accuracy\")\n",
    "\n",
    "def collate_fn(examples):\n",
    "    pixel_values = torch.stack([example[\"pixel_values\"] for example in examples])\n",
    "    labels = torch.tensor([example[\"label\"] for example in examples])\n",
    "    return {\"pixel_values\": pixel_values, \"labels\": labels}\n",
    "\n",
    "now = datetime.now().strftime(\"%Y-%m-%d %H:%M:%S\")\n",
    "training_args = TrainingArguments(\n",
    "    output_dir=\"../data/models/ac_model/\" + model_id + now,\n",
    "    remove_unused_columns=False,\n",
    "    evaluation_strategy=\"epoch\",\n",
    "    save_strategy=\"epoch\",\n",
    "    learning_rate=5e-5,\n",
    "    per_device_train_batch_size=16,\n",
    "    gradient_accumulation_steps=4,\n",
    "    per_device_eval_batch_size=16,\n",
    "    num_train_epochs=100,\n",
    "    warmup_ratio=0.1,\n",
    "    logging_steps=1,\n",
    "    load_best_model_at_end=True,\n",
    "    metric_for_best_model=\"accuracy\",\n",
    "    push_to_hub=False\n",
    ")\n",
    "\n",
    "trainer = Trainer(\n",
    "    model=model,\n",
    "    args=training_args,\n",
    "    data_collator=collate_fn,\n",
    "    train_dataset=ds[\"train\"],\n",
    "    eval_dataset=ds[\"test\"] ,\n",
    "    tokenizer=image_processor,\n",
    "    compute_metrics=compute_metrics,\n",
    ")\n"
   ],
   "id": "7910911528e11e53"
  },
  {
   "metadata": {},
   "cell_type": "code",
   "outputs": [],
   "execution_count": null,
   "source": "",
   "id": "53064f3c599deccf"
  },
  {
   "metadata": {
    "ExecuteTime": {
     "end_time": "2024-05-31T22:11:38.266681Z",
     "start_time": "2024-05-31T22:06:18.420701Z"
    }
   },
   "cell_type": "code",
   "source": "train_results = trainer.train()",
   "id": "c1ec726f76e4780e",
   "outputs": [
    {
     "data": {
      "text/plain": [
       "<IPython.core.display.HTML object>"
      ],
      "text/html": [
       "\n",
       "    <div>\n",
       "      \n",
       "      <progress value='100' max='100' style='width:300px; height:20px; vertical-align: middle;'></progress>\n",
       "      [100/100 05:15, Epoch 57/100]\n",
       "    </div>\n",
       "    <table border=\"1\" class=\"dataframe\">\n",
       "  <thead>\n",
       " <tr style=\"text-align: left;\">\n",
       "      <th>Epoch</th>\n",
       "      <th>Training Loss</th>\n",
       "      <th>Validation Loss</th>\n",
       "      <th>Accuracy</th>\n",
       "    </tr>\n",
       "  </thead>\n",
       "  <tbody>\n",
       "    <tr>\n",
       "      <td>0</td>\n",
       "      <td>0.658000</td>\n",
       "      <td>0.664455</td>\n",
       "      <td>0.644444</td>\n",
       "    </tr>\n",
       "    <tr>\n",
       "      <td>1</td>\n",
       "      <td>0.665300</td>\n",
       "      <td>0.639594</td>\n",
       "      <td>0.666667</td>\n",
       "    </tr>\n",
       "    <tr>\n",
       "      <td>2</td>\n",
       "      <td>0.572300</td>\n",
       "      <td>0.619031</td>\n",
       "      <td>0.688889</td>\n",
       "    </tr>\n",
       "    <tr>\n",
       "      <td>4</td>\n",
       "      <td>0.466300</td>\n",
       "      <td>0.592609</td>\n",
       "      <td>0.688889</td>\n",
       "    </tr>\n",
       "    <tr>\n",
       "      <td>5</td>\n",
       "      <td>0.349900</td>\n",
       "      <td>0.555494</td>\n",
       "      <td>0.711111</td>\n",
       "    </tr>\n",
       "    <tr>\n",
       "      <td>6</td>\n",
       "      <td>0.323400</td>\n",
       "      <td>0.531607</td>\n",
       "      <td>0.733333</td>\n",
       "    </tr>\n",
       "    <tr>\n",
       "      <td>8</td>\n",
       "      <td>0.156600</td>\n",
       "      <td>0.630151</td>\n",
       "      <td>0.733333</td>\n",
       "    </tr>\n",
       "    <tr>\n",
       "      <td>9</td>\n",
       "      <td>0.078400</td>\n",
       "      <td>0.645564</td>\n",
       "      <td>0.755556</td>\n",
       "    </tr>\n",
       "    <tr>\n",
       "      <td>10</td>\n",
       "      <td>0.055400</td>\n",
       "      <td>0.564735</td>\n",
       "      <td>0.800000</td>\n",
       "    </tr>\n",
       "    <tr>\n",
       "      <td>12</td>\n",
       "      <td>0.052600</td>\n",
       "      <td>0.844711</td>\n",
       "      <td>0.733333</td>\n",
       "    </tr>\n",
       "    <tr>\n",
       "      <td>13</td>\n",
       "      <td>0.038800</td>\n",
       "      <td>1.021744</td>\n",
       "      <td>0.711111</td>\n",
       "    </tr>\n",
       "    <tr>\n",
       "      <td>14</td>\n",
       "      <td>0.029400</td>\n",
       "      <td>0.785905</td>\n",
       "      <td>0.755556</td>\n",
       "    </tr>\n",
       "    <tr>\n",
       "      <td>16</td>\n",
       "      <td>0.009100</td>\n",
       "      <td>0.735213</td>\n",
       "      <td>0.777778</td>\n",
       "    </tr>\n",
       "    <tr>\n",
       "      <td>17</td>\n",
       "      <td>0.008200</td>\n",
       "      <td>1.045481</td>\n",
       "      <td>0.733333</td>\n",
       "    </tr>\n",
       "    <tr>\n",
       "      <td>18</td>\n",
       "      <td>0.014600</td>\n",
       "      <td>1.425241</td>\n",
       "      <td>0.688889</td>\n",
       "    </tr>\n",
       "    <tr>\n",
       "      <td>20</td>\n",
       "      <td>0.004700</td>\n",
       "      <td>1.400337</td>\n",
       "      <td>0.711111</td>\n",
       "    </tr>\n",
       "    <tr>\n",
       "      <td>21</td>\n",
       "      <td>0.001900</td>\n",
       "      <td>1.274583</td>\n",
       "      <td>0.733333</td>\n",
       "    </tr>\n",
       "    <tr>\n",
       "      <td>22</td>\n",
       "      <td>0.005300</td>\n",
       "      <td>1.340307</td>\n",
       "      <td>0.733333</td>\n",
       "    </tr>\n",
       "    <tr>\n",
       "      <td>24</td>\n",
       "      <td>0.003200</td>\n",
       "      <td>1.522348</td>\n",
       "      <td>0.733333</td>\n",
       "    </tr>\n",
       "    <tr>\n",
       "      <td>25</td>\n",
       "      <td>0.001000</td>\n",
       "      <td>1.544409</td>\n",
       "      <td>0.733333</td>\n",
       "    </tr>\n",
       "    <tr>\n",
       "      <td>26</td>\n",
       "      <td>0.000800</td>\n",
       "      <td>1.521132</td>\n",
       "      <td>0.733333</td>\n",
       "    </tr>\n",
       "    <tr>\n",
       "      <td>28</td>\n",
       "      <td>0.001300</td>\n",
       "      <td>1.553607</td>\n",
       "      <td>0.733333</td>\n",
       "    </tr>\n",
       "    <tr>\n",
       "      <td>29</td>\n",
       "      <td>0.000600</td>\n",
       "      <td>1.586963</td>\n",
       "      <td>0.733333</td>\n",
       "    </tr>\n",
       "    <tr>\n",
       "      <td>30</td>\n",
       "      <td>0.002700</td>\n",
       "      <td>1.611644</td>\n",
       "      <td>0.755556</td>\n",
       "    </tr>\n",
       "    <tr>\n",
       "      <td>32</td>\n",
       "      <td>0.005900</td>\n",
       "      <td>1.589269</td>\n",
       "      <td>0.755556</td>\n",
       "    </tr>\n",
       "    <tr>\n",
       "      <td>33</td>\n",
       "      <td>0.001600</td>\n",
       "      <td>1.538973</td>\n",
       "      <td>0.755556</td>\n",
       "    </tr>\n",
       "    <tr>\n",
       "      <td>34</td>\n",
       "      <td>0.000900</td>\n",
       "      <td>1.512076</td>\n",
       "      <td>0.755556</td>\n",
       "    </tr>\n",
       "    <tr>\n",
       "      <td>36</td>\n",
       "      <td>0.000700</td>\n",
       "      <td>1.471957</td>\n",
       "      <td>0.755556</td>\n",
       "    </tr>\n",
       "    <tr>\n",
       "      <td>37</td>\n",
       "      <td>0.000300</td>\n",
       "      <td>1.455225</td>\n",
       "      <td>0.755556</td>\n",
       "    </tr>\n",
       "    <tr>\n",
       "      <td>38</td>\n",
       "      <td>0.000600</td>\n",
       "      <td>1.444837</td>\n",
       "      <td>0.755556</td>\n",
       "    </tr>\n",
       "    <tr>\n",
       "      <td>40</td>\n",
       "      <td>0.000200</td>\n",
       "      <td>1.433980</td>\n",
       "      <td>0.755556</td>\n",
       "    </tr>\n",
       "    <tr>\n",
       "      <td>41</td>\n",
       "      <td>0.000600</td>\n",
       "      <td>1.499837</td>\n",
       "      <td>0.755556</td>\n",
       "    </tr>\n",
       "    <tr>\n",
       "      <td>42</td>\n",
       "      <td>0.000800</td>\n",
       "      <td>1.552159</td>\n",
       "      <td>0.755556</td>\n",
       "    </tr>\n",
       "    <tr>\n",
       "      <td>44</td>\n",
       "      <td>0.001400</td>\n",
       "      <td>1.617969</td>\n",
       "      <td>0.733333</td>\n",
       "    </tr>\n",
       "    <tr>\n",
       "      <td>45</td>\n",
       "      <td>0.001900</td>\n",
       "      <td>1.626427</td>\n",
       "      <td>0.733333</td>\n",
       "    </tr>\n",
       "    <tr>\n",
       "      <td>46</td>\n",
       "      <td>0.000100</td>\n",
       "      <td>1.611952</td>\n",
       "      <td>0.733333</td>\n",
       "    </tr>\n",
       "    <tr>\n",
       "      <td>48</td>\n",
       "      <td>0.000100</td>\n",
       "      <td>1.586323</td>\n",
       "      <td>0.755556</td>\n",
       "    </tr>\n",
       "    <tr>\n",
       "      <td>49</td>\n",
       "      <td>0.000200</td>\n",
       "      <td>1.574224</td>\n",
       "      <td>0.755556</td>\n",
       "    </tr>\n",
       "    <tr>\n",
       "      <td>50</td>\n",
       "      <td>0.000400</td>\n",
       "      <td>1.564142</td>\n",
       "      <td>0.755556</td>\n",
       "    </tr>\n",
       "    <tr>\n",
       "      <td>52</td>\n",
       "      <td>0.001000</td>\n",
       "      <td>1.527232</td>\n",
       "      <td>0.755556</td>\n",
       "    </tr>\n",
       "    <tr>\n",
       "      <td>53</td>\n",
       "      <td>0.000200</td>\n",
       "      <td>1.514097</td>\n",
       "      <td>0.755556</td>\n",
       "    </tr>\n",
       "    <tr>\n",
       "      <td>54</td>\n",
       "      <td>0.004200</td>\n",
       "      <td>1.519513</td>\n",
       "      <td>0.755556</td>\n",
       "    </tr>\n",
       "    <tr>\n",
       "      <td>56</td>\n",
       "      <td>0.000300</td>\n",
       "      <td>1.537057</td>\n",
       "      <td>0.755556</td>\n",
       "    </tr>\n",
       "    <tr>\n",
       "      <td>57</td>\n",
       "      <td>0.000500</td>\n",
       "      <td>1.538559</td>\n",
       "      <td>0.755556</td>\n",
       "    </tr>\n",
       "  </tbody>\n",
       "</table><p>"
      ]
     },
     "metadata": {},
     "output_type": "display_data"
    }
   ],
   "execution_count": 20
  },
  {
   "metadata": {
    "ExecuteTime": {
     "end_time": "2024-05-31T21:58:17.852409Z",
     "start_time": "2024-05-31T21:58:17.849861Z"
    }
   },
   "cell_type": "code",
   "source": "id2label",
   "id": "443d84e8cfc16207",
   "outputs": [
    {
     "data": {
      "text/plain": [
       "{'0': 'No', '1': 'Yes'}"
      ]
     },
     "execution_count": 12,
     "metadata": {},
     "output_type": "execute_result"
    }
   ],
   "execution_count": 12
  },
  {
   "metadata": {
    "ExecuteTime": {
     "end_time": "2024-05-31T22:05:53.284252Z",
     "start_time": "2024-05-31T22:05:52.987060Z"
    }
   },
   "cell_type": "code",
   "source": [
    "import matplotlib.pyplot as plt\n",
    "\n",
    "# Retrieve the log history\n",
    "log_history = trainer.state.log_history\n",
    "\n",
    "# Extract the accuracy values and the corresponding steps\n",
    "steps = [entry['step'] for entry in log_history if 'eval_accuracy' in entry]\n",
    "accuracy_over_steps = [entry['eval_accuracy'] for entry in log_history if 'eval_accuracy' in entry]\n",
    "\n",
    "# Plot the accuracy values\n",
    "plt.figure(figsize=(10, 6))\n",
    "plt.plot(steps, accuracy_over_steps, marker='o')\n",
    "plt.title('Model Accuracy Over Time')\n",
    "plt.xlabel('Steps')\n",
    "plt.ylabel('Accuracy')\n",
    "plt.grid()\n",
    "plt.show()"
   ],
   "id": "82ccd8381c8dbf89",
   "outputs": [
    {
     "data": {
      "text/plain": [
       "<Figure size 1000x600 with 1 Axes>"
      ],
      "image/png": "[encoded data removed]"
     },
     "metadata": {},
     "output_type": "display_data"
    }
   ],
   "execution_count": 18
  },
  {
   "metadata": {
    "ExecuteTime": {
     "end_time": "2024-05-31T22:02:01.713296Z",
     "start_time": "2024-05-31T22:02:01.707927Z"
    }
   },
   "cell_type": "code",
   "source": "ds[\"test\"]",
   "id": "1ac1fbd5cb643e8",
   "outputs": [
    {
     "data": {
      "text/plain": [
       "Dataset({\n",
       "    features: ['idx', 'source', 'task_text', 'image', 'label'],\n",
       "    num_rows: 45\n",
       "})"
      ]
     },
     "execution_count": 15,
     "metadata": {},
     "output_type": "execute_result"
    }
   ],
   "execution_count": 15
  },
  {
   "metadata": {
    "ExecuteTime": {
     "end_time": "2024-05-20T18:24:36.882874Z",
     "start_time": "2024-05-20T18:24:36.881665Z"
    }
   },
   "cell_type": "code",
   "source": "",
   "id": "53d1738df67a6b85",
   "outputs": [],
   "execution_count": 5
  },
  {
   "metadata": {
    "ExecuteTime": {
     "end_time": "2024-05-20T18:24:39.320783Z",
     "start_time": "2024-05-20T18:24:36.883420Z"
    }
   },
   "cell_type": "code",
   "source": [
    "\n",
    "# Load the images and crop them around the orange bounding box\n",
    "# Path: image_classification.ipynb\n",
    "\n",
    "\n",
    "params = {}\n",
    "params['image_ids'] = data_labels['image_id']\n",
    "#params['image_ids'] = np.array(['347ED694-833B-4F44-ABD9-8A26E9BF12A7_1_201_a.jpeg'])\n",
    "params['images_folder'] = images_folder\n",
    "params['cropped_images_folder'] = cropped_images_folder\n",
    "params['hsv_range'] = [[8, 120, 200], [12, 255, 255]] #filter for a specific color (tested for 100% capture of 150 examples\n",
    "params['kernal'] = np.ones((20,20), np.uint8)\n",
    "params['min_bb_area'] = 1\n",
    "params['max_bb_area'] = 1000000000\n",
    "params['min_ratio'] = 1.0\n",
    "\n",
    "image, cropped_image, mask = crop_images_by_box(params)"
   ],
   "id": "a8dbdfe942628309",
   "outputs": [
    {
     "name": "stdout",
     "output_type": "stream",
     "text": [
      "6241326\n",
      "6241326\n",
      "5575350\n",
      "5944356\n",
      "5825034\n",
      "5698746\n",
      "4832988\n",
      "4222290\n",
      "4222290\n",
      "4222290\n",
      "4222290\n",
      "4830840\n",
      "5472909\n",
      "5472909\n",
      "5472909\n",
      "5472909\n",
      "5472909\n",
      "5472909\n",
      "5472909\n",
      "5472909\n",
      "5472909\n",
      "5472909\n",
      "5472909\n",
      "5472909\n",
      "5472909\n",
      "5472909\n",
      "5472909\n",
      "6144723\n",
      "6144723\n",
      "6144723\n",
      "6144723\n",
      "6144723\n",
      "6144723\n",
      "6144723\n",
      "6144723\n",
      "6144723\n",
      "6144723\n",
      "6144723\n",
      "6144723\n",
      "6144723\n",
      "6144723\n",
      "6144723\n",
      "6144723\n",
      "6144723\n",
      "6144723\n",
      "6144723\n",
      "6144723\n",
      "6144723\n",
      "6144723\n",
      "6144723\n",
      "6144723\n",
      "6144723\n",
      "6144723\n",
      "6144723\n",
      "6144723\n",
      "6144723\n",
      "6144723\n",
      "6144723\n",
      "6144723\n",
      "6144723\n",
      "6144723\n",
      "6144723\n",
      "6144723\n",
      "6144723\n",
      "6144723\n",
      "6144723\n",
      "6144723\n",
      "6144723\n",
      "6144723\n",
      "6144723\n",
      "6144723\n",
      "6144723\n",
      "6144723\n",
      "6144723\n",
      "6144723\n",
      "6144723\n",
      "6144723\n",
      "5905671\n",
      "5905671\n",
      "5905671\n",
      "5905671\n",
      "5905671\n",
      "5905671\n",
      "5905671\n",
      "5905671\n",
      "5905671\n",
      "5905671\n",
      "5905671\n",
      "5905671\n",
      "5905671\n",
      "5905671\n",
      "5905671\n",
      "5905671\n",
      "5905671\n",
      "5905671\n",
      "5905671\n",
      "5905671\n",
      "5905671\n",
      "5905671\n",
      "5905671\n",
      "5905671\n",
      "5905671\n",
      "5905671\n",
      "5905671\n",
      "5905671\n",
      "5905671\n",
      "5905671\n",
      "5177730\n",
      "5177730\n",
      "6373230\n",
      "6373230\n",
      "6488742\n",
      "6488742\n",
      "6488742\n",
      "6488742\n",
      "6488742\n",
      "6488742\n",
      "6488742\n",
      "6488742\n",
      "6488742\n",
      "6488742\n",
      "6488742\n",
      "6488742\n",
      "6488742\n",
      "6488742\n",
      "6488742\n",
      "6488742\n",
      "6488742\n",
      "6488742\n",
      "6488742\n",
      "6488742\n",
      "6488742\n",
      "6488742\n",
      "6488742\n",
      "6488742\n",
      "6488742\n",
      "6351228\n",
      "6351228\n",
      "6351228\n",
      "6351228\n",
      "6351228\n",
      "6351228\n",
      "6351228\n",
      "6351228\n",
      "6351228\n",
      "6351228\n",
      "6351228\n",
      "6351228\n",
      "6351228\n",
      "8195130\n"
     ]
    }
   ],
   "execution_count": 6
  },
  {
   "metadata": {
    "ExecuteTime": {
     "end_time": "2024-05-20T18:25:12.078497Z",
     "start_time": "2024-05-20T18:25:11.808024Z"
    }
   },
   "cell_type": "code",
   "source": "plt.imshow(mask)",
   "id": "d5cbed6fb8c099a9",
   "outputs": [
    {
     "data": {
      "text/plain": [
       "<matplotlib.image.AxesImage at 0x325b92510>"
      ]
     },
     "execution_count": 8,
     "metadata": {},
     "output_type": "execute_result"
    },
    {
     "data": {
      "text/plain": [
       "<Figure size 640x480 with 1 Axes>"
      ],
      "image/png": "[encoded data removed]"
     },
     "metadata": {},
     "output_type": "display_data"
    }
   ],
   "execution_count": 8
  },
  {
   "metadata": {
    "ExecuteTime": {
     "end_time": "2024-05-20T18:25:14.864820Z",
     "start_time": "2024-05-20T18:25:14.858884Z"
    }
   },
   "cell_type": "code",
   "source": "data_labels",
   "id": "e6c0c6bcd52fdd0f",
   "outputs": [
    {
     "data": {
      "text/plain": [
       "     row_number                                            image_id  \\\n",
       "0              1  347ED694-833B-4F44-ABD9-8A26E9BF12A7_1_201_a.jpeg   \n",
       "1              2          56E8920C-C46B-4CC9-96CC-178AE00230D3.jpeg   \n",
       "2              3          0AD2D165-CE95-4F5C-BF88-524EA08A686E.jpeg   \n",
       "3              4          66B175F8-4DAC-4FBA-B8F5-C26711B0C71F.jpeg   \n",
       "4              5          55CE2555-D78E-49BE-8E89-476C586FEAE1.jpeg   \n",
       "..           ...                                                ...   \n",
       "145          146          B1C7EC79-8557-4E99-B35F-84D865173443.jpeg   \n",
       "146          147          BE4A6D79-5A14-426D-BE3B-AB1E723C6D1B.jpeg   \n",
       "147          148          95EACEFD-27BD-4C6C-91EE-9F2FC2C55F21.jpeg   \n",
       "148          149          118B1765-3890-4C35-92B8-6570017F9193.jpeg   \n",
       "149          150          1BDD9BC4-614A-4AE2-A550-D5A77E12F8A2.jpeg   \n",
       "\n",
       "                                               address ac_present ac_leaking  \\\n",
       "0           1330 W Willow St, Lafayette, LA 70506, USA        yes        yes   \n",
       "1      1110 N University Ave, Lafayette, LA 70506, USA        yes    unknown   \n",
       "2           106 Madeline Ave, Lafayette, LA 70501, USA         no         no   \n",
       "3         200 S Bienville St, Lafayette, LA 70501, USA        yes        yes   \n",
       "4          100 W St Louis St, Lafayette, LA 70506, USA         no         no   \n",
       "..                                                 ...        ...        ...   \n",
       "145           2541 E Thomas Ave, Fresno, CA 93701, USA        yes         no   \n",
       "146  520 W Riordan Rd, Flagstaff, AZ 86001, United ...         no         no   \n",
       "147            2025 E White Ave, Fresno, CA 93701, USA        yes        yes   \n",
       "148         510 W Tucson Ave, Flagstaff, AZ 86001, USA         no         no   \n",
       "149          1723 E Belmont Ave, Fresno, CA 93701, USA        yes        yes   \n",
       "\n",
       "    ac_discolored                                           comments  num_ac  \\\n",
       "0      blackwhite                                                NaN     4.0   \n",
       "1         unknown  There is a black tone in all the roof parcel, ...     3.0   \n",
       "2              no                                                NaN     0.0   \n",
       "3           black                                                NaN     2.0   \n",
       "4              no                                                NaN     0.0   \n",
       "..            ...                                                ...     ...   \n",
       "145            no                                                NaN     5.0   \n",
       "146            no                                                NaN     0.0   \n",
       "147    blackwhite                                                NaN     5.0   \n",
       "148            no                                                NaN     0.0   \n",
       "149         white                                                NaN     2.0   \n",
       "\n",
       "     black1hot  white1hot  present1hot  leaking1hot  present_unknown1hot  \\\n",
       "0            1          1            1            1                    1   \n",
       "1            0          0            1            0                    1   \n",
       "2            0          0            0            0                    0   \n",
       "3            1          0            1            1                    1   \n",
       "4            0          0            0            0                    0   \n",
       "..         ...        ...          ...          ...                  ...   \n",
       "145          0          0            1            0                    1   \n",
       "146          0          0            0            0                    0   \n",
       "147          1          1            1            1                    1   \n",
       "148          0          0            0            0                    0   \n",
       "149          0          1            1            1                    1   \n",
       "\n",
       "     leaking_unknown1hot  color_unknown1hot  \n",
       "0                      1                  1  \n",
       "1                      0                  0  \n",
       "2                      0                  0  \n",
       "3                      1                  1  \n",
       "4                      0                  0  \n",
       "..                   ...                ...  \n",
       "145                    0                  0  \n",
       "146                    0                  0  \n",
       "147                    1                  1  \n",
       "148                    0                  0  \n",
       "149                    1                  1  \n",
       "\n",
       "[150 rows x 15 columns]"
      ],
      "text/html": [
       "<div>\n",
       "<style scoped>\n",
       "    .dataframe tbody tr th:only-of-type {\n",
       "        vertical-align: middle;\n",
       "    }\n",
       "\n",
       "    .dataframe tbody tr th {\n",
       "        vertical-align: top;\n",
       "    }\n",
       "\n",
       "    .dataframe thead th {\n",
       "        text-align: right;\n",
       "    }\n",
       "</style>\n",
       "<table border=\"1\" class=\"dataframe\">\n",
       "  <thead>\n",
       "    <tr style=\"text-align: right;\">\n",
       "      <th></th>\n",
       "      <th>row_number</th>\n",
       "      <th>image_id</th>\n",
       "      <th>address</th>\n",
       "      <th>ac_present</th>\n",
       "      <th>ac_leaking</th>\n",
       "      <th>ac_discolored</th>\n",
       "      <th>comments</th>\n",
       "      <th>num_ac</th>\n",
       "      <th>black1hot</th>\n",
       "      <th>white1hot</th>\n",
       "      <th>present1hot</th>\n",
       "      <th>leaking1hot</th>\n",
       "      <th>present_unknown1hot</th>\n",
       "      <th>leaking_unknown1hot</th>\n",
       "      <th>color_unknown1hot</th>\n",
       "    </tr>\n",
       "  </thead>\n",
       "  <tbody>\n",
       "    <tr>\n",
       "      <th>0</th>\n",
       "      <td>1</td>\n",
       "      <td>347ED694-833B-4F44-ABD9-8A26E9BF12A7_1_201_a.jpeg</td>\n",
       "      <td>1330 W Willow St, Lafayette, LA 70506, USA</td>\n",
       "      <td>yes</td>\n",
       "      <td>yes</td>\n",
       "      <td>blackwhite</td>\n",
       "      <td>NaN</td>\n",
       "      <td>4.0</td>\n",
       "      <td>1</td>\n",
       "      <td>1</td>\n",
       "      <td>1</td>\n",
       "      <td>1</td>\n",
       "      <td>1</td>\n",
       "      <td>1</td>\n",
       "      <td>1</td>\n",
       "    </tr>\n",
       "    <tr>\n",
       "      <th>1</th>\n",
       "      <td>2</td>\n",
       "      <td>56E8920C-C46B-4CC9-96CC-178AE00230D3.jpeg</td>\n",
       "      <td>1110 N University Ave, Lafayette, LA 70506, USA</td>\n",
       "      <td>yes</td>\n",
       "      <td>unknown</td>\n",
       "      <td>unknown</td>\n",
       "      <td>There is a black tone in all the roof parcel, ...</td>\n",
       "      <td>3.0</td>\n",
       "      <td>0</td>\n",
       "      <td>0</td>\n",
       "      <td>1</td>\n",
       "      <td>0</td>\n",
       "      <td>1</td>\n",
       "      <td>0</td>\n",
       "      <td>0</td>\n",
       "    </tr>\n",
       "    <tr>\n",
       "      <th>2</th>\n",
       "      <td>3</td>\n",
       "      <td>0AD2D165-CE95-4F5C-BF88-524EA08A686E.jpeg</td>\n",
       "      <td>106 Madeline Ave, Lafayette, LA 70501, USA</td>\n",
       "      <td>no</td>\n",
       "      <td>no</td>\n",
       "      <td>no</td>\n",
       "      <td>NaN</td>\n",
       "      <td>0.0</td>\n",
       "      <td>0</td>\n",
       "      <td>0</td>\n",
       "      <td>0</td>\n",
       "      <td>0</td>\n",
       "      <td>0</td>\n",
       "      <td>0</td>\n",
       "      <td>0</td>\n",
       "    </tr>\n",
       "    <tr>\n",
       "      <th>3</th>\n",
       "      <td>4</td>\n",
       "      <td>66B175F8-4DAC-4FBA-B8F5-C26711B0C71F.jpeg</td>\n",
       "      <td>200 S Bienville St, Lafayette, LA 70501, USA</td>\n",
       "      <td>yes</td>\n",
       "      <td>yes</td>\n",
       "      <td>black</td>\n",
       "      <td>NaN</td>\n",
       "      <td>2.0</td>\n",
       "      <td>1</td>\n",
       "      <td>0</td>\n",
       "      <td>1</td>\n",
       "      <td>1</td>\n",
       "      <td>1</td>\n",
       "      <td>1</td>\n",
       "      <td>1</td>\n",
       "    </tr>\n",
       "    <tr>\n",
       "      <th>4</th>\n",
       "      <td>5</td>\n",
       "      <td>55CE2555-D78E-49BE-8E89-476C586FEAE1.jpeg</td>\n",
       "      <td>100 W St Louis St, Lafayette, LA 70506, USA</td>\n",
       "      <td>no</td>\n",
       "      <td>no</td>\n",
       "      <td>no</td>\n",
       "      <td>NaN</td>\n",
       "      <td>0.0</td>\n",
       "      <td>0</td>\n",
       "      <td>0</td>\n",
       "      <td>0</td>\n",
       "      <td>0</td>\n",
       "      <td>0</td>\n",
       "      <td>0</td>\n",
       "      <td>0</td>\n",
       "    </tr>\n",
       "    <tr>\n",
       "      <th>...</th>\n",
       "      <td>...</td>\n",
       "      <td>...</td>\n",
       "      <td>...</td>\n",
       "      <td>...</td>\n",
       "      <td>...</td>\n",
       "      <td>...</td>\n",
       "      <td>...</td>\n",
       "      <td>...</td>\n",
       "      <td>...</td>\n",
       "      <td>...</td>\n",
       "      <td>...</td>\n",
       "      <td>...</td>\n",
       "      <td>...</td>\n",
       "      <td>...</td>\n",
       "      <td>...</td>\n",
       "    </tr>\n",
       "    <tr>\n",
       "      <th>145</th>\n",
       "      <td>146</td>\n",
       "      <td>B1C7EC79-8557-4E99-B35F-84D865173443.jpeg</td>\n",
       "      <td>2541 E Thomas Ave, Fresno, CA 93701, USA</td>\n",
       "      <td>yes</td>\n",
       "      <td>no</td>\n",
       "      <td>no</td>\n",
       "      <td>NaN</td>\n",
       "      <td>5.0</td>\n",
       "      <td>0</td>\n",
       "      <td>0</td>\n",
       "      <td>1</td>\n",
       "      <td>0</td>\n",
       "      <td>1</td>\n",
       "      <td>0</td>\n",
       "      <td>0</td>\n",
       "    </tr>\n",
       "    <tr>\n",
       "      <th>146</th>\n",
       "      <td>147</td>\n",
       "      <td>BE4A6D79-5A14-426D-BE3B-AB1E723C6D1B.jpeg</td>\n",
       "      <td>520 W Riordan Rd, Flagstaff, AZ 86001, United ...</td>\n",
       "      <td>no</td>\n",
       "      <td>no</td>\n",
       "      <td>no</td>\n",
       "      <td>NaN</td>\n",
       "      <td>0.0</td>\n",
       "      <td>0</td>\n",
       "      <td>0</td>\n",
       "      <td>0</td>\n",
       "      <td>0</td>\n",
       "      <td>0</td>\n",
       "      <td>0</td>\n",
       "      <td>0</td>\n",
       "    </tr>\n",
       "    <tr>\n",
       "      <th>147</th>\n",
       "      <td>148</td>\n",
       "      <td>95EACEFD-27BD-4C6C-91EE-9F2FC2C55F21.jpeg</td>\n",
       "      <td>2025 E White Ave, Fresno, CA 93701, USA</td>\n",
       "      <td>yes</td>\n",
       "      <td>yes</td>\n",
       "      <td>blackwhite</td>\n",
       "      <td>NaN</td>\n",
       "      <td>5.0</td>\n",
       "      <td>1</td>\n",
       "      <td>1</td>\n",
       "      <td>1</td>\n",
       "      <td>1</td>\n",
       "      <td>1</td>\n",
       "      <td>1</td>\n",
       "      <td>1</td>\n",
       "    </tr>\n",
       "    <tr>\n",
       "      <th>148</th>\n",
       "      <td>149</td>\n",
       "      <td>118B1765-3890-4C35-92B8-6570017F9193.jpeg</td>\n",
       "      <td>510 W Tucson Ave, Flagstaff, AZ 86001, USA</td>\n",
       "      <td>no</td>\n",
       "      <td>no</td>\n",
       "      <td>no</td>\n",
       "      <td>NaN</td>\n",
       "      <td>0.0</td>\n",
       "      <td>0</td>\n",
       "      <td>0</td>\n",
       "      <td>0</td>\n",
       "      <td>0</td>\n",
       "      <td>0</td>\n",
       "      <td>0</td>\n",
       "      <td>0</td>\n",
       "    </tr>\n",
       "    <tr>\n",
       "      <th>149</th>\n",
       "      <td>150</td>\n",
       "      <td>1BDD9BC4-614A-4AE2-A550-D5A77E12F8A2.jpeg</td>\n",
       "      <td>1723 E Belmont Ave, Fresno, CA 93701, USA</td>\n",
       "      <td>yes</td>\n",
       "      <td>yes</td>\n",
       "      <td>white</td>\n",
       "      <td>NaN</td>\n",
       "      <td>2.0</td>\n",
       "      <td>0</td>\n",
       "      <td>1</td>\n",
       "      <td>1</td>\n",
       "      <td>1</td>\n",
       "      <td>1</td>\n",
       "      <td>1</td>\n",
       "      <td>1</td>\n",
       "    </tr>\n",
       "  </tbody>\n",
       "</table>\n",
       "<p>150 rows × 15 columns</p>\n",
       "</div>"
      ]
     },
     "execution_count": 9,
     "metadata": {},
     "output_type": "execute_result"
    }
   ],
   "execution_count": 9
  },
  {
   "metadata": {
    "ExecuteTime": {
     "end_time": "2024-05-20T18:25:16.986090Z",
     "start_time": "2024-05-20T18:25:16.983316Z"
    }
   },
   "cell_type": "code",
   "source": [
    "    \n",
    "## Step 2: Building the model\n",
    "# Path: image_classification.ipynb\n"
   ],
   "id": "f2650b395d97783",
   "outputs": [],
   "execution_count": 10
  },
  {
   "metadata": {
    "ExecuteTime": {
     "end_time": "2024-05-21T21:29:45.403743Z",
     "start_time": "2024-05-21T21:29:45.396733Z"
    }
   },
   "cell_type": "code",
   "source": "",
   "id": "54b072b51c6b2217",
   "outputs": [
    {
     "ename": "NameError",
     "evalue": "name 'processor' is not defined",
     "output_type": "error",
     "traceback": [
      "\u001B[0;31m---------------------------------------------------------------------------\u001B[0m",
      "\u001B[0;31mNameError\u001B[0m                                 Traceback (most recent call last)",
      "Cell \u001B[0;32mIn[4], line 1\u001B[0m\n\u001B[0;32m----> 1\u001B[0m \u001B[38;5;28mprint\u001B[39m(\u001B[43mprocessor\u001B[49m)\n",
      "\u001B[0;31mNameError\u001B[0m: name 'processor' is not defined"
     ]
    }
   ],
   "execution_count": 4
  },
  {
   "metadata": {
    "ExecuteTime": {
     "end_time": "2024-05-20T18:56:18.204263Z",
     "start_time": "2024-05-20T18:56:18.199268Z"
    }
   },
   "cell_type": "code",
   "source": [
    "# Define the transformations\n",
    "# Use the same transformations as the MobileNetV2 model\n",
    "transform = transforms.Compose([\n",
    "    transforms.Resize((224, 224)),\n",
    "    transforms.RandomHorizontalFlip(),\n",
    "    transforms.RandomRotation(20),\n",
    "    transforms.ToTensor(),\n",
    "    transforms.Normalize(mean=[0.485, 0.456, 0.406], std=[0.229, 0.224, 0.225])\n",
    "\n",
    "])\n",
    "\n",
    "# Create the dataset\n",
    "dataset = ACDataset(data_labels, cropped_images_folder, transform=transform)"
   ],
   "id": "29e60dd518a1b0e9",
   "outputs": [],
   "execution_count": 67
  },
  {
   "metadata": {
    "ExecuteTime": {
     "end_time": "2024-05-20T18:56:19.159543Z",
     "start_time": "2024-05-20T18:56:19.141814Z"
    }
   },
   "cell_type": "code",
   "source": [
    "# Split the dataset into training, testing, and validation sets\n",
    "\n",
    "train_size = 0.6\n",
    "test_size = 0.1\n",
    "val_size = 0.3\n",
    "num_samples = len(dataset)\n",
    "\n",
    "indices = np.arange(num_samples)\n",
    "train_indices, test_val_indices = train_test_split(indices, test_size=test_size+val_size, random_state=random_seed)\n",
    "test_val_indices = np.array(test_val_indices)\n",
    "test_indices, val_indices = train_test_split(test_val_indices, test_size=val_size/(test_size+val_size), random_state=random_seed)\n",
    "\n",
    "train_dataset = torch.utils.data.Subset(dataset, train_indices)\n",
    "test_dataset = torch.utils.data.Subset(dataset, test_indices)\n",
    "val_dataset = torch.utils.data.Subset(dataset, val_indices)\n"
   ],
   "id": "a15a15b7c647ef80",
   "outputs": [],
   "execution_count": 68
  },
  {
   "metadata": {
    "ExecuteTime": {
     "end_time": "2024-05-20T18:56:19.604539Z",
     "start_time": "2024-05-20T18:56:19.601861Z"
    }
   },
   "cell_type": "code",
   "source": "len(train_dataset)",
   "id": "1b9568c26248f65b",
   "outputs": [
    {
     "data": {
      "text/plain": [
       "90"
      ]
     },
     "execution_count": 69,
     "metadata": {},
     "output_type": "execute_result"
    }
   ],
   "execution_count": 69
  },
  {
   "metadata": {
    "ExecuteTime": {
     "end_time": "2024-05-20T18:56:20.208017Z",
     "start_time": "2024-05-20T18:56:20.203353Z"
    }
   },
   "cell_type": "code",
   "source": [
    "# Define the dataloaders\n",
    "batch_size = 15\n",
    "train_dataloader = DataLoader(train_dataset, batch_size=batch_size, shuffle=True)\n",
    "test_dataloader = DataLoader(test_dataset, batch_size=batch_size, shuffle=False)\n",
    "val_dataloader = DataLoader(val_dataset, batch_size=batch_size, shuffle=False)"
   ],
   "id": "ad51d32a6aacf8e5",
   "outputs": [],
   "execution_count": 70
  },
  {
   "metadata": {
    "ExecuteTime": {
     "end_time": "2024-05-20T18:56:20.930855Z",
     "start_time": "2024-05-20T18:56:20.852176Z"
    }
   },
   "cell_type": "code",
   "source": [
    "# Load the pretrained MobileNetV2 model from torchvision\n",
    "model_folder = '../data/models/'\n",
    "model = mobilenet_v2()\n",
    "checkpoint = torch.load(model_folder + 'mobilenet_v2-b0353104.pth')\n",
    "\n",
    "# Load the weights from the checkpoint into the model\n",
    "model.load_state_dict(checkpoint)\n"
   ],
   "id": "30506d4cdd803b3c",
   "outputs": [
    {
     "data": {
      "text/plain": [
       "<All keys matched successfully>"
      ]
     },
     "execution_count": 71,
     "metadata": {},
     "output_type": "execute_result"
    }
   ],
   "execution_count": 71
  },
  {
   "metadata": {
    "ExecuteTime": {
     "end_time": "2024-05-20T19:11:06.244899Z",
     "start_time": "2024-05-20T19:11:06.241685Z"
    }
   },
   "cell_type": "code",
   "source": [
    "# Retrain the model from the last layer\n",
    "model.classifier[1] = nn.Linear(1280, 1)\n"
   ],
   "id": "18da0fafdff65993",
   "outputs": [],
   "execution_count": 85
  },
  {
   "metadata": {
    "ExecuteTime": {
     "end_time": "2024-05-20T19:20:47.897959Z",
     "start_time": "2024-05-20T19:20:47.893361Z"
    }
   },
   "cell_type": "code",
   "source": [
    "# Define the loss function\n",
    "criterion = nn.BCEWithLogitsLoss()\n",
    "# Define the optimizer\n",
    "optimizer = optim.Adam(model.parameters(), lr=0.001,weight_decay=0.001)"
   ],
   "id": "3c54258de131e882",
   "outputs": [],
   "execution_count": 113
  },
  {
   "metadata": {
    "ExecuteTime": {
     "end_time": "2024-05-20T19:22:44.375782Z",
     "start_time": "2024-05-20T19:20:48.865975Z"
    }
   },
   "cell_type": "code",
   "source": [
    "# Train the model to predict whether or not an air conditioner is present (just present1hot and no other features)\n",
    "num_epochs = 100\n",
    "device = torch.device('mps')\n",
    "model.to(device)\n",
    "\n",
    "train_losses = []\n",
    "val_losses = []\n",
    "\n",
    "for epoch in range(num_epochs):\n",
    "    model.train()\n",
    "    train_loss = 0.0\n",
    "    for images, present1hot, present_unknown1hot, leaking1hot, leaking_unknown1hot in tqdm(train_dataloader):\n",
    "        images = images.to(device)\n",
    "        optimizer.zero_grad()\n",
    "        outputs = model(images)\n",
    "        present1hot = present1hot.to(device).float()\n",
    "        present1hot = present1hot.view(outputs.shape)\n",
    "        loss = criterion(outputs, present1hot)\n",
    "        loss.backward()\n",
    "        optimizer.step()\n",
    "        train_loss += loss.item()\n",
    "\n",
    "    train_losses.append(train_loss / len(train_dataloader))\n",
    "    print(f'Epoch {epoch+1}/{num_epochs}, Train Loss: {train_losses[-1]}')\n",
    "\n",
    "    model.eval()\n",
    "    val_loss = 0.0\n",
    "    for images, present1hot, present_unknown1hot, leaking1hot, leaking_unknown1hot in tqdm(val_dataloader):\n",
    "        images = images.to(device)\n",
    "        outputs = model(images)\n",
    "        present1hot = present1hot.to(device).float()\n",
    "        present1hot = present1hot.view(outputs.shape)\n",
    "        loss = criterion(outputs, present1hot)\n",
    "        val_loss += loss.item()\n",
    "\n",
    "    val_losses.append(val_loss / len(val_dataloader))\n",
    "    print(f'Epoch {epoch+1}/{num_epochs}, Validation Loss: {val_losses[-1]}')"
   ],
   "id": "2658b8046ec54107",
   "outputs": [
    {
     "name": "stderr",
     "output_type": "stream",
     "text": [
      "100%|██████████| 6/6 [00:02<00:00,  2.62it/s]\n"
     ]
    },
    {
     "name": "stdout",
     "output_type": "stream",
     "text": [
      "Epoch 1/100, Train Loss: 0.08717715600505471\n"
     ]
    },
    {
     "name": "stderr",
     "output_type": "stream",
     "text": [
      "100%|██████████| 3/3 [00:00<00:00, 11.19it/s]\n"
     ]
    },
    {
     "name": "stdout",
     "output_type": "stream",
     "text": [
      "Epoch 1/100, Validation Loss: 1.7678736050923665\n"
     ]
    },
    {
     "name": "stderr",
     "output_type": "stream",
     "text": [
      "100%|██████████| 6/6 [00:00<00:00,  6.84it/s]\n"
     ]
    },
    {
     "name": "stdout",
     "output_type": "stream",
     "text": [
      "Epoch 2/100, Train Loss: 0.14068877200285593\n"
     ]
    },
    {
     "name": "stderr",
     "output_type": "stream",
     "text": [
      "100%|██████████| 3/3 [00:00<00:00, 13.54it/s]\n"
     ]
    },
    {
     "name": "stdout",
     "output_type": "stream",
     "text": [
      "Epoch 2/100, Validation Loss: 2.1983396212259927\n"
     ]
    },
    {
     "name": "stderr",
     "output_type": "stream",
     "text": [
      "100%|██████████| 6/6 [00:00<00:00,  6.70it/s]\n"
     ]
    },
    {
     "name": "stdout",
     "output_type": "stream",
     "text": [
      "Epoch 3/100, Train Loss: 0.059885102634628616\n"
     ]
    },
    {
     "name": "stderr",
     "output_type": "stream",
     "text": [
      "100%|██████████| 3/3 [00:00<00:00, 13.75it/s]\n"
     ]
    },
    {
     "name": "stdout",
     "output_type": "stream",
     "text": [
      "Epoch 3/100, Validation Loss: 1.441213568051656\n"
     ]
    },
    {
     "name": "stderr",
     "output_type": "stream",
     "text": [
      "100%|██████████| 6/6 [00:00<00:00,  6.71it/s]\n"
     ]
    },
    {
     "name": "stdout",
     "output_type": "stream",
     "text": [
      "Epoch 4/100, Train Loss: 0.029776686647286017\n"
     ]
    },
    {
     "name": "stderr",
     "output_type": "stream",
     "text": [
      "100%|██████████| 3/3 [00:00<00:00, 14.02it/s]\n"
     ]
    },
    {
     "name": "stdout",
     "output_type": "stream",
     "text": [
      "Epoch 4/100, Validation Loss: 1.2743894855181377\n"
     ]
    },
    {
     "name": "stderr",
     "output_type": "stream",
     "text": [
      "100%|██████████| 6/6 [00:00<00:00,  6.61it/s]\n"
     ]
    },
    {
     "name": "stdout",
     "output_type": "stream",
     "text": [
      "Epoch 5/100, Train Loss: 0.1011720778575788\n"
     ]
    },
    {
     "name": "stderr",
     "output_type": "stream",
     "text": [
      "100%|██████████| 3/3 [00:00<00:00, 10.62it/s]\n"
     ]
    },
    {
     "name": "stdout",
     "output_type": "stream",
     "text": [
      "Epoch 5/100, Validation Loss: 0.8754984537760416\n"
     ]
    },
    {
     "name": "stderr",
     "output_type": "stream",
     "text": [
      "100%|██████████| 6/6 [00:00<00:00,  6.84it/s]\n"
     ]
    },
    {
     "name": "stdout",
     "output_type": "stream",
     "text": [
      "Epoch 6/100, Train Loss: 0.03946515964344144\n"
     ]
    },
    {
     "name": "stderr",
     "output_type": "stream",
     "text": [
      "100%|██████████| 3/3 [00:00<00:00, 14.31it/s]\n"
     ]
    },
    {
     "name": "stdout",
     "output_type": "stream",
     "text": [
      "Epoch 6/100, Validation Loss: 1.0861137708028157\n"
     ]
    },
    {
     "name": "stderr",
     "output_type": "stream",
     "text": [
      "100%|██████████| 6/6 [00:01<00:00,  5.94it/s]\n"
     ]
    },
    {
     "name": "stdout",
     "output_type": "stream",
     "text": [
      "Epoch 7/100, Train Loss: 0.021286385599523783\n"
     ]
    },
    {
     "name": "stderr",
     "output_type": "stream",
     "text": [
      "100%|██████████| 3/3 [00:00<00:00, 10.03it/s]\n"
     ]
    },
    {
     "name": "stdout",
     "output_type": "stream",
     "text": [
      "Epoch 7/100, Validation Loss: 1.1207116444905598\n"
     ]
    },
    {
     "name": "stderr",
     "output_type": "stream",
     "text": [
      "100%|██████████| 6/6 [00:00<00:00,  6.44it/s]\n"
     ]
    },
    {
     "name": "stdout",
     "output_type": "stream",
     "text": [
      "Epoch 8/100, Train Loss: 0.07095019709474097\n"
     ]
    },
    {
     "name": "stderr",
     "output_type": "stream",
     "text": [
      "100%|██████████| 3/3 [00:00<00:00, 14.64it/s]\n"
     ]
    },
    {
     "name": "stdout",
     "output_type": "stream",
     "text": [
      "Epoch 8/100, Validation Loss: 1.2586524685223897\n"
     ]
    },
    {
     "name": "stderr",
     "output_type": "stream",
     "text": [
      "100%|██████████| 6/6 [00:00<00:00,  6.63it/s]\n"
     ]
    },
    {
     "name": "stdout",
     "output_type": "stream",
     "text": [
      "Epoch 9/100, Train Loss: 0.012231440477383634\n"
     ]
    },
    {
     "name": "stderr",
     "output_type": "stream",
     "text": [
      "100%|██████████| 3/3 [00:00<00:00, 14.72it/s]\n"
     ]
    },
    {
     "name": "stdout",
     "output_type": "stream",
     "text": [
      "Epoch 9/100, Validation Loss: 1.0674041708310444\n"
     ]
    },
    {
     "name": "stderr",
     "output_type": "stream",
     "text": [
      "100%|██████████| 6/6 [00:00<00:00,  6.92it/s]\n"
     ]
    },
    {
     "name": "stdout",
     "output_type": "stream",
     "text": [
      "Epoch 10/100, Train Loss: 0.024961249553598464\n"
     ]
    },
    {
     "name": "stderr",
     "output_type": "stream",
     "text": [
      "100%|██████████| 3/3 [00:00<00:00, 14.59it/s]\n"
     ]
    },
    {
     "name": "stdout",
     "output_type": "stream",
     "text": [
      "Epoch 10/100, Validation Loss: 0.7596888939539591\n"
     ]
    },
    {
     "name": "stderr",
     "output_type": "stream",
     "text": [
      "100%|██████████| 6/6 [00:00<00:00,  7.00it/s]\n"
     ]
    },
    {
     "name": "stdout",
     "output_type": "stream",
     "text": [
      "Epoch 11/100, Train Loss: 0.027295089268591255\n"
     ]
    },
    {
     "name": "stderr",
     "output_type": "stream",
     "text": [
      "100%|██████████| 3/3 [00:00<00:00, 14.42it/s]\n"
     ]
    },
    {
     "name": "stdout",
     "output_type": "stream",
     "text": [
      "Epoch 11/100, Validation Loss: 1.4237348635991414\n"
     ]
    },
    {
     "name": "stderr",
     "output_type": "stream",
     "text": [
      "100%|██████████| 6/6 [00:00<00:00,  6.62it/s]\n"
     ]
    },
    {
     "name": "stdout",
     "output_type": "stream",
     "text": [
      "Epoch 12/100, Train Loss: 0.01691694064841916\n"
     ]
    },
    {
     "name": "stderr",
     "output_type": "stream",
     "text": [
      "100%|██████████| 3/3 [00:00<00:00, 11.81it/s]\n"
     ]
    },
    {
     "name": "stdout",
     "output_type": "stream",
     "text": [
      "Epoch 12/100, Validation Loss: 1.192293405532837\n"
     ]
    },
    {
     "name": "stderr",
     "output_type": "stream",
     "text": [
      "100%|██████████| 6/6 [00:00<00:00,  6.97it/s]\n"
     ]
    },
    {
     "name": "stdout",
     "output_type": "stream",
     "text": [
      "Epoch 13/100, Train Loss: 0.005215846622983615\n"
     ]
    },
    {
     "name": "stderr",
     "output_type": "stream",
     "text": [
      "100%|██████████| 3/3 [00:00<00:00, 13.16it/s]\n"
     ]
    },
    {
     "name": "stdout",
     "output_type": "stream",
     "text": [
      "Epoch 13/100, Validation Loss: 0.8578772942225138\n"
     ]
    },
    {
     "name": "stderr",
     "output_type": "stream",
     "text": [
      "100%|██████████| 6/6 [00:01<00:00,  5.97it/s]\n"
     ]
    },
    {
     "name": "stdout",
     "output_type": "stream",
     "text": [
      "Epoch 14/100, Train Loss: 0.011983486959555497\n"
     ]
    },
    {
     "name": "stderr",
     "output_type": "stream",
     "text": [
      "100%|██████████| 3/3 [00:00<00:00, 13.10it/s]\n"
     ]
    },
    {
     "name": "stdout",
     "output_type": "stream",
     "text": [
      "Epoch 14/100, Validation Loss: 1.0351234475771587\n"
     ]
    },
    {
     "name": "stderr",
     "output_type": "stream",
     "text": [
      "100%|██████████| 6/6 [00:00<00:00,  6.95it/s]\n"
     ]
    },
    {
     "name": "stdout",
     "output_type": "stream",
     "text": [
      "Epoch 15/100, Train Loss: 0.003908639288662623\n"
     ]
    },
    {
     "name": "stderr",
     "output_type": "stream",
     "text": [
      "100%|██████████| 3/3 [00:00<00:00, 12.24it/s]\n"
     ]
    },
    {
     "name": "stdout",
     "output_type": "stream",
     "text": [
      "Epoch 15/100, Validation Loss: 0.8674407203992208\n"
     ]
    },
    {
     "name": "stderr",
     "output_type": "stream",
     "text": [
      "100%|██████████| 6/6 [00:00<00:00,  6.92it/s]\n"
     ]
    },
    {
     "name": "stdout",
     "output_type": "stream",
     "text": [
      "Epoch 16/100, Train Loss: 0.014383930480107665\n"
     ]
    },
    {
     "name": "stderr",
     "output_type": "stream",
     "text": [
      "100%|██████████| 3/3 [00:00<00:00, 14.84it/s]\n"
     ]
    },
    {
     "name": "stdout",
     "output_type": "stream",
     "text": [
      "Epoch 16/100, Validation Loss: 1.2509605089823406\n"
     ]
    },
    {
     "name": "stderr",
     "output_type": "stream",
     "text": [
      "100%|██████████| 6/6 [00:00<00:00,  6.38it/s]\n"
     ]
    },
    {
     "name": "stdout",
     "output_type": "stream",
     "text": [
      "Epoch 17/100, Train Loss: 0.006602193699412358\n"
     ]
    },
    {
     "name": "stderr",
     "output_type": "stream",
     "text": [
      "100%|██████████| 3/3 [00:00<00:00, 11.44it/s]\n"
     ]
    },
    {
     "name": "stdout",
     "output_type": "stream",
     "text": [
      "Epoch 17/100, Validation Loss: 1.4668485522270203\n"
     ]
    },
    {
     "name": "stderr",
     "output_type": "stream",
     "text": [
      "100%|██████████| 6/6 [00:00<00:00,  6.97it/s]\n"
     ]
    },
    {
     "name": "stdout",
     "output_type": "stream",
     "text": [
      "Epoch 18/100, Train Loss: 0.006893925019539893\n"
     ]
    },
    {
     "name": "stderr",
     "output_type": "stream",
     "text": [
      "100%|██████████| 3/3 [00:00<00:00, 14.70it/s]\n"
     ]
    },
    {
     "name": "stdout",
     "output_type": "stream",
     "text": [
      "Epoch 18/100, Validation Loss: 1.403574287891388\n"
     ]
    },
    {
     "name": "stderr",
     "output_type": "stream",
     "text": [
      "100%|██████████| 6/6 [00:00<00:00,  6.85it/s]\n"
     ]
    },
    {
     "name": "stdout",
     "output_type": "stream",
     "text": [
      "Epoch 19/100, Train Loss: 0.03484300835407339\n"
     ]
    },
    {
     "name": "stderr",
     "output_type": "stream",
     "text": [
      "100%|██████████| 3/3 [00:00<00:00, 14.86it/s]\n"
     ]
    },
    {
     "name": "stdout",
     "output_type": "stream",
     "text": [
      "Epoch 19/100, Validation Loss: 2.21069864432017\n"
     ]
    },
    {
     "name": "stderr",
     "output_type": "stream",
     "text": [
      "100%|██████████| 6/6 [00:00<00:00,  6.86it/s]\n"
     ]
    },
    {
     "name": "stdout",
     "output_type": "stream",
     "text": [
      "Epoch 20/100, Train Loss: 0.010944253338190416\n"
     ]
    },
    {
     "name": "stderr",
     "output_type": "stream",
     "text": [
      "100%|██████████| 3/3 [00:00<00:00, 14.07it/s]\n"
     ]
    },
    {
     "name": "stdout",
     "output_type": "stream",
     "text": [
      "Epoch 20/100, Validation Loss: 3.0176730950673423\n"
     ]
    },
    {
     "name": "stderr",
     "output_type": "stream",
     "text": [
      "100%|██████████| 6/6 [00:01<00:00,  5.83it/s]\n"
     ]
    },
    {
     "name": "stdout",
     "output_type": "stream",
     "text": [
      "Epoch 21/100, Train Loss: 0.02502899632478754\n"
     ]
    },
    {
     "name": "stderr",
     "output_type": "stream",
     "text": [
      "100%|██████████| 3/3 [00:00<00:00, 10.94it/s]\n"
     ]
    },
    {
     "name": "stdout",
     "output_type": "stream",
     "text": [
      "Epoch 21/100, Validation Loss: 2.2827994426091514\n"
     ]
    },
    {
     "name": "stderr",
     "output_type": "stream",
     "text": [
      "100%|██████████| 6/6 [00:01<00:00,  5.85it/s]\n"
     ]
    },
    {
     "name": "stdout",
     "output_type": "stream",
     "text": [
      "Epoch 22/100, Train Loss: 0.03747645082573096\n"
     ]
    },
    {
     "name": "stderr",
     "output_type": "stream",
     "text": [
      "100%|██████████| 3/3 [00:00<00:00, 14.16it/s]\n"
     ]
    },
    {
     "name": "stdout",
     "output_type": "stream",
     "text": [
      "Epoch 22/100, Validation Loss: 2.1608965396881104\n"
     ]
    },
    {
     "name": "stderr",
     "output_type": "stream",
     "text": [
      "100%|██████████| 6/6 [00:00<00:00,  6.46it/s]\n"
     ]
    },
    {
     "name": "stdout",
     "output_type": "stream",
     "text": [
      "Epoch 23/100, Train Loss: 0.07311087544076145\n"
     ]
    },
    {
     "name": "stderr",
     "output_type": "stream",
     "text": [
      "100%|██████████| 3/3 [00:00<00:00, 11.76it/s]\n"
     ]
    },
    {
     "name": "stdout",
     "output_type": "stream",
     "text": [
      "Epoch 23/100, Validation Loss: 2.5657585064570108\n"
     ]
    },
    {
     "name": "stderr",
     "output_type": "stream",
     "text": [
      "100%|██████████| 6/6 [00:00<00:00,  6.68it/s]\n"
     ]
    },
    {
     "name": "stdout",
     "output_type": "stream",
     "text": [
      "Epoch 24/100, Train Loss: 0.024458617631656427\n"
     ]
    },
    {
     "name": "stderr",
     "output_type": "stream",
     "text": [
      "100%|██████████| 3/3 [00:00<00:00, 14.65it/s]\n"
     ]
    },
    {
     "name": "stdout",
     "output_type": "stream",
     "text": [
      "Epoch 24/100, Validation Loss: 2.415062109629313\n"
     ]
    },
    {
     "name": "stderr",
     "output_type": "stream",
     "text": [
      "100%|██████████| 6/6 [00:00<00:00,  6.88it/s]\n"
     ]
    },
    {
     "name": "stdout",
     "output_type": "stream",
     "text": [
      "Epoch 25/100, Train Loss: 0.08386371059653659\n"
     ]
    },
    {
     "name": "stderr",
     "output_type": "stream",
     "text": [
      "100%|██████████| 3/3 [00:00<00:00, 15.18it/s]\n"
     ]
    },
    {
     "name": "stdout",
     "output_type": "stream",
     "text": [
      "Epoch 25/100, Validation Loss: 2.410024404525757\n"
     ]
    },
    {
     "name": "stderr",
     "output_type": "stream",
     "text": [
      "100%|██████████| 6/6 [00:00<00:00,  6.81it/s]\n"
     ]
    },
    {
     "name": "stdout",
     "output_type": "stream",
     "text": [
      "Epoch 26/100, Train Loss: 0.1220692852512002\n"
     ]
    },
    {
     "name": "stderr",
     "output_type": "stream",
     "text": [
      "100%|██████████| 3/3 [00:00<00:00, 14.01it/s]\n"
     ]
    },
    {
     "name": "stdout",
     "output_type": "stream",
     "text": [
      "Epoch 26/100, Validation Loss: 4.247914950052897\n"
     ]
    },
    {
     "name": "stderr",
     "output_type": "stream",
     "text": [
      "100%|██████████| 6/6 [00:00<00:00,  6.68it/s]\n"
     ]
    },
    {
     "name": "stdout",
     "output_type": "stream",
     "text": [
      "Epoch 27/100, Train Loss: 0.2107919758806626\n"
     ]
    },
    {
     "name": "stderr",
     "output_type": "stream",
     "text": [
      "100%|██████████| 3/3 [00:00<00:00, 14.73it/s]\n"
     ]
    },
    {
     "name": "stdout",
     "output_type": "stream",
     "text": [
      "Epoch 27/100, Validation Loss: 1.8413857221603394\n"
     ]
    },
    {
     "name": "stderr",
     "output_type": "stream",
     "text": [
      "100%|██████████| 6/6 [00:01<00:00,  5.86it/s]\n"
     ]
    },
    {
     "name": "stdout",
     "output_type": "stream",
     "text": [
      "Epoch 28/100, Train Loss: 0.25991503793435794\n"
     ]
    },
    {
     "name": "stderr",
     "output_type": "stream",
     "text": [
      "100%|██████████| 3/3 [00:00<00:00, 10.17it/s]\n"
     ]
    },
    {
     "name": "stdout",
     "output_type": "stream",
     "text": [
      "Epoch 28/100, Validation Loss: 1.845088521639506\n"
     ]
    },
    {
     "name": "stderr",
     "output_type": "stream",
     "text": [
      "100%|██████████| 6/6 [00:01<00:00,  5.98it/s]\n"
     ]
    },
    {
     "name": "stdout",
     "output_type": "stream",
     "text": [
      "Epoch 29/100, Train Loss: 0.07563048166533311\n"
     ]
    },
    {
     "name": "stderr",
     "output_type": "stream",
     "text": [
      "100%|██████████| 3/3 [00:00<00:00, 13.02it/s]\n"
     ]
    },
    {
     "name": "stdout",
     "output_type": "stream",
     "text": [
      "Epoch 29/100, Validation Loss: 2.2108923196792603\n"
     ]
    },
    {
     "name": "stderr",
     "output_type": "stream",
     "text": [
      "100%|██████████| 6/6 [00:00<00:00,  6.82it/s]\n"
     ]
    },
    {
     "name": "stdout",
     "output_type": "stream",
     "text": [
      "Epoch 30/100, Train Loss: 0.08142280112951994\n"
     ]
    },
    {
     "name": "stderr",
     "output_type": "stream",
     "text": [
      "100%|██████████| 3/3 [00:00<00:00, 13.16it/s]\n"
     ]
    },
    {
     "name": "stdout",
     "output_type": "stream",
     "text": [
      "Epoch 30/100, Validation Loss: 1.4986538688341777\n"
     ]
    },
    {
     "name": "stderr",
     "output_type": "stream",
     "text": [
      "100%|██████████| 6/6 [00:00<00:00,  6.93it/s]\n"
     ]
    },
    {
     "name": "stdout",
     "output_type": "stream",
     "text": [
      "Epoch 31/100, Train Loss: 0.043931176885962486\n"
     ]
    },
    {
     "name": "stderr",
     "output_type": "stream",
     "text": [
      "100%|██████████| 3/3 [00:00<00:00, 14.70it/s]\n"
     ]
    },
    {
     "name": "stdout",
     "output_type": "stream",
     "text": [
      "Epoch 31/100, Validation Loss: 1.1924687226613362\n"
     ]
    },
    {
     "name": "stderr",
     "output_type": "stream",
     "text": [
      "100%|██████████| 6/6 [00:00<00:00,  6.92it/s]\n"
     ]
    },
    {
     "name": "stdout",
     "output_type": "stream",
     "text": [
      "Epoch 32/100, Train Loss: 0.047748148324899375\n"
     ]
    },
    {
     "name": "stderr",
     "output_type": "stream",
     "text": [
      "100%|██████████| 3/3 [00:00<00:00, 13.21it/s]\n"
     ]
    },
    {
     "name": "stdout",
     "output_type": "stream",
     "text": [
      "Epoch 32/100, Validation Loss: 1.0893345673878987\n"
     ]
    },
    {
     "name": "stderr",
     "output_type": "stream",
     "text": [
      "100%|██████████| 6/6 [00:01<00:00,  5.95it/s]\n"
     ]
    },
    {
     "name": "stdout",
     "output_type": "stream",
     "text": [
      "Epoch 33/100, Train Loss: 0.011927132766383389\n"
     ]
    },
    {
     "name": "stderr",
     "output_type": "stream",
     "text": [
      "100%|██████████| 3/3 [00:00<00:00, 14.79it/s]\n"
     ]
    },
    {
     "name": "stdout",
     "output_type": "stream",
     "text": [
      "Epoch 33/100, Validation Loss: 1.2949885527292888\n"
     ]
    },
    {
     "name": "stderr",
     "output_type": "stream",
     "text": [
      "100%|██████████| 6/6 [00:00<00:00,  6.62it/s]\n"
     ]
    },
    {
     "name": "stdout",
     "output_type": "stream",
     "text": [
      "Epoch 34/100, Train Loss: 0.05726843699812889\n"
     ]
    },
    {
     "name": "stderr",
     "output_type": "stream",
     "text": [
      "100%|██████████| 3/3 [00:00<00:00, 13.91it/s]\n"
     ]
    },
    {
     "name": "stdout",
     "output_type": "stream",
     "text": [
      "Epoch 34/100, Validation Loss: 1.4377804001172383\n"
     ]
    },
    {
     "name": "stderr",
     "output_type": "stream",
     "text": [
      "100%|██████████| 6/6 [00:01<00:00,  5.28it/s]\n"
     ]
    },
    {
     "name": "stdout",
     "output_type": "stream",
     "text": [
      "Epoch 35/100, Train Loss: 0.024379897008960445\n"
     ]
    },
    {
     "name": "stderr",
     "output_type": "stream",
     "text": [
      "100%|██████████| 3/3 [00:00<00:00, 11.54it/s]\n"
     ]
    },
    {
     "name": "stdout",
     "output_type": "stream",
     "text": [
      "Epoch 35/100, Validation Loss: 1.8142258127530415\n"
     ]
    },
    {
     "name": "stderr",
     "output_type": "stream",
     "text": [
      "100%|██████████| 6/6 [00:00<00:00,  6.94it/s]\n"
     ]
    },
    {
     "name": "stdout",
     "output_type": "stream",
     "text": [
      "Epoch 36/100, Train Loss: 0.007527889800257981\n"
     ]
    },
    {
     "name": "stderr",
     "output_type": "stream",
     "text": [
      "100%|██████████| 3/3 [00:00<00:00, 13.09it/s]\n"
     ]
    },
    {
     "name": "stdout",
     "output_type": "stream",
     "text": [
      "Epoch 36/100, Validation Loss: 1.1099411149819691\n"
     ]
    },
    {
     "name": "stderr",
     "output_type": "stream",
     "text": [
      "100%|██████████| 6/6 [00:00<00:00,  6.81it/s]\n"
     ]
    },
    {
     "name": "stdout",
     "output_type": "stream",
     "text": [
      "Epoch 37/100, Train Loss: 0.007435453085539241\n"
     ]
    },
    {
     "name": "stderr",
     "output_type": "stream",
     "text": [
      "100%|██████████| 3/3 [00:00<00:00, 14.46it/s]\n"
     ]
    },
    {
     "name": "stdout",
     "output_type": "stream",
     "text": [
      "Epoch 37/100, Validation Loss: 0.8854346573352814\n"
     ]
    },
    {
     "name": "stderr",
     "output_type": "stream",
     "text": [
      "100%|██████████| 6/6 [00:00<00:00,  6.84it/s]\n"
     ]
    },
    {
     "name": "stdout",
     "output_type": "stream",
     "text": [
      "Epoch 38/100, Train Loss: 0.030568381111758452\n"
     ]
    },
    {
     "name": "stderr",
     "output_type": "stream",
     "text": [
      "100%|██████████| 3/3 [00:00<00:00, 14.78it/s]\n"
     ]
    },
    {
     "name": "stdout",
     "output_type": "stream",
     "text": [
      "Epoch 38/100, Validation Loss: 1.1640868584314983\n"
     ]
    },
    {
     "name": "stderr",
     "output_type": "stream",
     "text": [
      "100%|██████████| 6/6 [00:00<00:00,  6.96it/s]\n"
     ]
    },
    {
     "name": "stdout",
     "output_type": "stream",
     "text": [
      "Epoch 39/100, Train Loss: 0.05374022883673509\n"
     ]
    },
    {
     "name": "stderr",
     "output_type": "stream",
     "text": [
      "100%|██████████| 3/3 [00:00<00:00, 13.12it/s]\n"
     ]
    },
    {
     "name": "stdout",
     "output_type": "stream",
     "text": [
      "Epoch 39/100, Validation Loss: 0.8908089995384216\n"
     ]
    },
    {
     "name": "stderr",
     "output_type": "stream",
     "text": [
      "100%|██████████| 6/6 [00:00<00:00,  6.62it/s]\n"
     ]
    },
    {
     "name": "stdout",
     "output_type": "stream",
     "text": [
      "Epoch 40/100, Train Loss: 0.013593191824232539\n"
     ]
    },
    {
     "name": "stderr",
     "output_type": "stream",
     "text": [
      "100%|██████████| 3/3 [00:00<00:00, 11.81it/s]\n"
     ]
    },
    {
     "name": "stdout",
     "output_type": "stream",
     "text": [
      "Epoch 40/100, Validation Loss: 0.8206390937169393\n"
     ]
    },
    {
     "name": "stderr",
     "output_type": "stream",
     "text": [
      "100%|██████████| 6/6 [00:01<00:00,  5.44it/s]\n"
     ]
    },
    {
     "name": "stdout",
     "output_type": "stream",
     "text": [
      "Epoch 41/100, Train Loss: 0.016082153073512018\n"
     ]
    },
    {
     "name": "stderr",
     "output_type": "stream",
     "text": [
      "100%|██████████| 3/3 [00:00<00:00, 12.07it/s]\n"
     ]
    },
    {
     "name": "stdout",
     "output_type": "stream",
     "text": [
      "Epoch 41/100, Validation Loss: 0.6497198541959127\n"
     ]
    },
    {
     "name": "stderr",
     "output_type": "stream",
     "text": [
      "100%|██████████| 6/6 [00:00<00:00,  6.70it/s]\n"
     ]
    },
    {
     "name": "stdout",
     "output_type": "stream",
     "text": [
      "Epoch 42/100, Train Loss: 0.01319496762395526\n"
     ]
    },
    {
     "name": "stderr",
     "output_type": "stream",
     "text": [
      "100%|██████████| 3/3 [00:00<00:00, 14.80it/s]\n"
     ]
    },
    {
     "name": "stdout",
     "output_type": "stream",
     "text": [
      "Epoch 42/100, Validation Loss: 0.6082414786020914\n"
     ]
    },
    {
     "name": "stderr",
     "output_type": "stream",
     "text": [
      "100%|██████████| 6/6 [00:00<00:00,  6.29it/s]\n"
     ]
    },
    {
     "name": "stdout",
     "output_type": "stream",
     "text": [
      "Epoch 43/100, Train Loss: 0.049305316216001906\n"
     ]
    },
    {
     "name": "stderr",
     "output_type": "stream",
     "text": [
      "100%|██████████| 3/3 [00:00<00:00, 12.36it/s]\n"
     ]
    },
    {
     "name": "stdout",
     "output_type": "stream",
     "text": [
      "Epoch 43/100, Validation Loss: 1.2230398853619893\n"
     ]
    },
    {
     "name": "stderr",
     "output_type": "stream",
     "text": [
      "100%|██████████| 6/6 [00:00<00:00,  6.79it/s]\n"
     ]
    },
    {
     "name": "stdout",
     "output_type": "stream",
     "text": [
      "Epoch 44/100, Train Loss: 0.02584727657570814\n"
     ]
    },
    {
     "name": "stderr",
     "output_type": "stream",
     "text": [
      "100%|██████████| 3/3 [00:00<00:00, 12.88it/s]\n"
     ]
    },
    {
     "name": "stdout",
     "output_type": "stream",
     "text": [
      "Epoch 44/100, Validation Loss: 1.8245230118433635\n"
     ]
    },
    {
     "name": "stderr",
     "output_type": "stream",
     "text": [
      "100%|██████████| 6/6 [00:00<00:00,  6.78it/s]\n"
     ]
    },
    {
     "name": "stdout",
     "output_type": "stream",
     "text": [
      "Epoch 45/100, Train Loss: 0.009771396891058734\n"
     ]
    },
    {
     "name": "stderr",
     "output_type": "stream",
     "text": [
      "100%|██████████| 3/3 [00:00<00:00, 14.29it/s]\n"
     ]
    },
    {
     "name": "stdout",
     "output_type": "stream",
     "text": [
      "Epoch 45/100, Validation Loss: 1.6743112206459045\n"
     ]
    },
    {
     "name": "stderr",
     "output_type": "stream",
     "text": [
      "100%|██████████| 6/6 [00:00<00:00,  6.92it/s]\n"
     ]
    },
    {
     "name": "stdout",
     "output_type": "stream",
     "text": [
      "Epoch 46/100, Train Loss: 0.04415633882551143\n"
     ]
    },
    {
     "name": "stderr",
     "output_type": "stream",
     "text": [
      "100%|██████████| 3/3 [00:00<00:00, 13.60it/s]\n"
     ]
    },
    {
     "name": "stdout",
     "output_type": "stream",
     "text": [
      "Epoch 46/100, Validation Loss: 1.0254639238119125\n"
     ]
    },
    {
     "name": "stderr",
     "output_type": "stream",
     "text": [
      "100%|██████████| 6/6 [00:00<00:00,  6.82it/s]\n"
     ]
    },
    {
     "name": "stdout",
     "output_type": "stream",
     "text": [
      "Epoch 47/100, Train Loss: 0.11928267125040293\n"
     ]
    },
    {
     "name": "stderr",
     "output_type": "stream",
     "text": [
      "100%|██████████| 3/3 [00:00<00:00, 13.41it/s]\n"
     ]
    },
    {
     "name": "stdout",
     "output_type": "stream",
     "text": [
      "Epoch 47/100, Validation Loss: 1.458883802096049\n"
     ]
    },
    {
     "name": "stderr",
     "output_type": "stream",
     "text": [
      "100%|██████████| 6/6 [00:00<00:00,  6.94it/s]\n"
     ]
    },
    {
     "name": "stdout",
     "output_type": "stream",
     "text": [
      "Epoch 48/100, Train Loss: 0.145082486482958\n"
     ]
    },
    {
     "name": "stderr",
     "output_type": "stream",
     "text": [
      "100%|██████████| 3/3 [00:00<00:00, 14.20it/s]\n"
     ]
    },
    {
     "name": "stdout",
     "output_type": "stream",
     "text": [
      "Epoch 48/100, Validation Loss: 2.45476496219635\n"
     ]
    },
    {
     "name": "stderr",
     "output_type": "stream",
     "text": [
      "100%|██████████| 6/6 [00:00<00:00,  6.94it/s]\n"
     ]
    },
    {
     "name": "stdout",
     "output_type": "stream",
     "text": [
      "Epoch 49/100, Train Loss: 0.03964749708150824\n"
     ]
    },
    {
     "name": "stderr",
     "output_type": "stream",
     "text": [
      "100%|██████████| 3/3 [00:00<00:00, 13.74it/s]\n"
     ]
    },
    {
     "name": "stdout",
     "output_type": "stream",
     "text": [
      "Epoch 49/100, Validation Loss: 3.4229848384857178\n"
     ]
    },
    {
     "name": "stderr",
     "output_type": "stream",
     "text": [
      "100%|██████████| 6/6 [00:01<00:00,  5.59it/s]\n"
     ]
    },
    {
     "name": "stdout",
     "output_type": "stream",
     "text": [
      "Epoch 50/100, Train Loss: 0.027137623944630224\n"
     ]
    },
    {
     "name": "stderr",
     "output_type": "stream",
     "text": [
      "100%|██████████| 3/3 [00:00<00:00, 12.24it/s]\n"
     ]
    },
    {
     "name": "stdout",
     "output_type": "stream",
     "text": [
      "Epoch 50/100, Validation Loss: 2.0196606715520224\n"
     ]
    },
    {
     "name": "stderr",
     "output_type": "stream",
     "text": [
      "100%|██████████| 6/6 [00:00<00:00,  6.04it/s]\n"
     ]
    },
    {
     "name": "stdout",
     "output_type": "stream",
     "text": [
      "Epoch 51/100, Train Loss: 0.0216696341522038\n"
     ]
    },
    {
     "name": "stderr",
     "output_type": "stream",
     "text": [
      "100%|██████████| 3/3 [00:00<00:00, 11.12it/s]\n"
     ]
    },
    {
     "name": "stdout",
     "output_type": "stream",
     "text": [
      "Epoch 51/100, Validation Loss: 1.3903039544820786\n"
     ]
    },
    {
     "name": "stderr",
     "output_type": "stream",
     "text": [
      "100%|██████████| 6/6 [00:00<00:00,  6.80it/s]\n"
     ]
    },
    {
     "name": "stdout",
     "output_type": "stream",
     "text": [
      "Epoch 52/100, Train Loss: 0.01817919733002782\n"
     ]
    },
    {
     "name": "stderr",
     "output_type": "stream",
     "text": [
      "100%|██████████| 3/3 [00:00<00:00, 13.98it/s]\n"
     ]
    },
    {
     "name": "stdout",
     "output_type": "stream",
     "text": [
      "Epoch 52/100, Validation Loss: 1.2717722455660503\n"
     ]
    },
    {
     "name": "stderr",
     "output_type": "stream",
     "text": [
      "100%|██████████| 6/6 [00:00<00:00,  6.88it/s]\n"
     ]
    },
    {
     "name": "stdout",
     "output_type": "stream",
     "text": [
      "Epoch 53/100, Train Loss: 0.05409631369790683\n"
     ]
    },
    {
     "name": "stderr",
     "output_type": "stream",
     "text": [
      "100%|██████████| 3/3 [00:00<00:00, 14.36it/s]\n"
     ]
    },
    {
     "name": "stdout",
     "output_type": "stream",
     "text": [
      "Epoch 53/100, Validation Loss: 1.38537202278773\n"
     ]
    },
    {
     "name": "stderr",
     "output_type": "stream",
     "text": [
      "100%|██████████| 6/6 [00:00<00:00,  6.49it/s]\n"
     ]
    },
    {
     "name": "stdout",
     "output_type": "stream",
     "text": [
      "Epoch 54/100, Train Loss: 0.006581676580632727\n"
     ]
    },
    {
     "name": "stderr",
     "output_type": "stream",
     "text": [
      "100%|██████████| 3/3 [00:00<00:00, 13.24it/s]\n"
     ]
    },
    {
     "name": "stdout",
     "output_type": "stream",
     "text": [
      "Epoch 54/100, Validation Loss: 1.3279787302017212\n"
     ]
    },
    {
     "name": "stderr",
     "output_type": "stream",
     "text": [
      "100%|██████████| 6/6 [00:00<00:00,  6.49it/s]\n"
     ]
    },
    {
     "name": "stdout",
     "output_type": "stream",
     "text": [
      "Epoch 55/100, Train Loss: 0.05164764914661646\n"
     ]
    },
    {
     "name": "stderr",
     "output_type": "stream",
     "text": [
      "100%|██████████| 3/3 [00:00<00:00, 10.97it/s]\n"
     ]
    },
    {
     "name": "stdout",
     "output_type": "stream",
     "text": [
      "Epoch 55/100, Validation Loss: 1.2825961510340373\n"
     ]
    },
    {
     "name": "stderr",
     "output_type": "stream",
     "text": [
      "100%|██████████| 6/6 [00:00<00:00,  6.77it/s]\n"
     ]
    },
    {
     "name": "stdout",
     "output_type": "stream",
     "text": [
      "Epoch 56/100, Train Loss: 0.012406821770127863\n"
     ]
    },
    {
     "name": "stderr",
     "output_type": "stream",
     "text": [
      "100%|██████████| 3/3 [00:00<00:00, 14.21it/s]\n"
     ]
    },
    {
     "name": "stdout",
     "output_type": "stream",
     "text": [
      "Epoch 56/100, Validation Loss: 1.1911114652951558\n"
     ]
    },
    {
     "name": "stderr",
     "output_type": "stream",
     "text": [
      "100%|██████████| 6/6 [00:00<00:00,  6.82it/s]\n"
     ]
    },
    {
     "name": "stdout",
     "output_type": "stream",
     "text": [
      "Epoch 57/100, Train Loss: 0.00904380485493069\n"
     ]
    },
    {
     "name": "stderr",
     "output_type": "stream",
     "text": [
      "100%|██████████| 3/3 [00:00<00:00, 14.61it/s]\n"
     ]
    },
    {
     "name": "stdout",
     "output_type": "stream",
     "text": [
      "Epoch 57/100, Validation Loss: 1.0714582602183025\n"
     ]
    },
    {
     "name": "stderr",
     "output_type": "stream",
     "text": [
      "100%|██████████| 6/6 [00:00<00:00,  6.90it/s]\n"
     ]
    },
    {
     "name": "stdout",
     "output_type": "stream",
     "text": [
      "Epoch 58/100, Train Loss: 0.0038035048831564686\n"
     ]
    },
    {
     "name": "stderr",
     "output_type": "stream",
     "text": [
      "100%|██████████| 3/3 [00:00<00:00, 13.78it/s]\n"
     ]
    },
    {
     "name": "stdout",
     "output_type": "stream",
     "text": [
      "Epoch 58/100, Validation Loss: 1.1158220966657002\n"
     ]
    },
    {
     "name": "stderr",
     "output_type": "stream",
     "text": [
      "100%|██████████| 6/6 [00:00<00:00,  6.93it/s]\n"
     ]
    },
    {
     "name": "stdout",
     "output_type": "stream",
     "text": [
      "Epoch 59/100, Train Loss: 0.048208190593868494\n"
     ]
    },
    {
     "name": "stderr",
     "output_type": "stream",
     "text": [
      "100%|██████████| 3/3 [00:00<00:00, 13.87it/s]\n"
     ]
    },
    {
     "name": "stdout",
     "output_type": "stream",
     "text": [
      "Epoch 59/100, Validation Loss: 1.1463704506556194\n"
     ]
    },
    {
     "name": "stderr",
     "output_type": "stream",
     "text": [
      "100%|██████████| 6/6 [00:00<00:00,  6.40it/s]\n"
     ]
    },
    {
     "name": "stdout",
     "output_type": "stream",
     "text": [
      "Epoch 60/100, Train Loss: 0.006581683623759697\n"
     ]
    },
    {
     "name": "stderr",
     "output_type": "stream",
     "text": [
      "100%|██████████| 3/3 [00:00<00:00, 13.07it/s]\n"
     ]
    },
    {
     "name": "stdout",
     "output_type": "stream",
     "text": [
      "Epoch 60/100, Validation Loss: 1.4514539241790771\n"
     ]
    },
    {
     "name": "stderr",
     "output_type": "stream",
     "text": [
      "100%|██████████| 6/6 [00:01<00:00,  5.92it/s]\n"
     ]
    },
    {
     "name": "stdout",
     "output_type": "stream",
     "text": [
      "Epoch 61/100, Train Loss: 0.01732645610657831\n"
     ]
    },
    {
     "name": "stderr",
     "output_type": "stream",
     "text": [
      "100%|██████████| 3/3 [00:00<00:00, 12.32it/s]\n"
     ]
    },
    {
     "name": "stdout",
     "output_type": "stream",
     "text": [
      "Epoch 61/100, Validation Loss: 1.4335106213887532\n"
     ]
    },
    {
     "name": "stderr",
     "output_type": "stream",
     "text": [
      "100%|██████████| 6/6 [00:00<00:00,  6.78it/s]\n"
     ]
    },
    {
     "name": "stdout",
     "output_type": "stream",
     "text": [
      "Epoch 62/100, Train Loss: 0.019387765632321436\n"
     ]
    },
    {
     "name": "stderr",
     "output_type": "stream",
     "text": [
      "100%|██████████| 3/3 [00:00<00:00, 13.59it/s]\n"
     ]
    },
    {
     "name": "stdout",
     "output_type": "stream",
     "text": [
      "Epoch 62/100, Validation Loss: 1.2503658731778462\n"
     ]
    },
    {
     "name": "stderr",
     "output_type": "stream",
     "text": [
      "100%|██████████| 6/6 [00:00<00:00,  6.89it/s]\n"
     ]
    },
    {
     "name": "stdout",
     "output_type": "stream",
     "text": [
      "Epoch 63/100, Train Loss: 0.002975589712150395\n"
     ]
    },
    {
     "name": "stderr",
     "output_type": "stream",
     "text": [
      "100%|██████████| 3/3 [00:00<00:00, 13.45it/s]\n"
     ]
    },
    {
     "name": "stdout",
     "output_type": "stream",
     "text": [
      "Epoch 63/100, Validation Loss: 1.1988987922668457\n"
     ]
    },
    {
     "name": "stderr",
     "output_type": "stream",
     "text": [
      "100%|██████████| 6/6 [00:00<00:00,  6.97it/s]\n"
     ]
    },
    {
     "name": "stdout",
     "output_type": "stream",
     "text": [
      "Epoch 64/100, Train Loss: 0.03284387030483534\n"
     ]
    },
    {
     "name": "stderr",
     "output_type": "stream",
     "text": [
      "100%|██████████| 3/3 [00:00<00:00, 12.28it/s]\n"
     ]
    },
    {
     "name": "stdout",
     "output_type": "stream",
     "text": [
      "Epoch 64/100, Validation Loss: 1.0004533330599468\n"
     ]
    },
    {
     "name": "stderr",
     "output_type": "stream",
     "text": [
      "100%|██████████| 6/6 [00:00<00:00,  6.69it/s]\n"
     ]
    },
    {
     "name": "stdout",
     "output_type": "stream",
     "text": [
      "Epoch 65/100, Train Loss: 0.009519467518354455\n"
     ]
    },
    {
     "name": "stderr",
     "output_type": "stream",
     "text": [
      "100%|██████████| 3/3 [00:00<00:00, 13.70it/s]\n"
     ]
    },
    {
     "name": "stdout",
     "output_type": "stream",
     "text": [
      "Epoch 65/100, Validation Loss: 1.1482751766840618\n"
     ]
    },
    {
     "name": "stderr",
     "output_type": "stream",
     "text": [
      "100%|██████████| 6/6 [00:00<00:00,  6.32it/s]\n"
     ]
    },
    {
     "name": "stdout",
     "output_type": "stream",
     "text": [
      "Epoch 66/100, Train Loss: 0.0731408914240698\n"
     ]
    },
    {
     "name": "stderr",
     "output_type": "stream",
     "text": [
      "100%|██████████| 3/3 [00:00<00:00, 12.20it/s]\n"
     ]
    },
    {
     "name": "stdout",
     "output_type": "stream",
     "text": [
      "Epoch 66/100, Validation Loss: 1.450264851252238\n"
     ]
    },
    {
     "name": "stderr",
     "output_type": "stream",
     "text": [
      "100%|██████████| 6/6 [00:00<00:00,  6.88it/s]\n"
     ]
    },
    {
     "name": "stdout",
     "output_type": "stream",
     "text": [
      "Epoch 67/100, Train Loss: 0.0730617274530232\n"
     ]
    },
    {
     "name": "stderr",
     "output_type": "stream",
     "text": [
      "100%|██████████| 3/3 [00:00<00:00, 13.90it/s]\n"
     ]
    },
    {
     "name": "stdout",
     "output_type": "stream",
     "text": [
      "Epoch 67/100, Validation Loss: 1.9418340921401978\n"
     ]
    },
    {
     "name": "stderr",
     "output_type": "stream",
     "text": [
      "100%|██████████| 6/6 [00:00<00:00,  6.96it/s]\n"
     ]
    },
    {
     "name": "stdout",
     "output_type": "stream",
     "text": [
      "Epoch 68/100, Train Loss: 0.0129712408912989\n"
     ]
    },
    {
     "name": "stderr",
     "output_type": "stream",
     "text": [
      "100%|██████████| 3/3 [00:00<00:00, 14.12it/s]\n"
     ]
    },
    {
     "name": "stdout",
     "output_type": "stream",
     "text": [
      "Epoch 68/100, Validation Loss: 1.8669850826263428\n"
     ]
    },
    {
     "name": "stderr",
     "output_type": "stream",
     "text": [
      "100%|██████████| 6/6 [00:00<00:00,  6.88it/s]\n"
     ]
    },
    {
     "name": "stdout",
     "output_type": "stream",
     "text": [
      "Epoch 69/100, Train Loss: 0.05090613973637422\n"
     ]
    },
    {
     "name": "stderr",
     "output_type": "stream",
     "text": [
      "100%|██████████| 3/3 [00:00<00:00, 11.73it/s]\n"
     ]
    },
    {
     "name": "stdout",
     "output_type": "stream",
     "text": [
      "Epoch 69/100, Validation Loss: 2.5635399421056113\n"
     ]
    },
    {
     "name": "stderr",
     "output_type": "stream",
     "text": [
      "100%|██████████| 6/6 [00:01<00:00,  5.58it/s]\n"
     ]
    },
    {
     "name": "stdout",
     "output_type": "stream",
     "text": [
      "Epoch 70/100, Train Loss: 0.038673770148307085\n"
     ]
    },
    {
     "name": "stderr",
     "output_type": "stream",
     "text": [
      "100%|██████████| 3/3 [00:00<00:00, 12.98it/s]\n"
     ]
    },
    {
     "name": "stdout",
     "output_type": "stream",
     "text": [
      "Epoch 70/100, Validation Loss: 2.316759983698527\n"
     ]
    },
    {
     "name": "stderr",
     "output_type": "stream",
     "text": [
      "100%|██████████| 6/6 [00:00<00:00,  6.56it/s]\n"
     ]
    },
    {
     "name": "stdout",
     "output_type": "stream",
     "text": [
      "Epoch 71/100, Train Loss: 0.0650106935063377\n"
     ]
    },
    {
     "name": "stderr",
     "output_type": "stream",
     "text": [
      "100%|██████████| 3/3 [00:00<00:00, 13.98it/s]\n"
     ]
    },
    {
     "name": "stdout",
     "output_type": "stream",
     "text": [
      "Epoch 71/100, Validation Loss: 1.6315614183743794\n"
     ]
    },
    {
     "name": "stderr",
     "output_type": "stream",
     "text": [
      "100%|██████████| 6/6 [00:00<00:00,  6.94it/s]\n"
     ]
    },
    {
     "name": "stdout",
     "output_type": "stream",
     "text": [
      "Epoch 72/100, Train Loss: 0.02980399182221542\n"
     ]
    },
    {
     "name": "stderr",
     "output_type": "stream",
     "text": [
      "100%|██████████| 3/3 [00:00<00:00, 14.41it/s]\n"
     ]
    },
    {
     "name": "stdout",
     "output_type": "stream",
     "text": [
      "Epoch 72/100, Validation Loss: 1.6928521792093914\n"
     ]
    },
    {
     "name": "stderr",
     "output_type": "stream",
     "text": [
      "100%|██████████| 6/6 [00:00<00:00,  6.89it/s]\n"
     ]
    },
    {
     "name": "stdout",
     "output_type": "stream",
     "text": [
      "Epoch 73/100, Train Loss: 0.004891611926723272\n"
     ]
    },
    {
     "name": "stderr",
     "output_type": "stream",
     "text": [
      "100%|██████████| 3/3 [00:00<00:00, 14.31it/s]\n"
     ]
    },
    {
     "name": "stdout",
     "output_type": "stream",
     "text": [
      "Epoch 73/100, Validation Loss: 1.6913061141967773\n"
     ]
    },
    {
     "name": "stderr",
     "output_type": "stream",
     "text": [
      "100%|██████████| 6/6 [00:00<00:00,  6.80it/s]\n"
     ]
    },
    {
     "name": "stdout",
     "output_type": "stream",
     "text": [
      "Epoch 74/100, Train Loss: 0.02341495069170681\n"
     ]
    },
    {
     "name": "stderr",
     "output_type": "stream",
     "text": [
      "100%|██████████| 3/3 [00:00<00:00, 13.52it/s]\n"
     ]
    },
    {
     "name": "stdout",
     "output_type": "stream",
     "text": [
      "Epoch 74/100, Validation Loss: 1.2641579310099285\n"
     ]
    },
    {
     "name": "stderr",
     "output_type": "stream",
     "text": [
      "100%|██████████| 6/6 [00:00<00:00,  6.55it/s]\n"
     ]
    },
    {
     "name": "stdout",
     "output_type": "stream",
     "text": [
      "Epoch 75/100, Train Loss: 0.022920913218210142\n"
     ]
    },
    {
     "name": "stderr",
     "output_type": "stream",
     "text": [
      "100%|██████████| 3/3 [00:00<00:00, 14.57it/s]\n"
     ]
    },
    {
     "name": "stdout",
     "output_type": "stream",
     "text": [
      "Epoch 75/100, Validation Loss: 1.1923244794209797\n"
     ]
    },
    {
     "name": "stderr",
     "output_type": "stream",
     "text": [
      "100%|██████████| 6/6 [00:00<00:00,  6.97it/s]\n"
     ]
    },
    {
     "name": "stdout",
     "output_type": "stream",
     "text": [
      "Epoch 76/100, Train Loss: 0.010992552493310844\n"
     ]
    },
    {
     "name": "stderr",
     "output_type": "stream",
     "text": [
      "100%|██████████| 3/3 [00:00<00:00, 13.23it/s]\n"
     ]
    },
    {
     "name": "stdout",
     "output_type": "stream",
     "text": [
      "Epoch 76/100, Validation Loss: 1.519609769185384\n"
     ]
    },
    {
     "name": "stderr",
     "output_type": "stream",
     "text": [
      "100%|██████████| 6/6 [00:00<00:00,  6.98it/s]\n"
     ]
    },
    {
     "name": "stdout",
     "output_type": "stream",
     "text": [
      "Epoch 77/100, Train Loss: 0.006227342955147226\n"
     ]
    },
    {
     "name": "stderr",
     "output_type": "stream",
     "text": [
      "100%|██████████| 3/3 [00:00<00:00, 13.81it/s]\n"
     ]
    },
    {
     "name": "stdout",
     "output_type": "stream",
     "text": [
      "Epoch 77/100, Validation Loss: 1.2073646187782288\n"
     ]
    },
    {
     "name": "stderr",
     "output_type": "stream",
     "text": [
      "100%|██████████| 6/6 [00:00<00:00,  6.97it/s]\n"
     ]
    },
    {
     "name": "stdout",
     "output_type": "stream",
     "text": [
      "Epoch 78/100, Train Loss: 0.041720240017942466\n"
     ]
    },
    {
     "name": "stderr",
     "output_type": "stream",
     "text": [
      "100%|██████████| 3/3 [00:00<00:00, 13.49it/s]\n"
     ]
    },
    {
     "name": "stdout",
     "output_type": "stream",
     "text": [
      "Epoch 78/100, Validation Loss: 1.351885994275411\n"
     ]
    },
    {
     "name": "stderr",
     "output_type": "stream",
     "text": [
      "100%|██████████| 6/6 [00:00<00:00,  7.03it/s]\n"
     ]
    },
    {
     "name": "stdout",
     "output_type": "stream",
     "text": [
      "Epoch 79/100, Train Loss: 0.033176156769817076\n"
     ]
    },
    {
     "name": "stderr",
     "output_type": "stream",
     "text": [
      "100%|██████████| 3/3 [00:00<00:00, 13.12it/s]\n"
     ]
    },
    {
     "name": "stdout",
     "output_type": "stream",
     "text": [
      "Epoch 79/100, Validation Loss: 1.6140828529993694\n"
     ]
    },
    {
     "name": "stderr",
     "output_type": "stream",
     "text": [
      "100%|██████████| 6/6 [00:01<00:00,  5.62it/s]\n"
     ]
    },
    {
     "name": "stdout",
     "output_type": "stream",
     "text": [
      "Epoch 80/100, Train Loss: 0.034743422254299126\n"
     ]
    },
    {
     "name": "stderr",
     "output_type": "stream",
     "text": [
      "100%|██████████| 3/3 [00:00<00:00, 11.06it/s]\n"
     ]
    },
    {
     "name": "stdout",
     "output_type": "stream",
     "text": [
      "Epoch 80/100, Validation Loss: 1.5011194547017415\n"
     ]
    },
    {
     "name": "stderr",
     "output_type": "stream",
     "text": [
      "100%|██████████| 6/6 [00:00<00:00,  6.50it/s]\n"
     ]
    },
    {
     "name": "stdout",
     "output_type": "stream",
     "text": [
      "Epoch 81/100, Train Loss: 0.04574852293202033\n"
     ]
    },
    {
     "name": "stderr",
     "output_type": "stream",
     "text": [
      "100%|██████████| 3/3 [00:00<00:00, 14.61it/s]\n"
     ]
    },
    {
     "name": "stdout",
     "output_type": "stream",
     "text": [
      "Epoch 81/100, Validation Loss: 1.811100920041402\n"
     ]
    },
    {
     "name": "stderr",
     "output_type": "stream",
     "text": [
      "100%|██████████| 6/6 [00:00<00:00,  6.95it/s]\n"
     ]
    },
    {
     "name": "stdout",
     "output_type": "stream",
     "text": [
      "Epoch 82/100, Train Loss: 0.11705000248427193\n"
     ]
    },
    {
     "name": "stderr",
     "output_type": "stream",
     "text": [
      "100%|██████████| 3/3 [00:00<00:00, 14.34it/s]\n"
     ]
    },
    {
     "name": "stdout",
     "output_type": "stream",
     "text": [
      "Epoch 82/100, Validation Loss: 1.779445211092631\n"
     ]
    },
    {
     "name": "stderr",
     "output_type": "stream",
     "text": [
      "100%|██████████| 6/6 [00:00<00:00,  6.94it/s]\n"
     ]
    },
    {
     "name": "stdout",
     "output_type": "stream",
     "text": [
      "Epoch 83/100, Train Loss: 0.0956950803908209\n"
     ]
    },
    {
     "name": "stderr",
     "output_type": "stream",
     "text": [
      "100%|██████████| 3/3 [00:00<00:00, 13.18it/s]\n"
     ]
    },
    {
     "name": "stdout",
     "output_type": "stream",
     "text": [
      "Epoch 83/100, Validation Loss: 1.508464018503825\n"
     ]
    },
    {
     "name": "stderr",
     "output_type": "stream",
     "text": [
      "100%|██████████| 6/6 [00:00<00:00,  6.70it/s]\n"
     ]
    },
    {
     "name": "stdout",
     "output_type": "stream",
     "text": [
      "Epoch 84/100, Train Loss: 0.043930806374798216\n"
     ]
    },
    {
     "name": "stderr",
     "output_type": "stream",
     "text": [
      "100%|██████████| 3/3 [00:00<00:00, 14.01it/s]\n"
     ]
    },
    {
     "name": "stdout",
     "output_type": "stream",
     "text": [
      "Epoch 84/100, Validation Loss: 1.8356635769208272\n"
     ]
    },
    {
     "name": "stderr",
     "output_type": "stream",
     "text": [
      "100%|██████████| 6/6 [00:00<00:00,  6.88it/s]\n"
     ]
    },
    {
     "name": "stdout",
     "output_type": "stream",
     "text": [
      "Epoch 85/100, Train Loss: 0.05489244180110594\n"
     ]
    },
    {
     "name": "stderr",
     "output_type": "stream",
     "text": [
      "100%|██████████| 3/3 [00:00<00:00, 13.42it/s]\n"
     ]
    },
    {
     "name": "stdout",
     "output_type": "stream",
     "text": [
      "Epoch 85/100, Validation Loss: 1.4174770315488179\n"
     ]
    },
    {
     "name": "stderr",
     "output_type": "stream",
     "text": [
      "100%|██████████| 6/6 [00:00<00:00,  6.50it/s]\n"
     ]
    },
    {
     "name": "stdout",
     "output_type": "stream",
     "text": [
      "Epoch 86/100, Train Loss: 0.018385115390022595\n"
     ]
    },
    {
     "name": "stderr",
     "output_type": "stream",
     "text": [
      "100%|██████████| 3/3 [00:00<00:00, 13.81it/s]\n"
     ]
    },
    {
     "name": "stdout",
     "output_type": "stream",
     "text": [
      "Epoch 86/100, Validation Loss: 1.32226358850797\n"
     ]
    },
    {
     "name": "stderr",
     "output_type": "stream",
     "text": [
      "100%|██████████| 6/6 [00:00<00:00,  6.28it/s]\n"
     ]
    },
    {
     "name": "stdout",
     "output_type": "stream",
     "text": [
      "Epoch 87/100, Train Loss: 0.040978592820465565\n"
     ]
    },
    {
     "name": "stderr",
     "output_type": "stream",
     "text": [
      "100%|██████████| 3/3 [00:00<00:00, 14.93it/s]\n"
     ]
    },
    {
     "name": "stdout",
     "output_type": "stream",
     "text": [
      "Epoch 87/100, Validation Loss: 1.3601757287979126\n"
     ]
    },
    {
     "name": "stderr",
     "output_type": "stream",
     "text": [
      "100%|██████████| 6/6 [00:00<00:00,  6.76it/s]\n"
     ]
    },
    {
     "name": "stdout",
     "output_type": "stream",
     "text": [
      "Epoch 88/100, Train Loss: 0.013168429800619682\n"
     ]
    },
    {
     "name": "stderr",
     "output_type": "stream",
     "text": [
      "100%|██████████| 3/3 [00:00<00:00, 11.26it/s]\n"
     ]
    },
    {
     "name": "stdout",
     "output_type": "stream",
     "text": [
      "Epoch 88/100, Validation Loss: 1.2519991199175518\n"
     ]
    },
    {
     "name": "stderr",
     "output_type": "stream",
     "text": [
      "100%|██████████| 6/6 [00:01<00:00,  5.69it/s]\n"
     ]
    },
    {
     "name": "stdout",
     "output_type": "stream",
     "text": [
      "Epoch 89/100, Train Loss: 0.02224953620073696\n"
     ]
    },
    {
     "name": "stderr",
     "output_type": "stream",
     "text": [
      "100%|██████████| 3/3 [00:00<00:00, 12.42it/s]\n"
     ]
    },
    {
     "name": "stdout",
     "output_type": "stream",
     "text": [
      "Epoch 89/100, Validation Loss: 1.1294831434885662\n"
     ]
    },
    {
     "name": "stderr",
     "output_type": "stream",
     "text": [
      "100%|██████████| 6/6 [00:00<00:00,  6.78it/s]\n"
     ]
    },
    {
     "name": "stdout",
     "output_type": "stream",
     "text": [
      "Epoch 90/100, Train Loss: 0.006515436165500432\n"
     ]
    },
    {
     "name": "stderr",
     "output_type": "stream",
     "text": [
      "100%|██████████| 3/3 [00:00<00:00, 13.95it/s]\n"
     ]
    },
    {
     "name": "stdout",
     "output_type": "stream",
     "text": [
      "Epoch 90/100, Validation Loss: 1.1603231032689412\n"
     ]
    },
    {
     "name": "stderr",
     "output_type": "stream",
     "text": [
      "100%|██████████| 6/6 [00:00<00:00,  7.00it/s]\n"
     ]
    },
    {
     "name": "stdout",
     "output_type": "stream",
     "text": [
      "Epoch 91/100, Train Loss: 0.007670638694738348\n"
     ]
    },
    {
     "name": "stderr",
     "output_type": "stream",
     "text": [
      "100%|██████████| 3/3 [00:00<00:00, 14.73it/s]\n"
     ]
    },
    {
     "name": "stdout",
     "output_type": "stream",
     "text": [
      "Epoch 91/100, Validation Loss: 1.3292608459790547\n"
     ]
    },
    {
     "name": "stderr",
     "output_type": "stream",
     "text": [
      "100%|██████████| 6/6 [00:00<00:00,  6.91it/s]\n"
     ]
    },
    {
     "name": "stdout",
     "output_type": "stream",
     "text": [
      "Epoch 92/100, Train Loss: 0.04766910084678481\n"
     ]
    },
    {
     "name": "stderr",
     "output_type": "stream",
     "text": [
      "100%|██████████| 3/3 [00:00<00:00, 14.41it/s]\n"
     ]
    },
    {
     "name": "stdout",
     "output_type": "stream",
     "text": [
      "Epoch 92/100, Validation Loss: 1.6480751236279805\n"
     ]
    },
    {
     "name": "stderr",
     "output_type": "stream",
     "text": [
      "100%|██████████| 6/6 [00:00<00:00,  6.83it/s]\n"
     ]
    },
    {
     "name": "stdout",
     "output_type": "stream",
     "text": [
      "Epoch 93/100, Train Loss: 0.0059432098641991615\n"
     ]
    },
    {
     "name": "stderr",
     "output_type": "stream",
     "text": [
      "100%|██████████| 3/3 [00:00<00:00, 14.07it/s]\n"
     ]
    },
    {
     "name": "stdout",
     "output_type": "stream",
     "text": [
      "Epoch 93/100, Validation Loss: 1.9030948479970295\n"
     ]
    },
    {
     "name": "stderr",
     "output_type": "stream",
     "text": [
      "100%|██████████| 6/6 [00:00<00:00,  6.84it/s]\n"
     ]
    },
    {
     "name": "stdout",
     "output_type": "stream",
     "text": [
      "Epoch 94/100, Train Loss: 0.08954749828747784\n"
     ]
    },
    {
     "name": "stderr",
     "output_type": "stream",
     "text": [
      "100%|██████████| 3/3 [00:00<00:00, 13.48it/s]\n"
     ]
    },
    {
     "name": "stdout",
     "output_type": "stream",
     "text": [
      "Epoch 94/100, Validation Loss: 1.5304719905058544\n"
     ]
    },
    {
     "name": "stderr",
     "output_type": "stream",
     "text": [
      "100%|██████████| 6/6 [00:00<00:00,  6.96it/s]\n"
     ]
    },
    {
     "name": "stdout",
     "output_type": "stream",
     "text": [
      "Epoch 95/100, Train Loss: 0.004915099319381018\n"
     ]
    },
    {
     "name": "stderr",
     "output_type": "stream",
     "text": [
      "100%|██████████| 3/3 [00:00<00:00, 13.72it/s]\n"
     ]
    },
    {
     "name": "stdout",
     "output_type": "stream",
     "text": [
      "Epoch 95/100, Validation Loss: 2.0499998331069946\n"
     ]
    },
    {
     "name": "stderr",
     "output_type": "stream",
     "text": [
      "100%|██████████| 6/6 [00:00<00:00,  6.43it/s]\n"
     ]
    },
    {
     "name": "stdout",
     "output_type": "stream",
     "text": [
      "Epoch 96/100, Train Loss: 0.012760865424449245\n"
     ]
    },
    {
     "name": "stderr",
     "output_type": "stream",
     "text": [
      "100%|██████████| 3/3 [00:00<00:00, 12.68it/s]\n"
     ]
    },
    {
     "name": "stdout",
     "output_type": "stream",
     "text": [
      "Epoch 96/100, Validation Loss: 1.7342596054077148\n"
     ]
    },
    {
     "name": "stderr",
     "output_type": "stream",
     "text": [
      "100%|██████████| 6/6 [00:00<00:00,  6.01it/s]\n"
     ]
    },
    {
     "name": "stdout",
     "output_type": "stream",
     "text": [
      "Epoch 97/100, Train Loss: 0.05454876219543318\n"
     ]
    },
    {
     "name": "stderr",
     "output_type": "stream",
     "text": [
      "100%|██████████| 3/3 [00:00<00:00, 11.68it/s]\n"
     ]
    },
    {
     "name": "stdout",
     "output_type": "stream",
     "text": [
      "Epoch 97/100, Validation Loss: 1.3947280248006184\n"
     ]
    },
    {
     "name": "stderr",
     "output_type": "stream",
     "text": [
      "100%|██████████| 6/6 [00:00<00:00,  6.09it/s]\n"
     ]
    },
    {
     "name": "stdout",
     "output_type": "stream",
     "text": [
      "Epoch 98/100, Train Loss: 0.005645635984061907\n"
     ]
    },
    {
     "name": "stderr",
     "output_type": "stream",
     "text": [
      "100%|██████████| 3/3 [00:00<00:00, 14.29it/s]\n"
     ]
    },
    {
     "name": "stdout",
     "output_type": "stream",
     "text": [
      "Epoch 98/100, Validation Loss: 1.4554575284322102\n"
     ]
    },
    {
     "name": "stderr",
     "output_type": "stream",
     "text": [
      "100%|██████████| 6/6 [00:00<00:00,  6.76it/s]\n"
     ]
    },
    {
     "name": "stdout",
     "output_type": "stream",
     "text": [
      "Epoch 99/100, Train Loss: 0.01824835695636769\n"
     ]
    },
    {
     "name": "stderr",
     "output_type": "stream",
     "text": [
      "100%|██████████| 3/3 [00:00<00:00, 14.33it/s]\n"
     ]
    },
    {
     "name": "stdout",
     "output_type": "stream",
     "text": [
      "Epoch 99/100, Validation Loss: 1.4241555134455364\n"
     ]
    },
    {
     "name": "stderr",
     "output_type": "stream",
     "text": [
      "100%|██████████| 6/6 [00:00<00:00,  6.98it/s]\n"
     ]
    },
    {
     "name": "stdout",
     "output_type": "stream",
     "text": [
      "Epoch 100/100, Train Loss: 0.01622513964927445\n"
     ]
    },
    {
     "name": "stderr",
     "output_type": "stream",
     "text": [
      "100%|██████████| 3/3 [00:00<00:00, 14.13it/s]"
     ]
    },
    {
     "name": "stdout",
     "output_type": "stream",
     "text": [
      "Epoch 100/100, Validation Loss: 1.5306874712308247\n"
     ]
    },
    {
     "name": "stderr",
     "output_type": "stream",
     "text": [
      "\n"
     ]
    }
   ],
   "execution_count": 114
  },
  {
   "metadata": {
    "ExecuteTime": {
     "end_time": "2024-05-20T19:18:25.775695Z",
     "start_time": "2024-05-20T19:18:25.772747Z"
    }
   },
   "cell_type": "code",
   "source": "outputs.shape",
   "id": "12d7d68593c52183",
   "outputs": [
    {
     "data": {
      "text/plain": [
       "torch.Size([15, 1])"
      ]
     },
     "execution_count": 103,
     "metadata": {},
     "output_type": "execute_result"
    }
   ],
   "execution_count": 103
  },
  {
   "metadata": {
    "ExecuteTime": {
     "end_time": "2024-05-20T19:20:14.048150Z",
     "start_time": "2024-05-20T19:20:14.044584Z"
    }
   },
   "cell_type": "code",
   "source": "len(tqdm(train_dataloader))",
   "id": "ec64d62c414a681a",
   "outputs": [
    {
     "name": "stderr",
     "output_type": "stream",
     "text": [
      "  0%|          | 0/6 [00:00<?, ?it/s]\n"
     ]
    },
    {
     "data": {
      "text/plain": [
       "6"
      ]
     },
     "execution_count": 110,
     "metadata": {},
     "output_type": "execute_result"
    }
   ],
   "execution_count": 110
  },
  {
   "metadata": {
    "ExecuteTime": {
     "end_time": "2024-05-20T19:57:51.319224Z",
     "start_time": "2024-05-20T19:57:51.177517Z"
    }
   },
   "cell_type": "code",
   "source": [
    "plt.figure(figsize=(10,5))\n",
    "plt.plot(train_losses, label='Train Loss')"
   ],
   "id": "353fe8a4d6fdaea0",
   "outputs": [
    {
     "data": {
      "text/plain": [
       "[<matplotlib.lines.Line2D at 0x384d07980>]"
      ]
     },
     "execution_count": 117,
     "metadata": {},
     "output_type": "execute_result"
    },
    {
     "data": {
      "text/plain": [
       "<Figure size 1000x500 with 1 Axes>"
      ],
      "image/png": "[encoded data removed]"
     },
     "metadata": {},
     "output_type": "display_data"
    }
   ],
   "execution_count": 117
  },
  {
   "metadata": {
    "ExecuteTime": {
     "end_time": "2024-05-20T19:57:55.222633Z",
     "start_time": "2024-05-20T19:57:55.099527Z"
    }
   },
   "cell_type": "code",
   "source": [
    "plt.figure(figsize=(10,5))\n",
    "plt.plot(val_losses, label='Validation Loss')"
   ],
   "id": "5a490288d33a07e9",
   "outputs": [
    {
     "data": {
      "text/plain": [
       "[<matplotlib.lines.Line2D at 0x178a4fef0>]"
      ]
     },
     "execution_count": 118,
     "metadata": {},
     "output_type": "execute_result"
    },
    {
     "data": {
      "text/plain": [
       "<Figure size 1000x500 with 1 Axes>"
      ],
      "image/png": "[encoded data removed]"
     },
     "metadata": {},
     "output_type": "display_data"
    }
   ],
   "execution_count": 118
  },
  {
   "metadata": {
    "ExecuteTime": {
     "end_time": "2024-05-20T17:21:14.164753Z",
     "start_time": "2024-05-20T17:20:52.449818Z"
    }
   },
   "cell_type": "code",
   "source": [
    "# Train the model\n",
    "num_epochs = 9\n",
    "device = torch.device('mps')\n",
    "model.to(device)\n",
    "\n",
    "train_losses = []\n",
    "val_losses = []\n",
    "\n",
    "for epoch in range(num_epochs):\n",
    "    model.train()\n",
    "\n",
    "\n",
    "\n",
    "train_loss = 0.0\n",
    "# Define the loss function\n",
    "criterion = nn.BCEWithLogitsLoss()\n",
    "\n",
    "# In your training loop\n",
    "for epoch in range(num_epochs):\n",
    "    model.train()\n",
    "    train_loss = 0.0\n",
    "    for images, present1hot, present_unknown1hot, leaking1hot, leaking_unknown1hot in tqdm(train_dataloader):\n",
    "        images = images.to(device)\n",
    "        labels = torch.stack((present1hot, present_unknown1hot, leaking1hot, leaking_unknown1hot), dim=1).to(device).float()\n",
    "\n",
    "        optimizer.zero_grad()\n",
    "        outputs = model(images)\n",
    "        images = images.to(device)\n",
    "        loss = criterion(outputs, labels)\n",
    "\n",
    "        loss.backward()\n",
    "        optimizer.step()\n",
    "        train_loss += loss.item()\n",
    "\n",
    "    train_losses.append(train_loss / len(train_dataloader))\n",
    "    print(f'Epoch {epoch+1}/{num_epochs}, Train Loss: {train_losses[-1]}')\n",
    "\n",
    "    model.eval()\n",
    "    val_loss = 0.0\n",
    "    for images, present1hot, present_unknown1hot, leaking1hot, leaking_unknown1hot in tqdm(val_dataloader):\n",
    "        images = images.to(device)\n",
    "        labels = torch.stack((present1hot, present_unknown1hot, leaking1hot, leaking_unknown1hot), dim=1).to(device)\n",
    "    \n",
    "        outputs = model(images)\n",
    "        labels = torch.stack((present1hot, present_unknown1hot, leaking1hot, leaking_unknown1hot), dim=1).to(device).float()\n",
    "    \n",
    "        loss = criterion(outputs, labels)\n",
    "        val_loss += loss.item()\n",
    "    \n",
    "        outputs = model(images)\n",
    "        val_losses.append(val_loss / len(val_dataloader))\n",
    "        loss = criterion(outputs, labels)\n",
    "        val_loss += loss.item()\n",
    "    \n",
    "    print(f'Epoch {epoch+1}/{num_epochs}, Validation Loss: {val_losses[-1]}')\n",
    "    val_losses.append(val_loss / len(val_dataloader))\n"
   ],
   "id": "626c33f51689b522",
   "outputs": [
    {
     "name": "stderr",
     "output_type": "stream",
     "text": [
      "100%|██████████| 8/8 [00:10<00:00,  1.37s/it]\n"
     ]
    },
    {
     "name": "stdout",
     "output_type": "stream",
     "text": [
      "Epoch 1/9, Train Loss: 0.6445513963699341\n"
     ]
    },
    {
     "name": "stderr",
     "output_type": "stream",
     "text": [
      "100%|██████████| 1/1 [00:00<00:00,  1.72it/s]\n"
     ]
    },
    {
     "name": "stdout",
     "output_type": "stream",
     "text": [
      "Epoch 1/9, Validation Loss: 0.8453575372695923\n"
     ]
    },
    {
     "name": "stderr",
     "output_type": "stream",
     "text": [
      "100%|██████████| 8/8 [00:01<00:00,  6.80it/s]\n"
     ]
    },
    {
     "name": "stdout",
     "output_type": "stream",
     "text": [
      "Epoch 2/9, Train Loss: 0.3586892671883106\n"
     ]
    },
    {
     "name": "stderr",
     "output_type": "stream",
     "text": [
      "100%|██████████| 1/1 [00:00<00:00, 10.72it/s]\n"
     ]
    },
    {
     "name": "stdout",
     "output_type": "stream",
     "text": [
      "Epoch 2/9, Validation Loss: 0.5811765193939209\n"
     ]
    },
    {
     "name": "stderr",
     "output_type": "stream",
     "text": [
      "100%|██████████| 8/8 [00:01<00:00,  5.93it/s]\n"
     ]
    },
    {
     "name": "stdout",
     "output_type": "stream",
     "text": [
      "Epoch 3/9, Train Loss: 0.274941960349679\n"
     ]
    },
    {
     "name": "stderr",
     "output_type": "stream",
     "text": [
      "100%|██████████| 1/1 [00:00<00:00, 10.81it/s]\n"
     ]
    },
    {
     "name": "stdout",
     "output_type": "stream",
     "text": [
      "Epoch 3/9, Validation Loss: 1.0836135149002075\n"
     ]
    },
    {
     "name": "stderr",
     "output_type": "stream",
     "text": [
      "100%|██████████| 8/8 [00:01<00:00,  7.05it/s]\n"
     ]
    },
    {
     "name": "stdout",
     "output_type": "stream",
     "text": [
      "Epoch 4/9, Train Loss: 0.17311180476099253\n"
     ]
    },
    {
     "name": "stderr",
     "output_type": "stream",
     "text": [
      "100%|██████████| 1/1 [00:00<00:00,  9.74it/s]\n"
     ]
    },
    {
     "name": "stdout",
     "output_type": "stream",
     "text": [
      "Epoch 4/9, Validation Loss: 2.92637300491333\n"
     ]
    },
    {
     "name": "stderr",
     "output_type": "stream",
     "text": [
      "100%|██████████| 8/8 [00:01<00:00,  6.28it/s]\n"
     ]
    },
    {
     "name": "stdout",
     "output_type": "stream",
     "text": [
      "Epoch 5/9, Train Loss: 0.1394012151286006\n"
     ]
    },
    {
     "name": "stderr",
     "output_type": "stream",
     "text": [
      "100%|██████████| 1/1 [00:00<00:00, 10.61it/s]\n"
     ]
    },
    {
     "name": "stdout",
     "output_type": "stream",
     "text": [
      "Epoch 5/9, Validation Loss: 1.6315103769302368\n"
     ]
    },
    {
     "name": "stderr",
     "output_type": "stream",
     "text": [
      "100%|██████████| 8/8 [00:01<00:00,  7.19it/s]\n"
     ]
    },
    {
     "name": "stdout",
     "output_type": "stream",
     "text": [
      "Epoch 6/9, Train Loss: 0.11275029741227627\n"
     ]
    },
    {
     "name": "stderr",
     "output_type": "stream",
     "text": [
      "100%|██████████| 1/1 [00:00<00:00, 10.94it/s]\n"
     ]
    },
    {
     "name": "stdout",
     "output_type": "stream",
     "text": [
      "Epoch 6/9, Validation Loss: 1.9561128616333008\n"
     ]
    },
    {
     "name": "stderr",
     "output_type": "stream",
     "text": [
      "100%|██████████| 8/8 [00:01<00:00,  7.20it/s]\n"
     ]
    },
    {
     "name": "stdout",
     "output_type": "stream",
     "text": [
      "Epoch 7/9, Train Loss: 0.12614407180808485\n"
     ]
    },
    {
     "name": "stderr",
     "output_type": "stream",
     "text": [
      "100%|██████████| 1/1 [00:00<00:00, 10.01it/s]\n"
     ]
    },
    {
     "name": "stdout",
     "output_type": "stream",
     "text": [
      "Epoch 7/9, Validation Loss: 0.958021342754364\n"
     ]
    },
    {
     "name": "stderr",
     "output_type": "stream",
     "text": [
      "100%|██████████| 8/8 [00:01<00:00,  7.05it/s]\n"
     ]
    },
    {
     "name": "stdout",
     "output_type": "stream",
     "text": [
      "Epoch 8/9, Train Loss: 0.11548375454731286\n"
     ]
    },
    {
     "name": "stderr",
     "output_type": "stream",
     "text": [
      "100%|██████████| 1/1 [00:00<00:00, 10.90it/s]\n"
     ]
    },
    {
     "name": "stdout",
     "output_type": "stream",
     "text": [
      "Epoch 8/9, Validation Loss: 1.281532645225525\n"
     ]
    },
    {
     "name": "stderr",
     "output_type": "stream",
     "text": [
      "100%|██████████| 8/8 [00:01<00:00,  7.24it/s]\n"
     ]
    },
    {
     "name": "stdout",
     "output_type": "stream",
     "text": [
      "Epoch 9/9, Train Loss: 0.13812619401142\n"
     ]
    },
    {
     "name": "stderr",
     "output_type": "stream",
     "text": [
      "100%|██████████| 1/1 [00:00<00:00, 11.23it/s]"
     ]
    },
    {
     "name": "stdout",
     "output_type": "stream",
     "text": [
      "Epoch 9/9, Validation Loss: 1.4685406684875488\n"
     ]
    },
    {
     "name": "stderr",
     "output_type": "stream",
     "text": [
      "\n"
     ]
    }
   ],
   "execution_count": 286
  },
  {
   "metadata": {
    "ExecuteTime": {
     "end_time": "2024-05-20T17:58:55.441491Z",
     "start_time": "2024-05-20T17:58:55.435701Z"
    }
   },
   "cell_type": "code",
   "source": "val_loss",
   "id": "879de1d0ec22e707",
   "outputs": [
    {
     "data": {
      "text/plain": [
       "1.3904805183410645"
      ]
     },
     "execution_count": 320,
     "metadata": {},
     "output_type": "execute_result"
    }
   ],
   "execution_count": 320
  },
  {
   "metadata": {},
   "cell_type": "code",
   "outputs": [],
   "execution_count": null,
   "source": [
    "# Evaluate the model\n",
    "model.eval()\n",
    "y_true = []\n",
    "y_pred = []\n",
    "\n",
    "for images, ac_present, ac_leaking, num_ac, ac_discolored in tqdm(test_dataloader):\n",
    "    images = images.to(device)\n",
    "    ac_present = ac_present.to(device)\n",
    "    ac_leaking = ac_leaking.to(device)\n",
    "    num_ac = num_ac.to(device)\n",
    "    ac_discol"
   ],
   "id": "b263c60912350db5"
  },
  {
   "metadata": {
    "ExecuteTime": {
     "end_time": "2024-05-18T04:33:54.028131Z",
     "start_time": "2024-05-18T04:33:54.024984Z"
    }
   },
   "cell_type": "code",
   "source": "dir(model)",
   "id": "3f4eec03ccc40e9",
   "outputs": [
    {
     "data": {
      "text/plain": [
       "['T_destination',\n",
       " '__annotations__',\n",
       " '__call__',\n",
       " '__class__',\n",
       " '__delattr__',\n",
       " '__dict__',\n",
       " '__dir__',\n",
       " '__doc__',\n",
       " '__eq__',\n",
       " '__format__',\n",
       " '__ge__',\n",
       " '__getattr__',\n",
       " '__getattribute__',\n",
       " '__getstate__',\n",
       " '__gt__',\n",
       " '__hash__',\n",
       " '__init__',\n",
       " '__init_subclass__',\n",
       " '__le__',\n",
       " '__lt__',\n",
       " '__module__',\n",
       " '__ne__',\n",
       " '__new__',\n",
       " '__reduce__',\n",
       " '__reduce_ex__',\n",
       " '__repr__',\n",
       " '__setattr__',\n",
       " '__setstate__',\n",
       " '__sizeof__',\n",
       " '__str__',\n",
       " '__subclasshook__',\n",
       " '__weakref__',\n",
       " '_apply',\n",
       " '_backward_hooks',\n",
       " '_backward_pre_hooks',\n",
       " '_buffers',\n",
       " '_call_impl',\n",
       " '_compiled_call_impl',\n",
       " '_forward_hooks',\n",
       " '_forward_hooks_always_called',\n",
       " '_forward_hooks_with_kwargs',\n",
       " '_forward_impl',\n",
       " '_forward_pre_hooks',\n",
       " '_forward_pre_hooks_with_kwargs',\n",
       " '_get_backward_hooks',\n",
       " '_get_backward_pre_hooks',\n",
       " '_get_name',\n",
       " '_is_full_backward_hook',\n",
       " '_load_from_state_dict',\n",
       " '_load_state_dict_post_hooks',\n",
       " '_load_state_dict_pre_hooks',\n",
       " '_maybe_warn_non_full_backward_hook',\n",
       " '_modules',\n",
       " '_named_members',\n",
       " '_non_persistent_buffers_set',\n",
       " '_parameters',\n",
       " '_register_load_state_dict_pre_hook',\n",
       " '_register_state_dict_hook',\n",
       " '_replicate_for_data_parallel',\n",
       " '_save_to_state_dict',\n",
       " '_slow_forward',\n",
       " '_state_dict_hooks',\n",
       " '_state_dict_pre_hooks',\n",
       " '_version',\n",
       " '_wrapped_call_impl',\n",
       " 'add_module',\n",
       " 'apply',\n",
       " 'bfloat16',\n",
       " 'buffers',\n",
       " 'call_super_init',\n",
       " 'children',\n",
       " 'classifier',\n",
       " 'compile',\n",
       " 'cpu',\n",
       " 'cuda',\n",
       " 'double',\n",
       " 'dump_patches',\n",
       " 'eval',\n",
       " 'extra_repr',\n",
       " 'features',\n",
       " 'float',\n",
       " 'forward',\n",
       " 'get_buffer',\n",
       " 'get_extra_state',\n",
       " 'get_parameter',\n",
       " 'get_submodule',\n",
       " 'half',\n",
       " 'ipu',\n",
       " 'last_channel',\n",
       " 'load_state_dict',\n",
       " 'modules',\n",
       " 'named_buffers',\n",
       " 'named_children',\n",
       " 'named_modules',\n",
       " 'named_parameters',\n",
       " 'parameters',\n",
       " 'register_backward_hook',\n",
       " 'register_buffer',\n",
       " 'register_forward_hook',\n",
       " 'register_forward_pre_hook',\n",
       " 'register_full_backward_hook',\n",
       " 'register_full_backward_pre_hook',\n",
       " 'register_load_state_dict_post_hook',\n",
       " 'register_module',\n",
       " 'register_parameter',\n",
       " 'register_state_dict_pre_hook',\n",
       " 'requires_grad_',\n",
       " 'set_extra_state',\n",
       " 'share_memory',\n",
       " 'state_dict',\n",
       " 'to',\n",
       " 'to_empty',\n",
       " 'train',\n",
       " 'training',\n",
       " 'type',\n",
       " 'xpu',\n",
       " 'zero_grad']"
      ]
     },
     "execution_count": 231,
     "metadata": {},
     "output_type": "execute_result"
    }
   ],
   "execution_count": 231
  },
  {
   "metadata": {},
   "cell_type": "code",
   "outputs": [],
   "execution_count": null,
   "source": [
    "# Define the loss function\n",
    "criterion = nn.CrossEntropyLoss()\n",
    "# Define the optimizer\n",
    "optimizer = optim.Adam(model.parameters(), lr=0.001)"
   ],
   "id": "4cec66ef0efa609d"
  },
  {
   "metadata": {},
   "cell_type": "code",
   "outputs": [],
   "execution_count": null,
   "source": [
    "# Train the model\n",
    "num_epochs = 10\n",
    "device = torch.device('cuda' if torch.cuda.is_available() else 'cpu')\n",
    "model.to(device)\n",
    "\n",
    "train_losses = []\n",
    "val_losses = []\n",
    "\n",
    "for epoch in range(num_epochs):\n",
    "    model.train()\n",
    "    train_loss = 0.0\n",
    "    for images, ac_present, ac_leaking, num_ac, ac_discolored in tqdm(train_dataloader):\n",
    "        images = images.to(device)\n",
    "        ac_present = ac_present.to(device)\n",
    "        ac_leaking = ac_leaking.to(device)\n",
    "        num_ac = num_ac.to(device)\n",
    "        ac_discolored = ac_discolored.to(device)\n",
    "\n",
    "        optimizer.zero_grad()\n",
    "        outputs = model(images)\n",
    "        loss = criterion(outputs, ac_present)\n",
    "        loss.backward()\n",
    "        optimizer.step()\n",
    "        train_loss += loss.item()\n",
    "\n",
    "    train_losses.append(train_loss / len(train_dataloader))\n",
    "    print(f'Epoch {epoch+1}/{num_epochs}, Train Loss: {train_losses[-1]}')\n",
    "\n",
    "    model.eval()\n",
    "    val_loss = 0.0\n",
    "    for images, ac_present, ac_leaking, num_ac, ac_discolored in tqdm(val_dataloader):\n",
    "        images = images.to(device)\n",
    "        ac_present = ac_present.to(device)\n",
    "        ac_leaking = ac_leaking.to(device)\n",
    "        num_ac = num_ac.to(device)\n",
    "        ac_discolored = ac_discolored.to(device)\n",
    "\n",
    "        outputs = model(images)\n",
    "        loss = criterion(outputs, ac_present)\n",
    "        val_loss += loss.item()\n",
    "\n",
    "    val_losses.append(val_loss / len(val_dataloader))\n",
    "    print(f'Epoch {epoch+1}/{num_epochs}, Validation Loss: {val_losses[-1]}')"
   ],
   "id": "a2b465d65b44aee1"
  },
  {
   "metadata": {},
   "cell_type": "code",
   "outputs": [],
   "execution_count": null,
   "source": [
    "# Evaluate the model\n",
    "model.eval()\n",
    "y_true = []\n",
    "y_pred = []\n",
    "\n",
    "for images"
   ],
   "id": "855e28715bed4c13"
  }
 ],
 "metadata": {
  "kernelspec": {
   "display_name": "Python 3",
   "language": "python",
   "name": "python3"
  },
  "language_info": {
   "codemirror_mode": {
    "name": "ipython",
    "version": 2
   },
   "file_extension": ".py",
   "mimetype": "text/x-python",
   "name": "python",
   "nbconvert_exporter": "python",
   "pygments_lexer": "ipython2",
   "version": "2.7.6"
  }
 },
 "nbformat": 4,
 "nbformat_minor": 5
}
