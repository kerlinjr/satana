{
 "cells": [
  {
   "cell_type": "code",
   "id": "initial_id",
   "metadata": {
    "collapsed": true,
    "ExecuteTime": {
     "end_time": "2024-05-07T21:09:41.221332Z",
     "start_time": "2024-05-07T21:09:39.425063Z"
    }
   },
   "source": [
    "import matplotlib.pyplot as plt # for plotting\n",
    "import numpy as np # for transformation\n",
    "\n",
    "import torch # PyTorch package\n",
    "import torchvision # load datasets\n",
    "import torchvision.transforms as transforms # transform data\n",
    "import torch.nn as nn # basic building block for neural neteorks\n",
    "import torch.nn.functional as F # import convolution functions like Relu\n",
    "import torch.optim as optim # optimzer\n",
    "\n"
   ],
   "outputs": [],
   "execution_count": 1
  },
  {
   "metadata": {
    "ExecuteTime": {
     "end_time": "2024-05-07T21:09:41.223701Z",
     "start_time": "2024-05-07T21:09:41.222301Z"
    }
   },
   "cell_type": "code",
   "source": "",
   "id": "b07247daac784ed1",
   "outputs": [],
   "execution_count": 1
  },
  {
   "metadata": {
    "ExecuteTime": {
     "end_time": "2024-05-07T21:17:43.909384Z",
     "start_time": "2024-05-07T21:17:43.852223Z"
    }
   },
   "cell_type": "code",
   "source": [
    "# python image library of range [0, 1] \n",
    "# transform them to tensors of normalized range[-1, 1]\n",
    "\n",
    "transform = transforms.Compose( # composing several transforms together\n",
    "    [transforms.ToTensor(), # to tensor object\n",
    "     transforms.Normalize((0.5, 0.5, 0.5), (0.5, 0.5, 0.5))]) # mean = 0.5, std = 0.5\n",
    "\n",
    "# set batch_size\n",
    "batch_size = 4\n",
    "\n",
    "# set number of workers\n",
    "num_workers = 2\n",
    "\n",
    "# load train data\n",
    "trainset = torchvision.datasets.KMNIST(root='../data', train=True,\n",
    "                                        download=True, transform=transform)\n",
    "trainloader = torch.utils.data.DataLoader(trainset, batch_size=batch_size,\n",
    "                                          shuffle=True, num_workers=num_workers)\n",
    "\n",
    "# load test data\n",
    "testset = torchvision.datasets.KMNIST(root='../data', train=False,\n",
    "                                       download=True, transform=transform)\n",
    "testloader = torch.utils.data.DataLoader(testset, batch_size=batch_size,\n",
    "                                         shuffle=False, num_workers=num_workers)\n",
    "\n",
    "\n"
   ],
   "id": "bf7eefd3914a3ae3",
   "outputs": [],
   "execution_count": 16
  },
  {
   "metadata": {
    "ExecuteTime": {
     "end_time": "2024-05-07T21:10:38.884897Z",
     "start_time": "2024-05-07T21:10:38.848438Z"
    }
   },
   "cell_type": "code",
   "source": [
    "import certifi\n",
    "import ssl\n",
    "\n",
    "ssl_context = ssl.SSLContext(ssl.PROTOCOL_TLS)\n",
    "ssl_context.load_verify_locations(certifi.where())"
   ],
   "id": "310820a4473e8ade",
   "outputs": [
    {
     "name": "stderr",
     "output_type": "stream",
     "text": [
      "/var/folders/2v/5ynl9w294pd7vyqtmlmp694r0000gn/T/ipykernel_25641/1545205924.py:4: DeprecationWarning: ssl.PROTOCOL_TLS is deprecated\n",
      "  ssl_context = ssl.SSLContext(ssl.PROTOCOL_TLS)\n"
     ]
    }
   ],
   "execution_count": 3
  },
  {
   "metadata": {
    "ExecuteTime": {
     "end_time": "2024-05-07T21:11:00.871481Z",
     "start_time": "2024-05-07T21:11:00.838757Z"
    }
   },
   "cell_type": "code",
   "source": [
    "import urllib.request\n",
    "\n",
    "response = urllib.request.urlopen(url, context=ssl_context)"
   ],
   "id": "f56004906ef86c03",
   "outputs": [
    {
     "ename": "NameError",
     "evalue": "name 'url' is not defined",
     "output_type": "error",
     "traceback": [
      "\u001B[0;31m---------------------------------------------------------------------------\u001B[0m",
      "\u001B[0;31mNameError\u001B[0m                                 Traceback (most recent call last)",
      "Cell \u001B[0;32mIn[4], line 3\u001B[0m\n\u001B[1;32m      1\u001B[0m \u001B[38;5;28;01mimport\u001B[39;00m \u001B[38;5;21;01murllib\u001B[39;00m\u001B[38;5;21;01m.\u001B[39;00m\u001B[38;5;21;01mrequest\u001B[39;00m\n\u001B[0;32m----> 3\u001B[0m response \u001B[38;5;241m=\u001B[39m urllib\u001B[38;5;241m.\u001B[39mrequest\u001B[38;5;241m.\u001B[39murlopen(\u001B[43murl\u001B[49m, context\u001B[38;5;241m=\u001B[39mssl_context)\n",
      "\u001B[0;31mNameError\u001B[0m: name 'url' is not defined"
     ]
    }
   ],
   "execution_count": 4
  },
  {
   "metadata": {
    "ExecuteTime": {
     "end_time": "2024-05-07T21:17:25.633190Z",
     "start_time": "2024-05-07T21:17:25.628019Z"
    }
   },
   "cell_type": "code",
   "source": "cd ../notebooks",
   "id": "f0777d4a214572ef",
   "outputs": [
    {
     "name": "stdout",
     "output_type": "stream",
     "text": [
      "/Users/jkerlin/PycharmProjects/satana/notebooks\n"
     ]
    }
   ],
   "execution_count": 14
  },
  {
   "metadata": {
    "ExecuteTime": {
     "end_time": "2024-05-07T21:17:27.470310Z",
     "start_time": "2024-05-07T21:17:27.466353Z"
    }
   },
   "cell_type": "code",
   "source": "pwd",
   "id": "450d899d9de37aa9",
   "outputs": [
    {
     "data": {
      "text/plain": [
       "'/Users/jkerlin/PycharmProjects/satana/notebooks'"
      ]
     },
     "execution_count": 15,
     "metadata": {},
     "output_type": "execute_result"
    }
   ],
   "execution_count": 15
  },
  {
   "metadata": {},
   "cell_type": "code",
   "outputs": [],
   "execution_count": null,
   "source": "",
   "id": "d2167159cd4f04fa"
  }
 ],
 "metadata": {
  "kernelspec": {
   "display_name": "Python 3",
   "language": "python",
   "name": "python3"
  },
  "language_info": {
   "codemirror_mode": {
    "name": "ipython",
    "version": 2
   },
   "file_extension": ".py",
   "mimetype": "text/x-python",
   "name": "python",
   "nbconvert_exporter": "python",
   "pygments_lexer": "ipython2",
   "version": "2.7.6"
  }
 },
 "nbformat": 4,
 "nbformat_minor": 5
}
