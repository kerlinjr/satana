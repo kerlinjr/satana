{
 "cells": [
  {
   "metadata": {
    "ExecuteTime": {
     "end_time": "2024-08-13T17:54:31.785648Z",
     "start_time": "2024-08-13T17:54:30.828366Z"
    }
   },
   "cell_type": "code",
   "source": [
    "# Function to convert bounding box to polygon\n",
    "import pandas as pd\n",
    "from shapely.geometry import Polygon\n",
    "import datasets\n",
    "from shapely.geometry import box\n",
    "\n",
    "import sys\n",
    "sys.path.append('../src/utils')\n",
    "\n",
    "from ac_object_etl_functions import *"
   ],
   "id": "f1b9f730f9aa35e1",
   "outputs": [],
   "execution_count": 1
  },
  {
   "metadata": {},
   "cell_type": "code",
   "source": [
    "#%load_ext memray\n",
    "# Load in the data labels\n",
    "params = {}\n",
    "#params['category_index_column'] = \"present1hot\"\n",
    "params['category_labels'] = ['No', 'Yes']\n",
    "params['images_folder'] = '../data/images/ac_150_images'\n",
    "params[\"data_labels_path\"] = '../data/labels/ac_150_labels_jess_notes.csv'\n",
    "params[\"annotation_path\"] = '../data/labels/Export v2 project - AC Unit Evaluation Test - 7_3_2024.ndjson'\n",
    "params[\"iou_threshold\"] = 1.0/3\n",
    "params[\"annotators_per_image\"] = 5\n",
    "# params['kernal'] = np.ones((12,12), np.uint8)\n",
    "# params['hsv_range'] = [[8, 120, 200], [12, 255, 255]]\n",
    "# params['min_ratio'] = 2\n",
    "params['dataset_version'] = 'v4'\n",
    "params['rerun_ds_generation'] = True\n",
    "\n",
    "prime_labels = load_ac_data_spreadsheet(params)\n",
    "prime_labels = prime_labels.rename(columns = {'row_number ': 'row_number'})\n",
    "label_set = pd.read_json(params[\"annotation_path\"], lines=True)\n",
    "df = extract_label_data(label_set)\n",
    "#join prime_labels row_number to df with image_id\n",
    "df = pd.merge(df, prime_labels[['image_id','row_number']], on = 'image_id', how = 'inner')\n",
    "df = df.rename(columns = {'row_number': 'image_orig_idx'})\n",
    "\n",
    "#remove intersecting bounding box (specific to ../data/images/ac_150)\n",
    "df = df[df['feature_id'] != 'clxgcq78i00hx3b6qit987ryb']\n",
    "\n",
    "matched_sets = generate_matched_sets(df, params[\"iou_threshold\"], params[\"annotators_per_image\"])\n",
    "\n",
    "params[\"image_ids\"] = prime_labels['image_id']\n",
    "mask_df = mask_images_by_box(params)\n",
    "\n",
    "#fix bounding boxes (specific to ../data/images/ac_150)\n",
    "mask_df.loc[mask_df['image_id'] == 'EC33B284-5C10-4EDA-AD17-5571259F97CA.jpeg',['x','y','w','h']] = [480,250,450,550]\n",
    "mask_df.loc[mask_df['image_id'] == '0AD2D165-CE95-4F5C-BF88-524EA08A686E.jpeg',['x','y','w','h']] = [730,375,218,390]\n",
    "\n",
    "# turn columns x,y,w,h in shapely polygons\n",
    "mask_df['mask_geometry'] = mask_df.apply(lambda row: box(row['x'], row['y'], row['x']+row['w'], row['y']+row['h']), axis=1)\n",
    "mask_df['mask_geometry'] = mask_df['mask_geometry'].apply(lambda x: Polygon(x.exterior.coords))\n",
    "\n",
    "full_train = pd.merge(matched_sets, mask_df, on = 'image_id', how = 'outer')\n",
    "no_annotation_rows = full_train.loc[full_train['roi_index'].isna(),:]\n",
    "\n",
    "no_annotation_rows.loc[no_annotation_rows['roi_index'].isna(),['roi_index','name','num_agree_in_set','set_order','connected_sets','averaged_polygons','percent_agreement']] = [-1,'AC Unit',5,0,{},Polygon([(0,0),(0,0),(0,0),(0,0),(0,0)]),100]\n",
    "\n",
    "no_annotation_rows2 = no_annotation_rows.copy(deep = True)\n",
    "no_annotation_rows2['name'] = 'AC leaking'\n",
    "\n",
    "full_train = pd.concat([full_train.dropna(subset = ['roi_index']), no_annotation_rows, no_annotation_rows2], axis = 0, ignore_index = True)\n",
    "\n",
    "\n",
    "# full_train.loc[full_train['roi_index'] != -1,'has_roi'] = 1\n",
    "# full_train.loc[full_train['roi_index'] == -1,'has_roi'] = 0\n",
    "\n",
    "full_train['mask_bbox'] = full_train['mask_geometry'].apply(lambda x: convert_polygon_to_bbox(x))\n",
    "full_train['category_bbox'] = full_train['averaged_polygons'].apply(lambda x: convert_polygon_to_bbox(x))\n",
    "\n",
    "\n",
    "if params['rerun_ds_generation']:\n",
    "    ds = generate_hf_ds(full_train.dropna(subset = ['roi_index']), mask_df, params)\n",
    "else:\n",
    "    print('Dataset generation skipped')\n",
    "    print('Loading previously generated dataset')\n",
    "    ds = datasets.load_from_disk(\"../data/models/ac_model/ac_object_\" + params['dataset_version'] + \".hf\")\n",
    "\n",
    "     "
   ],
   "id": "initial_id",
   "outputs": [],
   "execution_count": null
  },
  {
   "metadata": {},
   "cell_type": "code",
   "source": "prime_labels = load_ac_data_spreadsheet(params)",
   "id": "3e2d012697f19812",
   "outputs": [],
   "execution_count": null
  },
  {
   "metadata": {},
   "cell_type": "code",
   "source": [
    "prime_labels = prime_labels.reset_index()\n",
    "[['image_id','row_number']]"
   ],
   "id": "18f234ca677c9a7",
   "outputs": [],
   "execution_count": null
  },
  {
   "metadata": {},
   "cell_type": "code",
   "source": [
    "image_ids = ['EC33B284-5C10-4EDA-AD17-5571259F97CA.jpeg','0AD2D165-CE95-4F5C-BF88-524EA08A686E.jpeg']\n",
    "\n",
    "for image_id in image_ids:\n",
    "    patch_df = full_train[(full_train[\"image_id\"] == image_id)].reset_index(drop=True)\n",
    "    category = []\n",
    "    mask_geometry = patch_df['mask_geometry'].iloc[0]\n",
    "    category_polygons = []\n",
    "    image_path = patch_df['image_path'].iloc[0]\n",
    "    display_image_with_mask(image_path, mask_geometry, category_polygons, category, zoom = False)"
   ],
   "id": "6c4bb55251e0bb1f",
   "outputs": [],
   "execution_count": null
  },
  {
   "metadata": {},
   "cell_type": "code",
   "source": [
    "spot_check_annotations(full_train, 0, 80, False)\n",
    "spot_check_annotations(full_train, 404, 80, False)\n"
   ],
   "id": "217e7193077c4f45",
   "outputs": [],
   "execution_count": null
  }
 ],
 "metadata": {
  "kernelspec": {
   "display_name": "Python 3",
   "language": "python",
   "name": "python3"
  },
  "language_info": {
   "codemirror_mode": {
    "name": "ipython",
    "version": 2
   },
   "file_extension": ".py",
   "mimetype": "text/x-python",
   "name": "python",
   "nbconvert_exporter": "python",
   "pygments_lexer": "ipython2",
   "version": "2.7.6"
  }
 },
 "nbformat": 4,
 "nbformat_minor": 5
}
