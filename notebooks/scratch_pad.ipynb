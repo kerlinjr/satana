{
 "cells": [
  {
   "cell_type": "code",
   "id": "initial_id",
   "metadata": {
    "collapsed": true,
    "ExecuteTime": {
     "end_time": "2024-05-31T20:59:01.456929Z",
     "start_time": "2024-05-31T20:59:01.448769Z"
    }
   },
   "source": [
    "def decode(message_file):\n",
    "    # Import the csv module\n",
    "    import csv\n",
    "    \n",
    "    #Load the secret code data\n",
    "    with open(message_file, 'r') as f:\n",
    "        reader_obj = csv.reader(f, delimiter=' ')\n",
    "        data = dict(reader_obj)\n",
    "    \n",
    "    #Intialize variables\n",
    "    right_edge = 0\n",
    "    level = 0\n",
    "    decoded_message = ''\n",
    "    \n",
    "    #Iterate through the data to find the right-most number and concatenate the message\n",
    "    while right_edge < len(data):\n",
    "        right_edge += level+1\n",
    "        #Only if there is a key at the right edge, add it to the message\n",
    "        if str(right_edge) in data:\n",
    "            decoded_message += data[str(right_edge)] + ' '\n",
    "        else:\n",
    "            break\n",
    "        level += 1\n",
    "    \n",
    "    #remove the extra last space if there is a message\n",
    "    if len(decoded_message) > 0:\n",
    "        decoded_message = decoded_message[:-1]\n",
    "    else:\n",
    "        decoded_message = ValueError('No message found in the file')\n",
    "    \n",
    "    return decoded_message\n",
    "\n",
    "message_file = '/Users/jkerlin/Desktop/coding_qual_input.txt'\n",
    "decode(message_file)"
   ],
   "outputs": [
    {
     "data": {
      "text/plain": [
       "'young system present student lot experiment strong crease sun company hurry remember milk us repeat clothe against meant history indicate pitch print bread would'"
      ]
     },
     "execution_count": 31,
     "metadata": {},
     "output_type": "execute_result"
    }
   ],
   "execution_count": 31
  },
  {
   "metadata": {
    "ExecuteTime": {
     "end_time": "2024-05-31T17:53:43.378113Z",
     "start_time": "2024-05-31T17:53:43.373078Z"
    }
   },
   "cell_type": "code",
   "source": "",
   "id": "159392cc81655713",
   "outputs": [],
   "execution_count": 13
  },
  {
   "metadata": {
    "ExecuteTime": {
     "end_time": "2024-05-31T20:28:45.053646Z",
     "start_time": "2024-05-31T20:28:45.048044Z"
    }
   },
   "cell_type": "code",
   "source": [
    "\n",
    "\n",
    "    "
   ],
   "id": "2fa443c3774179a3",
   "outputs": [],
   "execution_count": 18
  },
  {
   "metadata": {
    "ExecuteTime": {
     "end_time": "2024-05-31T20:28:46.998508Z",
     "start_time": "2024-05-31T20:28:46.992835Z"
    }
   },
   "cell_type": "code",
   "source": "decoded_message",
   "id": "90c958c38eb37af1",
   "outputs": [
    {
     "data": {
      "text/plain": [
       "'I love computers '"
      ]
     },
     "execution_count": 19,
     "metadata": {},
     "output_type": "execute_result"
    }
   ],
   "execution_count": 19
  },
  {
   "metadata": {},
   "cell_type": "code",
   "outputs": [],
   "execution_count": null,
   "source": [
    "decoded_message\n",
    "\n",
    "with open('file.txt', 'r') as f:\n",
    "    reader = csv.reader(f, delimiter=' ')\n",
    "    data = list(reader)"
   ],
   "id": "cc94779e9ae5dc35"
  },
  {
   "metadata": {},
   "cell_type": "code",
   "outputs": [],
   "execution_count": null,
   "source": "",
   "id": "60fee762e6d4b142"
  }
 ],
 "metadata": {
  "kernelspec": {
   "display_name": "Python 3",
   "language": "python",
   "name": "python3"
  },
  "language_info": {
   "codemirror_mode": {
    "name": "ipython",
    "version": 2
   },
   "file_extension": ".py",
   "mimetype": "text/x-python",
   "name": "python",
   "nbconvert_exporter": "python",
   "pygments_lexer": "ipython2",
   "version": "2.7.6"
  }
 },
 "nbformat": 4,
 "nbformat_minor": 5
}
